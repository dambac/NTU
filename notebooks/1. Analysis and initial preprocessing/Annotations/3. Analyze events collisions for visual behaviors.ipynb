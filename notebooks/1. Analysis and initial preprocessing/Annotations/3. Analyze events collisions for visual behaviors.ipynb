{
 "cells": [
  {
   "cell_type": "code",
   "execution_count": 1,
   "metadata": {},
   "outputs": [
    {
     "name": "stdout",
     "output_type": "stream",
     "text": [
      "Constants loaded\n"
     ]
    }
   ],
   "source": [
    "%run /home/dbaciur/NTU/NTU/notes/Constants.ipynb"
   ]
  },
  {
   "cell_type": "code",
   "execution_count": 2,
   "metadata": {},
   "outputs": [],
   "source": [
    "import pandas as pd\n",
    "import numpy as np\n",
    "import os\n",
    "import matplotlib.pyplot as plt\n",
    "from tqdm import tqdm"
   ]
  },
  {
   "cell_type": "markdown",
   "metadata": {},
   "source": [
    "## Import annotations"
   ]
  },
  {
   "cell_type": "code",
   "execution_count": 6,
   "metadata": {},
   "outputs": [
    {
     "name": "stdout",
     "output_type": "stream",
     "text": [
      "19764\n",
      "14712\n",
      "5052\n"
     ]
    }
   ],
   "source": [
    "visual_df = pd.read_csv(C.VISUAL_EVENTS_PATH)\n",
    "visual_state_df = visual_df[visual_df[C.A_BEH_ID].isin(C.STATE_BEHS)]\n",
    "visual_point_df = visual_df[visual_df[C.A_BEH_ID].isin(C.POINT_BEHS)]\n",
    "print(len(visual_df))\n",
    "print(len(visual_state_df))\n",
    "print(len(visual_point_df))"
   ]
  },
  {
   "cell_type": "markdown",
   "metadata": {},
   "source": [
    "## Analyze length"
   ]
  },
  {
   "cell_type": "code",
   "execution_count": 8,
   "metadata": {},
   "outputs": [
    {
     "data": {
      "text/plain": [
       "<matplotlib.axes._subplots.AxesSubplot at 0x7f84908a6470>"
      ]
     },
     "execution_count": 8,
     "metadata": {},
     "output_type": "execute_result"
    },
    {
     "data": {
      "image/png": "[encoded data removed]",
      "text/plain": [
       "<Figure size 432x288 with 1 Axes>"
      ]
     },
     "metadata": {
      "needs_background": "light"
     },
     "output_type": "display_data"
    }
   ],
   "source": [
    "visual_state_df.boxplot(column=C.A_DURATION, by=C.A_BEH_ID)"
   ]
  },
  {
   "cell_type": "markdown",
   "metadata": {},
   "source": [
    "# Analyze collisions - deprecated (will be in python repo)"
   ]
  },
  {
   "cell_type": "code",
   "execution_count": 6,
   "metadata": {},
   "outputs": [
    {
     "data": {
      "text/plain": [
       "114"
      ]
     },
     "execution_count": 6,
     "metadata": {},
     "output_type": "execute_result"
    }
   ],
   "source": [
    "videos_set = annotations_df[VIDEO].unique()\n",
    "number_of_videos = len(videos_set)\n",
    "number_of_videos"
   ]
  },
  {
   "cell_type": "code",
   "execution_count": 9,
   "metadata": {},
   "outputs": [
    {
     "data": {
      "text/plain": [
       "[(1, 7),\n",
       " (1, 13),\n",
       " (1, 15),\n",
       " (1, 22),\n",
       " (7, 1),\n",
       " (7, 13),\n",
       " (7, 15),\n",
       " (7, 22),\n",
       " (13, 1),\n",
       " (13, 7),\n",
       " (13, 15),\n",
       " (13, 22),\n",
       " (15, 1),\n",
       " (15, 7),\n",
       " (15, 13),\n",
       " (15, 22),\n",
       " (22, 1),\n",
       " (22, 7),\n",
       " (22, 13),\n",
       " (22, 15)]"
      ]
     },
     "execution_count": 9,
     "metadata": {},
     "output_type": "execute_result"
    }
   ],
   "source": [
    "beh_pairs = []\n",
    "for beh1 in REL_STATE_BEH:\n",
    "    for beh2 in REL_STATE_BEH:\n",
    "        if beh1 == beh2:\n",
    "            continue\n",
    "        beh_pairs.append((beh1, beh2))\n",
    "beh_pairs"
   ]
  },
  {
   "cell_type": "code",
   "execution_count": 10,
   "metadata": {},
   "outputs": [],
   "source": [
    "class CollisionsData:\n",
    "    \n",
    "    def __init__(self, beh_pair, beh1_count, collisions_count, collisions_on_average):\n",
    "        self.beh_pair = beh_pair\n",
    "        self.beh1_count = beh1_count\n",
    "        self.collisions_count = collisions_count\n",
    "        self.collisions_on_average = collisions_on_average\n",
    "    \n",
    "    def __repr__(self):\n",
    "        return f\"{self.beh_pair}, {self.beh1_count}, {self.collisions_count}, {self.collisions_on_average}\""
   ]
  },
  {
   "cell_type": "code",
   "execution_count": 11,
   "metadata": {},
   "outputs": [
    {
     "name": "stderr",
     "output_type": "stream",
     "text": [
      "100%|██████████| 114/114 [00:56<00:00,  2.02it/s]\n"
     ]
    }
   ],
   "source": [
    "videos_collisions_data_by_pair = dict()\n",
    "for pair in beh_pairs:\n",
    "    videos_collisions_data_by_pair[pair] = []\n",
    "    \n",
    "for video in tqdm(videos_set):\n",
    "    \n",
    "    for pair in beh_pairs:\n",
    "        \n",
    "        beh_1 = pair[0]\n",
    "        beh_2 = pair[1]\n",
    "        \n",
    "        beh_1_df = annotations_df[(annotations_df[VIDEO] == video) & (annotations_df[BEHAVIOR_ID] == beh_1)]\n",
    "        beh_2_df = annotations_df[(annotations_df[VIDEO] == video) & (annotations_df[BEHAVIOR_ID] == beh_2)]\n",
    "        \n",
    "        beh_1_count = len(beh_1_df)\n",
    "        beh_1_coll_count = 0\n",
    "        for row_index1, row1 in beh_1_df.iterrows():\n",
    "            \n",
    "            start1 = row1[START]\n",
    "            stop1 = row1[STOP]\n",
    "            \n",
    "            for row_index2, row2 in beh_2_df.iterrows():\n",
    "                \n",
    "                start2 = row2[START]\n",
    "                stop2 = row2[STOP]\n",
    "                \n",
    "                no_collision = (stop1 < start2 or start1 > stop2)\n",
    "                if not no_collision:\n",
    "                    beh_1_coll_count += 1\n",
    "                    break\n",
    "        \n",
    "        # ignore videos where particular behavior doesn't even exist\n",
    "        if beh_1_count > 0:\n",
    "            avg = beh_1_coll_count / beh_1_count\n",
    "            coll_data = CollisionsData(pair, beh_1_count, beh_1_coll_count, avg)\n",
    "            videos_collisions_data_by_pair[pair].append(coll_data)\n",
    "        "
   ]
  },
  {
   "cell_type": "code",
   "execution_count": 12,
   "metadata": {},
   "outputs": [
    {
     "name": "stdout",
     "output_type": "stream",
     "text": [
      "98\n",
      "84\n"
     ]
    }
   ],
   "source": [
    "colls_videos_data = videos_collisions_data_by_pair[(B_CHARTS_S, B_IMAGES_S)]\n",
    "print(len(colls_videos_data))\n",
    "print(len(videos_collisions_data_by_pair[(B_IMAGES_S, B_CHARTS_S)]))"
   ]
  },
  {
   "cell_type": "code",
   "execution_count": 14,
   "metadata": {},
   "outputs": [
    {
     "name": "stdout",
     "output_type": "stream",
     "text": [
      "(7, 13)\n",
      "2\n",
      "0\n",
      "0.0\n"
     ]
    }
   ],
   "source": [
    "print(colls_videos_data[0].beh_pair)\n",
    "print(colls_videos_data[0].beh1_count)\n",
    "print(colls_videos_data[0].collisions_count)\n",
    "print(colls_videos_data[0].collisions_on_average)"
   ]
  },
  {
   "cell_type": "code",
   "execution_count": 15,
   "metadata": {},
   "outputs": [
    {
     "name": "stdout",
     "output_type": "stream",
     "text": [
      "True\n"
     ]
    }
   ],
   "source": [
    "is_valid = True\n",
    "for data in colls_videos_data:\n",
    "    if data.collisions_on_average > 1:\n",
    "        is_valid = False\n",
    "print(is_valid)"
   ]
  },
  {
   "cell_type": "code",
   "execution_count": 16,
   "metadata": {},
   "outputs": [
    {
     "name": "stdout",
     "output_type": "stream",
     "text": [
      "(7, 13), 16, 11, 0.6875\n",
      "(7, 13), 5, 1, 0.2\n",
      "(7, 13), 2, 2, 1.0\n",
      "(7, 13), 2, 2, 1.0\n",
      "(7, 13), 4, 1, 0.25\n",
      "(7, 13), 3, 3, 1.0\n",
      "(7, 13), 5, 2, 0.4\n",
      "(7, 13), 11, 11, 1.0\n",
      "(7, 13), 13, 4, 0.3076923076923077\n",
      "(7, 13), 13, 11, 0.8461538461538461\n",
      "(7, 13), 12, 11, 0.9166666666666666\n",
      "(7, 13), 12, 11, 0.9166666666666666\n",
      "(7, 13), 3, 3, 1.0\n",
      "(7, 13), 5, 1, 0.2\n",
      "(7, 13), 5, 4, 0.8\n",
      "(7, 13), 5, 5, 1.0\n",
      "(7, 13), 4, 2, 0.5\n",
      "(7, 13), 9, 5, 0.5555555555555556\n",
      "(7, 13), 4, 4, 1.0\n",
      "(7, 13), 6, 6, 1.0\n",
      "(7, 13), 2, 1, 0.5\n",
      "(7, 13), 2, 1, 0.5\n",
      "(7, 13), 12, 5, 0.4166666666666667\n",
      "(7, 13), 18, 13, 0.7222222222222222\n",
      "(7, 13), 33, 14, 0.42424242424242425\n",
      "(7, 13), 24, 17, 0.7083333333333334\n",
      "(7, 13), 31, 19, 0.6129032258064516\n",
      "(7, 13), 3, 1, 0.3333333333333333\n",
      "(7, 13), 5, 4, 0.8\n",
      "(7, 13), 7, 3, 0.42857142857142855\n",
      "(7, 13), 3, 3, 1.0\n",
      "(7, 13), 2, 2, 1.0\n",
      "(7, 13), 2, 2, 1.0\n",
      "(7, 13), 44, 14, 0.3181818181818182\n",
      "(7, 13), 62, 50, 0.8064516129032258\n",
      "(7, 13), 53, 45, 0.8490566037735849\n",
      "(7, 13), 18, 18, 1.0\n",
      "(7, 13), 32, 25, 0.78125\n",
      "(7, 13), 50, 39, 0.78\n",
      "(7, 13), 4, 2, 0.5\n",
      "(7, 13), 3, 2, 0.6666666666666666\n",
      "(7, 13), 7, 7, 1.0\n",
      "(7, 13), 9, 9, 1.0\n",
      "(7, 13), 10, 4, 0.4\n",
      "(7, 13), 10, 3, 0.3\n",
      "(7, 13), 16, 15, 0.9375\n",
      "(7, 13), 7, 7, 1.0\n",
      "(7, 13), 7, 7, 1.0\n",
      "(7, 13), 4, 4, 1.0\n",
      "(7, 13), 11, 11, 1.0\n",
      "(7, 13), 4, 4, 1.0\n",
      "(7, 13), 6, 5, 0.8333333333333334\n",
      "(7, 13), 4, 1, 0.25\n",
      "(7, 13), 2, 2, 1.0\n",
      "(7, 13), 10, 8, 0.8\n",
      "(7, 13), 3, 3, 1.0\n",
      "(7, 13), 7, 7, 1.0\n",
      "(7, 13), 14, 2, 0.14285714285714285\n",
      "(7, 13), 5, 3, 0.6\n",
      "(7, 13), 6, 5, 0.8333333333333334\n",
      "(7, 13), 6, 4, 0.6666666666666666\n",
      "(7, 13), 2, 2, 1.0\n",
      "(7, 13), 7, 5, 0.7142857142857143\n",
      "(7, 13), 15, 15, 1.0\n",
      "(7, 13), 13, 12, 0.9230769230769231\n",
      "(7, 13), 8, 8, 1.0\n",
      "(7, 13), 3, 3, 1.0\n",
      "(7, 13), 17, 17, 1.0\n",
      "(7, 13), 3, 3, 1.0\n",
      "(7, 13), 18, 15, 0.8333333333333334\n",
      "(7, 13), 22, 15, 0.6818181818181818\n",
      "(7, 13), 16, 11, 0.6875\n",
      "(7, 13), 15, 12, 0.8\n"
     ]
    }
   ],
   "source": [
    "for data in colls_videos_data:\n",
    "    if data.collisions_on_average > 0:\n",
    "        print(data)"
   ]
  },
  {
   "cell_type": "code",
   "execution_count": 21,
   "metadata": {},
   "outputs": [],
   "source": [
    "heatmap_data = []\n",
    "\n",
    "for beh1 in REL_STATE_BEH:\n",
    "    data = []\n",
    "    \n",
    "    for beh2 in REL_STATE_BEH:\n",
    "        if beh1 == beh2:\n",
    "            data.append(float('nan'))\n",
    "            continue\n",
    "        \n",
    "        videos_data = videos_collisions_data_by_pair[(beh1, beh2)]\n",
    "        sum_of_avg = 0\n",
    "        for video_data in videos_data:\n",
    "            sum_of_avg += video_data.collisions_on_average\n",
    "            \n",
    "        data.append(sum_of_avg / len(videos_data))\n",
    "    \n",
    "    heatmap_data.append(data)"
   ]
  },
  {
   "cell_type": "code",
   "execution_count": 22,
   "metadata": {},
   "outputs": [
    {
     "name": "stdout",
     "output_type": "stream",
     "text": [
      "5\n",
      "5\n"
     ]
    },
    {
     "data": {
      "text/plain": [
       "[[nan,\n",
       "  0.3988550898188066,\n",
       "  0.19392370869840334,\n",
       "  0.005809607129806978,\n",
       "  0.007151913043622953],\n",
       " [0.5540581273331855,\n",
       "  nan,\n",
       "  0.5625695817055185,\n",
       "  0.031612181250100936,\n",
       "  0.03698977632096802],\n",
       " [0.40489557714356167,\n",
       "  0.6597528554146331,\n",
       "  nan,\n",
       "  0.026358159671851008,\n",
       "  0.05716600094816481],\n",
       " [0.15290178571428573,\n",
       "  0.2092013888888889,\n",
       "  0.23649553571428572,\n",
       "  nan,\n",
       "  0.3677083333333333],\n",
       " [0.16456790123456788,\n",
       "  0.3065885462719748,\n",
       "  0.5272236165041929,\n",
       "  0.452991452991453,\n",
       "  nan]]"
      ]
     },
     "execution_count": 22,
     "metadata": {},
     "output_type": "execute_result"
    }
   ],
   "source": [
    "print(len(heatmap_data))\n",
    "print(len(heatmap_data[0]))\n",
    "heatmap_data\n"
   ]
  },
  {
   "cell_type": "code",
   "execution_count": 23,
   "metadata": {},
   "outputs": [
    {
     "data": {
      "text/plain": [
       "nan"
      ]
     },
     "execution_count": 23,
     "metadata": {},
     "output_type": "execute_result"
    }
   ],
   "source": [
    "heatmap_data[0][0]"
   ]
  },
  {
   "cell_type": "code",
   "execution_count": 25,
   "metadata": {},
   "outputs": [
    {
     "data": {
      "image/png": "[encoded data removed]",
      "text/plain": [
       "<Figure size 432x288 with 1 Axes>"
      ]
     },
     "metadata": {
      "needs_background": "light"
     },
     "output_type": "display_data"
    }
   ],
   "source": [
    "y_behs = REL_STATE_BEH\n",
    "x_behs = REL_STATE_BEH\n",
    "\n",
    "fig, ax = plt.subplots()\n",
    "im = ax.imshow(heatmap_data)\n",
    "              \n",
    "# We want to show all ticks...\n",
    "ax.set_xticks(np.arange(len(x_behs)))\n",
    "ax.set_yticks(np.arange(len(y_behs)))\n",
    "# ... and label them with the respective list entries\n",
    "ax.set_xticklabels(x_behs)\n",
    "ax.set_yticklabels(y_behs)\n",
    "\n",
    "# Rotate the tick labels and set their alignment.\n",
    "plt.setp(ax.get_xticklabels(), rotation=45, ha=\"right\",\n",
    "         rotation_mode=\"anchor\")\n",
    "\n",
    "# Loop over data dimensions and create text annotations.\n",
    "for i in range(len(y_behs)):\n",
    "    for j in range(len(x_behs)):\n",
    "        number = \"{:.2f}\".format(heatmap_data[i][j])\n",
    "        text = ax.text(j, i, number,\n",
    "                       ha=\"center\", va=\"center\", color=\"w\")\n",
    "\n",
    "ax.set_title(\"Harvest of local farmers (in tons/year)\")\n",
    "fig.tight_layout()\n",
    "plt.show()"
   ]
  },
  {
   "cell_type": "code",
   "execution_count": null,
   "metadata": {},
   "outputs": [],
   "source": []
  }
 ],
 "metadata": {
  "kernelspec": {
   "display_name": "Python 3",
   "language": "python",
   "name": "python3"
  },
  "language_info": {
   "codemirror_mode": {
    "name": "ipython",
    "version": 3
   },
   "file_extension": ".py",
   "mimetype": "text/x-python",
   "name": "python",
   "nbconvert_exporter": "python",
   "pygments_lexer": "ipython3",
   "version": "3.6.10"
  }
 },
 "nbformat": 4,
 "nbformat_minor": 4
}
