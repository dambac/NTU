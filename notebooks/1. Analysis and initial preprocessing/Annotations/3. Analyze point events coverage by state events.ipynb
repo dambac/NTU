{
 "cells": [
  {
   "cell_type": "code",
   "execution_count": 11,
   "metadata": {},
   "outputs": [
    {
     "name": "stdout",
     "output_type": "stream",
     "text": [
      "Constants loaded\n"
     ]
    }
   ],
   "source": [
    "%run /home/dbaciur/NTU/NTU/notes/Constants.ipynb"
   ]
  },
  {
   "cell_type": "code",
   "execution_count": 12,
   "metadata": {},
   "outputs": [],
   "source": [
    "import pandas as pd\n",
    "import numpy as np\n",
    "import os\n",
    "import pickle\n",
    "\n",
    "import matplotlib.pyplot as plt\n",
    "from tqdm import tqdm"
   ]
  },
  {
   "cell_type": "markdown",
   "metadata": {},
   "source": [
    "In this file we want to check if all point events are covered by state events, in other words - if every point event is within a time range of some state event regarding same behavior."
   ]
  },
  {
   "cell_type": "markdown",
   "metadata": {},
   "source": [
    "### Import annotations"
   ]
  },
  {
   "cell_type": "code",
   "execution_count": 13,
   "metadata": {},
   "outputs": [],
   "source": [
    "annotations_df = pd.read_csv(C.PROCESSED_ANNOTATIONS_PATH, converters=C.A_CONVERTERS)\n",
    "annotations_df = annotations_df[annotations_df[C.A_BEH_ID].isin(C.REL_BEHS)]"
   ]
  },
  {
   "cell_type": "markdown",
   "metadata": {},
   "source": [
    "### Analyze coverage"
   ]
  },
  {
   "cell_type": "code",
   "execution_count": 15,
   "metadata": {},
   "outputs": [
    {
     "data": {
      "text/plain": [
       "114"
      ]
     },
     "execution_count": 15,
     "metadata": {},
     "output_type": "execute_result"
    }
   ],
   "source": [
    "videos_set = annotations_df[C.A_VIDEO].unique()\n",
    "number_of_videos = len(videos_set)\n",
    "number_of_videos"
   ]
  },
  {
   "cell_type": "code",
   "execution_count": 17,
   "metadata": {},
   "outputs": [],
   "source": [
    "CHARTS = (C.B_CHARTS_S, C.B_CHARTS_P)\n",
    "IMAGES = (C.B_IMAGES_S, C.B_IMAGES_P)\n",
    "WEBSITES = (C.B_WEBSITE_S, C.B_WEBSITE_P)\n",
    "FILMS = (C.B_FILMS_S, C.B_FILMS_P)"
   ]
  },
  {
   "cell_type": "code",
   "execution_count": 18,
   "metadata": {},
   "outputs": [],
   "source": [
    "state_point_beh_pairs = [\n",
    "    CHARTS,\n",
    "    IMAGES,\n",
    "    WEBSITES,\n",
    "    FILMS\n",
    "]"
   ]
  },
  {
   "cell_type": "code",
   "execution_count": 21,
   "metadata": {},
   "outputs": [
    {
     "name": "stderr",
     "output_type": "stream",
     "text": [
      "100%|██████████| 114/114 [00:09<00:00, 11.78it/s]\n"
     ]
    }
   ],
   "source": [
    "coverage_data_by_beh_pair = dict()\n",
    "for beh_pair in state_point_beh_pairs:\n",
    "    coverage_data_by_beh_pair[beh_pair] = []\n",
    "    \n",
    "for video in tqdm(videos_set):\n",
    "    \n",
    "    for state_point_pair in state_point_beh_pairs:\n",
    "        \n",
    "        state_beh_id = state_point_pair[0]\n",
    "        point_beh_id = state_point_pair[1]\n",
    "        \n",
    "        video_annotations = annotations_df[annotations_df[C.A_VIDEO] == video]\n",
    "        state_events = video_annotations[video_annotations[C.A_BEH_ID] == state_beh_id]\n",
    "        point_events = video_annotations[video_annotations[C.A_BEH_ID] == point_beh_id]\n",
    "    \n",
    "        point_events_count = len(point_events)\n",
    "        covered_points_count = 0\n",
    "        \n",
    "        if point_events_count == 0:\n",
    "            continue\n",
    "        \n",
    "        for point_index, point_event in point_events.iterrows():\n",
    "            \n",
    "            p_start_ts = point_event[C.A_START]\n",
    "            p_end_ts = point_event[C.A_STOP]\n",
    "            \n",
    "            for state_index, state_event in state_events.iterrows():\n",
    "                \n",
    "                s_start_ts = state_event[C.A_START]\n",
    "                s_end_ts = state_event[C.A_STOP]\n",
    "                \n",
    "                no_collision = (p_end_ts < s_start_ts or p_start_ts > s_end_ts)\n",
    "                if not no_collision:\n",
    "                    covered_points_count += 1\n",
    "                    break\n",
    "        \n",
    "        coverage_percentage = 100 * (covered_points_count / point_events_count)\n",
    "        coverage_data_by_beh_pair[state_point_pair].append(coverage_percentage)"
   ]
  },
  {
   "cell_type": "code",
   "execution_count": 22,
   "metadata": {},
   "outputs": [],
   "source": [
    "def get_mean(beh_pair):\n",
    "    return np.array(coverage_data_by_beh_pair[beh_pair]).mean()"
   ]
  },
  {
   "cell_type": "code",
   "execution_count": 23,
   "metadata": {},
   "outputs": [
    {
     "data": {
      "text/plain": [
       "99.24230513922369"
      ]
     },
     "execution_count": 23,
     "metadata": {},
     "output_type": "execute_result"
    }
   ],
   "source": [
    "get_mean(CHARTS)"
   ]
  },
  {
   "cell_type": "code",
   "execution_count": 24,
   "metadata": {},
   "outputs": [
    {
     "data": {
      "text/plain": [
       "99.8133975812547"
      ]
     },
     "execution_count": 24,
     "metadata": {},
     "output_type": "execute_result"
    }
   ],
   "source": [
    "get_mean(IMAGES)"
   ]
  },
  {
   "cell_type": "code",
   "execution_count": 25,
   "metadata": {},
   "outputs": [
    {
     "data": {
      "text/plain": [
       "100.0"
      ]
     },
     "execution_count": 25,
     "metadata": {},
     "output_type": "execute_result"
    }
   ],
   "source": [
    "get_mean(WEBSITES)"
   ]
  },
  {
   "cell_type": "code",
   "execution_count": 26,
   "metadata": {},
   "outputs": [
    {
     "data": {
      "text/plain": [
       "100.0"
      ]
     },
     "execution_count": 26,
     "metadata": {},
     "output_type": "execute_result"
    }
   ],
   "source": [
    "get_mean(FILMS)"
   ]
  }
 ],
 "metadata": {
  "kernelspec": {
   "display_name": "Python 3",
   "language": "python",
   "name": "python3"
  },
  "language_info": {
   "codemirror_mode": {
    "name": "ipython",
    "version": 3
   },
   "file_extension": ".py",
   "mimetype": "text/x-python",
   "name": "python",
   "nbconvert_exporter": "python",
   "pygments_lexer": "ipython3",
   "version": "3.6.10"
  }
 },
 "nbformat": 4,
 "nbformat_minor": 4
}
