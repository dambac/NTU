{
 "cells": [
  {
   "cell_type": "code",
   "execution_count": 51,
   "metadata": {},
   "outputs": [
    {
     "name": "stdout",
     "output_type": "stream",
     "text": [
      "Constants loaded\n"
     ]
    }
   ],
   "source": [
    "%run /home/dbaciur/NTU/NTU/notes/Constants.ipynb"
   ]
  },
  {
   "cell_type": "markdown",
   "metadata": {},
   "source": [
    "In this file we want to make a first processing of all annotation to remove unwanted columns, fix video file names and remove annotations whose videos doesn't exists."
   ]
  },
  {
   "cell_type": "code",
   "execution_count": 47,
   "metadata": {},
   "outputs": [],
   "source": [
    "import pandas as pd\n",
    "import numpy as np\n",
    "import os\n",
    "import matplotlib.pyplot as plt\n",
    "import torch\n",
    "import torchvision as tv\n",
    "from datetime import datetime, timedelta"
   ]
  },
  {
   "cell_type": "markdown",
   "metadata": {},
   "source": [
    "## Import annotations"
   ]
  },
  {
   "cell_type": "code",
   "execution_count": 5,
   "metadata": {},
   "outputs": [
    {
     "name": "stderr",
     "output_type": "stream",
     "text": [
      "/home/bjastrze/anaconda3/lib/python3.6/site-packages/IPython/core/interactiveshell.py:3072: DtypeWarning: Columns (5) have mixed types.Specify dtype option on import or set low_memory=False.\n",
      "  interactivity=interactivity, compiler=compiler, result=result)\n"
     ]
    }
   ],
   "source": [
    "annotations_df = pd.read_csv(C.ORIGINAL_ANNOTATIONS_FILE, sep='\\t')"
   ]
  },
  {
   "cell_type": "code",
   "execution_count": 6,
   "metadata": {
    "scrolled": false
   },
   "outputs": [
    {
     "data": {
      "text/html": [
       "<div>\n",
       "<style scoped>\n",
       "    .dataframe tbody tr th:only-of-type {\n",
       "        vertical-align: middle;\n",
       "    }\n",
       "\n",
       "    .dataframe tbody tr th {\n",
       "        vertical-align: top;\n",
       "    }\n",
       "\n",
       "    .dataframe thead th {\n",
       "        text-align: right;\n",
       "    }\n",
       "</style>\n",
       "<table border=\"1\" class=\"dataframe\">\n",
       "  <thead>\n",
       "    <tr style=\"text-align: right;\">\n",
       "      <th></th>\n",
       "      <th>Unnamed: 0</th>\n",
       "      <th>Behavior</th>\n",
       "      <th>Behavior type</th>\n",
       "      <th>Behavioral category</th>\n",
       "      <th>Comment start</th>\n",
       "      <th>Comment stop</th>\n",
       "      <th>Duration (s)</th>\n",
       "      <th>FPS</th>\n",
       "      <th>Media file</th>\n",
       "      <th>Modifiers</th>\n",
       "      <th>Observation date</th>\n",
       "      <th>Observation id</th>\n",
       "      <th>Start (s)</th>\n",
       "      <th>Stop (s)</th>\n",
       "      <th>Subject</th>\n",
       "      <th>Total length</th>\n",
       "      <th>lecture_id</th>\n",
       "      <th>research_assistant_id</th>\n",
       "      <th>subject_id</th>\n",
       "    </tr>\n",
       "  </thead>\n",
       "  <tbody>\n",
       "    <tr>\n",
       "      <th>0</th>\n",
       "      <td>0</td>\n",
       "      <td>eye contact</td>\n",
       "      <td>STATE</td>\n",
       "      <td>Encouraging learner engagement</td>\n",
       "      <td>NaN</td>\n",
       "      <td>NaN</td>\n",
       "      <td>2841.008</td>\n",
       "      <td>29.83</td>\n",
       "      <td>C:/Users/ACER/Downloads/PH1011-PHYSICS_2015092...</td>\n",
       "      <td>NaN</td>\n",
       "      <td>2019-11-30 08:32:25</td>\n",
       "      <td>J1S1C11L1-I10-RA13</td>\n",
       "      <td>29.355</td>\n",
       "      <td>2870.363</td>\n",
       "      <td>No focal subject</td>\n",
       "      <td>7197.58</td>\n",
       "      <td>J1S1C11L1</td>\n",
       "      <td>RA13</td>\n",
       "      <td>J1S1C11</td>\n",
       "    </tr>\n",
       "  </tbody>\n",
       "</table>\n",
       "</div>"
      ],
      "text/plain": [
       "   Unnamed: 0     Behavior Behavior type             Behavioral category  \\\n",
       "0           0  eye contact         STATE  Encouraging learner engagement   \n",
       "\n",
       "   Comment start Comment stop  Duration (s)    FPS  \\\n",
       "0            NaN          NaN      2841.008  29.83   \n",
       "\n",
       "                                          Media file Modifiers  \\\n",
       "0  C:/Users/ACER/Downloads/PH1011-PHYSICS_2015092...       NaN   \n",
       "\n",
       "      Observation date      Observation id  Start (s)  Stop (s)  \\\n",
       "0  2019-11-30 08:32:25  J1S1C11L1-I10-RA13     29.355  2870.363   \n",
       "\n",
       "            Subject  Total length lecture_id research_assistant_id subject_id  \n",
       "0  No focal subject       7197.58  J1S1C11L1                  RA13    J1S1C11  "
      ]
     },
     "execution_count": 6,
     "metadata": {},
     "output_type": "execute_result"
    }
   ],
   "source": [
    "annotations_df.head(1)"
   ]
  },
  {
   "cell_type": "markdown",
   "metadata": {},
   "source": [
    "### Assign ID to each event"
   ]
  },
  {
   "cell_type": "code",
   "execution_count": 7,
   "metadata": {
    "scrolled": true
   },
   "outputs": [
    {
     "data": {
      "text/html": [
       "<div>\n",
       "<style scoped>\n",
       "    .dataframe tbody tr th:only-of-type {\n",
       "        vertical-align: middle;\n",
       "    }\n",
       "\n",
       "    .dataframe tbody tr th {\n",
       "        vertical-align: top;\n",
       "    }\n",
       "\n",
       "    .dataframe thead th {\n",
       "        text-align: right;\n",
       "    }\n",
       "</style>\n",
       "<table border=\"1\" class=\"dataframe\">\n",
       "  <thead>\n",
       "    <tr style=\"text-align: right;\">\n",
       "      <th></th>\n",
       "      <th>Id</th>\n",
       "      <th>Unnamed: 0</th>\n",
       "      <th>Behavior</th>\n",
       "      <th>Behavior type</th>\n",
       "      <th>Behavioral category</th>\n",
       "      <th>Comment start</th>\n",
       "      <th>Comment stop</th>\n",
       "      <th>Duration (s)</th>\n",
       "      <th>FPS</th>\n",
       "      <th>Media file</th>\n",
       "      <th>Modifiers</th>\n",
       "      <th>Observation date</th>\n",
       "      <th>Observation id</th>\n",
       "      <th>Start (s)</th>\n",
       "      <th>Stop (s)</th>\n",
       "      <th>Subject</th>\n",
       "      <th>Total length</th>\n",
       "      <th>lecture_id</th>\n",
       "      <th>research_assistant_id</th>\n",
       "      <th>subject_id</th>\n",
       "    </tr>\n",
       "  </thead>\n",
       "  <tbody>\n",
       "    <tr>\n",
       "      <th>0</th>\n",
       "      <td>0</td>\n",
       "      <td>0</td>\n",
       "      <td>eye contact</td>\n",
       "      <td>STATE</td>\n",
       "      <td>Encouraging learner engagement</td>\n",
       "      <td>NaN</td>\n",
       "      <td>NaN</td>\n",
       "      <td>2841.008</td>\n",
       "      <td>29.83</td>\n",
       "      <td>C:/Users/ACER/Downloads/PH1011-PHYSICS_2015092...</td>\n",
       "      <td>NaN</td>\n",
       "      <td>2019-11-30 08:32:25</td>\n",
       "      <td>J1S1C11L1-I10-RA13</td>\n",
       "      <td>29.355</td>\n",
       "      <td>2870.363</td>\n",
       "      <td>No focal subject</td>\n",
       "      <td>7197.58</td>\n",
       "      <td>J1S1C11L1</td>\n",
       "      <td>RA13</td>\n",
       "      <td>J1S1C11</td>\n",
       "    </tr>\n",
       "  </tbody>\n",
       "</table>\n",
       "</div>"
      ],
      "text/plain": [
       "   Id  Unnamed: 0     Behavior Behavior type             Behavioral category  \\\n",
       "0   0           0  eye contact         STATE  Encouraging learner engagement   \n",
       "\n",
       "   Comment start Comment stop  Duration (s)    FPS  \\\n",
       "0            NaN          NaN      2841.008  29.83   \n",
       "\n",
       "                                          Media file Modifiers  \\\n",
       "0  C:/Users/ACER/Downloads/PH1011-PHYSICS_2015092...       NaN   \n",
       "\n",
       "      Observation date      Observation id  Start (s)  Stop (s)  \\\n",
       "0  2019-11-30 08:32:25  J1S1C11L1-I10-RA13     29.355  2870.363   \n",
       "\n",
       "            Subject  Total length lecture_id research_assistant_id subject_id  \n",
       "0  No focal subject       7197.58  J1S1C11L1                  RA13    J1S1C11  "
      ]
     },
     "execution_count": 7,
     "metadata": {},
     "output_type": "execute_result"
    }
   ],
   "source": [
    "annotations_df = annotations_df.reset_index().rename(columns={'index':C.A_EVENT_ID})\n",
    "annotations_df.head(1)"
   ]
  },
  {
   "cell_type": "markdown",
   "metadata": {},
   "source": [
    "### Assign ID to each behavior"
   ]
  },
  {
   "cell_type": "code",
   "execution_count": 8,
   "metadata": {},
   "outputs": [
    {
     "data": {
      "text/html": [
       "<div>\n",
       "<style scoped>\n",
       "    .dataframe tbody tr th:only-of-type {\n",
       "        vertical-align: middle;\n",
       "    }\n",
       "\n",
       "    .dataframe tbody tr th {\n",
       "        vertical-align: top;\n",
       "    }\n",
       "\n",
       "    .dataframe thead th {\n",
       "        text-align: right;\n",
       "    }\n",
       "</style>\n",
       "<table border=\"1\" class=\"dataframe\">\n",
       "  <thead>\n",
       "    <tr style=\"text-align: right;\">\n",
       "      <th></th>\n",
       "      <th>Id</th>\n",
       "      <th>Unnamed: 0</th>\n",
       "      <th>Behavior</th>\n",
       "      <th>Behavior type</th>\n",
       "      <th>Behavioral category</th>\n",
       "      <th>Comment start</th>\n",
       "      <th>Comment stop</th>\n",
       "      <th>Duration (s)</th>\n",
       "      <th>FPS</th>\n",
       "      <th>Media file</th>\n",
       "      <th>...</th>\n",
       "      <th>Observation date</th>\n",
       "      <th>Observation id</th>\n",
       "      <th>Start (s)</th>\n",
       "      <th>Stop (s)</th>\n",
       "      <th>Subject</th>\n",
       "      <th>Total length</th>\n",
       "      <th>lecture_id</th>\n",
       "      <th>research_assistant_id</th>\n",
       "      <th>subject_id</th>\n",
       "      <th>BehaviorId</th>\n",
       "    </tr>\n",
       "  </thead>\n",
       "  <tbody>\n",
       "    <tr>\n",
       "      <th>0</th>\n",
       "      <td>0</td>\n",
       "      <td>0</td>\n",
       "      <td>eye contact</td>\n",
       "      <td>STATE</td>\n",
       "      <td>Encouraging learner engagement</td>\n",
       "      <td>NaN</td>\n",
       "      <td>NaN</td>\n",
       "      <td>2841.008</td>\n",
       "      <td>29.83</td>\n",
       "      <td>C:/Users/ACER/Downloads/PH1011-PHYSICS_2015092...</td>\n",
       "      <td>...</td>\n",
       "      <td>2019-11-30 08:32:25</td>\n",
       "      <td>J1S1C11L1-I10-RA13</td>\n",
       "      <td>29.355</td>\n",
       "      <td>2870.363</td>\n",
       "      <td>No focal subject</td>\n",
       "      <td>7197.58</td>\n",
       "      <td>J1S1C11L1</td>\n",
       "      <td>RA13</td>\n",
       "      <td>J1S1C11</td>\n",
       "      <td>B_EYE</td>\n",
       "    </tr>\n",
       "  </tbody>\n",
       "</table>\n",
       "<p>1 rows × 21 columns</p>\n",
       "</div>"
      ],
      "text/plain": [
       "   Id  Unnamed: 0     Behavior Behavior type             Behavioral category  \\\n",
       "0   0           0  eye contact         STATE  Encouraging learner engagement   \n",
       "\n",
       "   Comment start Comment stop  Duration (s)    FPS  \\\n",
       "0            NaN          NaN      2841.008  29.83   \n",
       "\n",
       "                                          Media file  ...  \\\n",
       "0  C:/Users/ACER/Downloads/PH1011-PHYSICS_2015092...  ...   \n",
       "\n",
       "      Observation date      Observation id Start (s)  Stop (s)  \\\n",
       "0  2019-11-30 08:32:25  J1S1C11L1-I10-RA13    29.355  2870.363   \n",
       "\n",
       "            Subject Total length  lecture_id research_assistant_id subject_id  \\\n",
       "0  No focal subject      7197.58   J1S1C11L1                  RA13    J1S1C11   \n",
       "\n",
       "  BehaviorId  \n",
       "0      B_EYE  \n",
       "\n",
       "[1 rows x 21 columns]"
      ]
     },
     "execution_count": 8,
     "metadata": {},
     "output_type": "execute_result"
    }
   ],
   "source": [
    "annotations_df[C.A_BEH_ID] = annotations_df[C.A_BEHAVIOR].apply(lambda beh: C.BEH_IDS[beh])\n",
    "annotations_df.head(1)"
   ]
  },
  {
   "cell_type": "markdown",
   "metadata": {},
   "source": [
    "### Set video name\n",
    "\n",
    "Remove directory path and file extension"
   ]
  },
  {
   "cell_type": "code",
   "execution_count": 9,
   "metadata": {
    "scrolled": false
   },
   "outputs": [
    {
     "data": {
      "text/html": [
       "<div>\n",
       "<style scoped>\n",
       "    .dataframe tbody tr th:only-of-type {\n",
       "        vertical-align: middle;\n",
       "    }\n",
       "\n",
       "    .dataframe tbody tr th {\n",
       "        vertical-align: top;\n",
       "    }\n",
       "\n",
       "    .dataframe thead th {\n",
       "        text-align: right;\n",
       "    }\n",
       "</style>\n",
       "<table border=\"1\" class=\"dataframe\">\n",
       "  <thead>\n",
       "    <tr style=\"text-align: right;\">\n",
       "      <th></th>\n",
       "      <th>Id</th>\n",
       "      <th>Unnamed: 0</th>\n",
       "      <th>Behavior</th>\n",
       "      <th>Behavior type</th>\n",
       "      <th>Behavioral category</th>\n",
       "      <th>Comment start</th>\n",
       "      <th>Comment stop</th>\n",
       "      <th>Duration (s)</th>\n",
       "      <th>FPS</th>\n",
       "      <th>Media file</th>\n",
       "      <th>...</th>\n",
       "      <th>Observation id</th>\n",
       "      <th>Start (s)</th>\n",
       "      <th>Stop (s)</th>\n",
       "      <th>Subject</th>\n",
       "      <th>Total length</th>\n",
       "      <th>lecture_id</th>\n",
       "      <th>research_assistant_id</th>\n",
       "      <th>subject_id</th>\n",
       "      <th>BehaviorId</th>\n",
       "      <th>Video</th>\n",
       "    </tr>\n",
       "  </thead>\n",
       "  <tbody>\n",
       "    <tr>\n",
       "      <th>0</th>\n",
       "      <td>0</td>\n",
       "      <td>0</td>\n",
       "      <td>eye contact</td>\n",
       "      <td>STATE</td>\n",
       "      <td>Encouraging learner engagement</td>\n",
       "      <td>NaN</td>\n",
       "      <td>NaN</td>\n",
       "      <td>2841.008</td>\n",
       "      <td>29.83</td>\n",
       "      <td>C:/Users/ACER/Downloads/PH1011-PHYSICS_2015092...</td>\n",
       "      <td>...</td>\n",
       "      <td>J1S1C11L1-I10-RA13</td>\n",
       "      <td>29.355</td>\n",
       "      <td>2870.363</td>\n",
       "      <td>No focal subject</td>\n",
       "      <td>7197.58</td>\n",
       "      <td>J1S1C11L1</td>\n",
       "      <td>RA13</td>\n",
       "      <td>J1S1C11</td>\n",
       "      <td>B_EYE</td>\n",
       "      <td>PH1011-PHYSICS_20150922</td>\n",
       "    </tr>\n",
       "  </tbody>\n",
       "</table>\n",
       "<p>1 rows × 22 columns</p>\n",
       "</div>"
      ],
      "text/plain": [
       "   Id  Unnamed: 0     Behavior Behavior type             Behavioral category  \\\n",
       "0   0           0  eye contact         STATE  Encouraging learner engagement   \n",
       "\n",
       "   Comment start Comment stop  Duration (s)    FPS  \\\n",
       "0            NaN          NaN      2841.008  29.83   \n",
       "\n",
       "                                          Media file  ...      Observation id  \\\n",
       "0  C:/Users/ACER/Downloads/PH1011-PHYSICS_2015092...  ...  J1S1C11L1-I10-RA13   \n",
       "\n",
       "  Start (s)  Stop (s)           Subject  Total length lecture_id  \\\n",
       "0    29.355  2870.363  No focal subject       7197.58  J1S1C11L1   \n",
       "\n",
       "   research_assistant_id subject_id BehaviorId                    Video  \n",
       "0                   RA13    J1S1C11      B_EYE  PH1011-PHYSICS_20150922  \n",
       "\n",
       "[1 rows x 22 columns]"
      ]
     },
     "execution_count": 9,
     "metadata": {},
     "output_type": "execute_result"
    }
   ],
   "source": [
    "annotations_df[C.A_VIDEO] = annotations_df[C.A_MEDIA_FILE].apply(lambda mediafile: os.path.basename(mediafile)[:-4])\n",
    "annotations_df.head(1)"
   ]
  },
  {
   "cell_type": "markdown",
   "metadata": {},
   "source": [
    "### Check if all videos exists"
   ]
  },
  {
   "cell_type": "code",
   "execution_count": 10,
   "metadata": {},
   "outputs": [],
   "source": [
    "set_of_all_videos = annotations_df[C.A_VIDEO].unique()"
   ]
  },
  {
   "cell_type": "code",
   "execution_count": 11,
   "metadata": {},
   "outputs": [
    {
     "data": {
      "text/plain": [
       "{'PH1011-PHYSICS_20150922': True,\n",
       " 'PH1011-PHYSICS_20151006': True,\n",
       " 'PH1011-PHYSICS_20151013': True,\n",
       " 'PH1011-PHYSICS_20151020': True,\n",
       " '15S1-PH1012-LEC_20150812': True,\n",
       " 'PH1104-MECHANICS_20150817_PC1': True,\n",
       " '15S1-PH1104-LEC_20150820_PC1': True,\n",
       " 'PH1104-MECHANICS_20150824_PC1': True,\n",
       " 'PH1104-MECHANICS_20150827_PC1': True,\n",
       " 'PH1104-MECHANICS_20150831_PC1': True,\n",
       " '20150817': False,\n",
       " '20150921': False,\n",
       " '20150821': False,\n",
       " '20150824': False,\n",
       " '20150828': False,\n",
       " '20150828.boris': False,\n",
       " '20150831': False,\n",
       " '20150904': False,\n",
       " '20150907': False,\n",
       " '20150914': False,\n",
       " '20150918': False,\n",
       " '15S1-MH1800-LEC_20150817': True,\n",
       " '15S1-MH1800-LEC_20150824': True,\n",
       " '15S1-MH1800-LEC_20150831': True,\n",
       " '15S2-PH1106-LEC_20160113': True,\n",
       " '15S2-PH1106-LEC_20160120': True,\n",
       " 's3': False,\n",
       " '15S2-PH1106-LEC_20160127': True,\n",
       " 's4': False,\n",
       " '15S2-PH1106-LEC_20160203': True,\n",
       " 's5': False,\n",
       " '15S2-PH1106-LEC_20160210': True,\n",
       " '15S2-MH1402-LEC_20160115': True,\n",
       " '15S2-MH1402-LEC_20160122': True,\n",
       " '15S2-MH1402-LEC_20160129': True,\n",
       " 'd3': False,\n",
       " '15S2-MH1402-LEC_20160205': True,\n",
       " 'd4': False,\n",
       " '15S2-MH1402-LEC_20160212': True,\n",
       " 'd5': False,\n",
       " '16S1-MH1812-LEC_20160808': True,\n",
       " '16S1-MH1812-LEC_20160811': True,\n",
       " '16S1-MH1812-LEC_20160815': True,\n",
       " '16S1-MH1812-LEC_20160818': True,\n",
       " '16S1-MH1812-LEC_20160822': True,\n",
       " 't1': False,\n",
       " '16S1-PH1104-LEC_20161024': True,\n",
       " 't2': False,\n",
       " '16S1-PH1104-LEC_20161027': True,\n",
       " 't3': False,\n",
       " '16S1-PH1104-LEC_20161031': True,\n",
       " 't4': False,\n",
       " '16S1-PH1104-LEC_20161103': True,\n",
       " '16S1-PH1104-LEC_20161107': True,\n",
       " '16S1-PH1104-LEC_20161107 (t5)': False,\n",
       " '16S1-PH1104-LEC_20161110': True,\n",
       " '16S1-PH1104-LEC_20161110 (t6)': False,\n",
       " 's6': False,\n",
       " '16S1-PH1801-LEC_20161013': True,\n",
       " 's7': False,\n",
       " '16S1-PH1801-LEC_20161020': True,\n",
       " 's8': False,\n",
       " '16S1-PH1801-LEC_20161027': True,\n",
       " 's9': False,\n",
       " '16S1-PH1801-LEC_20161103': True,\n",
       " 's10_new': False,\n",
       " '16S1-PH1801-LEC_20161110': True,\n",
       " '16S2-MH1301-LEC_20170109': True,\n",
       " 'f6': False,\n",
       " '16S2-MH1301-LEC_20170116': True,\n",
       " 'f7': False,\n",
       " 'f8': False,\n",
       " '16S2-MH1301-LEC_20170123': True,\n",
       " 'f9': False,\n",
       " '16S2-MH1301-LEC_20170206': True,\n",
       " '16S2-MH1301-LEC_20170213': True,\n",
       " '17S1-PH1011-LEC_20171010': True,\n",
       " '17S1-PH1011-LEC_20171010 (u1)': False,\n",
       " '17S1-PH1011-LEC_20170815': True,\n",
       " 'w1': False,\n",
       " '17S1-PH1011-LEC_20171017': True,\n",
       " '17S1-PH1011-LEC_20171017 (u2)': False,\n",
       " '17S1-PH1011-LEC_20170822': True,\n",
       " 'w2': False,\n",
       " '17S1-PH1011-LEC_20171024': True,\n",
       " '17S1-PH1011-LEC_20171024 (u3)': False,\n",
       " '17S1-PH1011-LEC_20170829': True,\n",
       " 'w3': False,\n",
       " '17S1-PH1011-LEC_20171031': True,\n",
       " '17S1-PH1011-LEC_20171031 (u4)': False,\n",
       " '17S1-PH1011-LEC_20170905': True,\n",
       " 'w4': False,\n",
       " '17S1-PH1011-LEC_20170912': True,\n",
       " 'w5': False,\n",
       " '17S1-PH1801-LEC_20170817': True,\n",
       " '17S1-PH1801-LEC_20170817 (u5)': False,\n",
       " '17S1-PH1801-LEC_20170824': True,\n",
       " '17S1-PH1801-LEC_20170824 (u6)': False,\n",
       " '17S1-PH1801-LEC_20170831': True,\n",
       " '17S1-PH1801-LEC_20170831 (u7)': False,\n",
       " '17S1-PH1801-LEC_20170907': True,\n",
       " '17S1-PH1801-LEC_20170907 (u8)': False,\n",
       " '17S1-PH1801-LEC_20170914': True,\n",
       " '17S1-PH1801-LEC_20170914 (u9)': False,\n",
       " '17S1-PH1801-LEC_20170921': True,\n",
       " '17S1-PH1801-LEC_20170921 (u10)': False,\n",
       " '17S1-CM1021-LEC_20170823': True,\n",
       " '17S1-CM1021-LEC_20170906': True,\n",
       " '17S1-MH1100-LEC_20170817': True,\n",
       " '17S1-MH1100-LEC_20171027': True,\n",
       " 'h5': False,\n",
       " '17S1-MH1100-LEC_20170818': True,\n",
       " '17S1-MH1100-LEC_20170824': True,\n",
       " 'g4': False,\n",
       " '17S1-MH1100-LEC_20170825': True,\n",
       " 'g5': False,\n",
       " '17S1-MH1100-LEC_20170831': True,\n",
       " '17S1-MH1100-LEC_20171012': True,\n",
       " 'h1': False,\n",
       " '17S1-MH1100-LEC_20171019': True,\n",
       " 'h2': False,\n",
       " '17S1-MH1100-LEC_20171020': True,\n",
       " 'h3': False,\n",
       " '17S1-MH1100-LEC_20171026': True,\n",
       " 'h4': False,\n",
       " '17S2-PH1107-CY1307-LEC_20180116': True,\n",
       " 'w6': False,\n",
       " '17S2-PH1107-CY1307-LEC_20180123': True,\n",
       " 'w7': False,\n",
       " '17S2-PH1107-CY1307-LEC_20180130': True,\n",
       " 'w8': False,\n",
       " '17S2-PH1107-CY1307-LEC_20180206': True,\n",
       " 'w9': False,\n",
       " '17S2-PH1107-CY1307-LEC_20180220': True,\n",
       " 'w10': False,\n",
       " '17S2-PH1802-LEC_20180316': True,\n",
       " 'x1': False,\n",
       " '17S2-PH1802-LEC_20180324': True,\n",
       " 'x2': False,\n",
       " '17S2-PH1802-LEC_20180406': True,\n",
       " 'x3': False,\n",
       " '17S2-PH1802-LEC_20180413': True,\n",
       " 'x4': False,\n",
       " '17S2-PH1802-LEC_20180420': True,\n",
       " 'x5': False,\n",
       " '17S2-MH1301-LEC_20180115': True,\n",
       " 'l1': False,\n",
       " '17S2-MH1301-LEC_20180122': True,\n",
       " 'l2': False,\n",
       " '17S2-MH1301-LEC_20180129': True,\n",
       " 'l3': False,\n",
       " '17S2-MH1301-LEC_20180205': True,\n",
       " 'l4': False,\n",
       " '17S2-MH1301-LEC_20180212': True,\n",
       " 'l5': False,\n",
       " '17S2-MH1301-LEC_20180219': True,\n",
       " 'l6': False,\n",
       " '17S2-MH1803-LEC_20180116': True,\n",
       " '17S2-MH1803-LEC_20180117': True,\n",
       " '17S2-MH1803-LEC_20180123': True,\n",
       " '17S2-MH1803-LEC_20180124': True,\n",
       " '17S2-MH1803-LEC_20180130': True,\n",
       " '17S2-MH1803-LEC_20180131': True,\n",
       " '17S2-MH1804-LEC_20180315': True,\n",
       " 'k1': False,\n",
       " '17S2-MH1804-LEC_20180322': True,\n",
       " 'k2': False,\n",
       " '17S2-MH1804-LEC_20180329': True,\n",
       " 'k3': False,\n",
       " '17S2-MH1804-LEC_20180412': True,\n",
       " 'k4': False,\n",
       " '17S2-MH1804-LEC_20180419': True,\n",
       " 'k5': False,\n",
       " '17S2-MH1811-LEC_20180205': True,\n",
       " '17S2-MH1811-LEC_20180207': True,\n",
       " '17S2-MH1811-LEC_20180212': True,\n",
       " '17S2-MH1811-LEC_20180214': True,\n",
       " '17S2-MH1811-LEC_20180219': True,\n",
       " '17S2-MH1811-LEC_20180221': True,\n",
       " '18S1-MH1100-LEC_20180831': True,\n",
       " '18S1-MH1100-LEC_20181025': True,\n",
       " 'n5': False,\n",
       " '18S1-MH1100-LEC_20181026': True,\n",
       " 'n6': False,\n",
       " '18S1-MH1100-LEC_20180906': True,\n",
       " '18S1-MH1100-LEC_20180907': True,\n",
       " '18S1-MH1100-LEC_20180913': True,\n",
       " '18S1-MH1100-LEC_20180914': True,\n",
       " '18S1-MH1100-LEC_20181011': True,\n",
       " 'n1': False,\n",
       " '18S1-MH1100-LEC_20181012': True,\n",
       " 'n2': False,\n",
       " '18S1-MH1100-LEC_20181018': True,\n",
       " 'n3': False,\n",
       " '18S1-MH1100-LEC_20181019': True,\n",
       " 'n4': False,\n",
       " '18S1-MH1802-LEC_20180820': True,\n",
       " '18S1-MH1802-LEC_20180827': True,\n",
       " '18S1-MH1802-LEC_20180829': True}"
      ]
     },
     "execution_count": 11,
     "metadata": {},
     "output_type": "execute_result"
    }
   ],
   "source": [
    "video_exists_dict = {}\n",
    "for video in set_of_all_videos:\n",
    "    video_path = os.path.join(C.ORIGINAL_VIDEOS_DIR, video + \".mp4\")\n",
    "    video_exists = os.path.exists(video_path)\n",
    "    video_exists_dict[video] = video_exists\n",
    "video_exists_dict"
   ]
  },
  {
   "cell_type": "markdown",
   "metadata": {},
   "source": [
    "**Result**: definately not all videos exist. We need to fix that."
   ]
  },
  {
   "cell_type": "markdown",
   "metadata": {},
   "source": [
    "## Read file with coders annotation-video mappings\n",
    "\n",
    "This additional file can be treated as some sort of errata. It contains alternative video file names - maybe they do exist and can replace old not existing ones"
   ]
  },
  {
   "cell_type": "code",
   "execution_count": 12,
   "metadata": {
    "scrolled": true
   },
   "outputs": [
    {
     "data": {
      "text/html": [
       "<div>\n",
       "<style scoped>\n",
       "    .dataframe tbody tr th:only-of-type {\n",
       "        vertical-align: middle;\n",
       "    }\n",
       "\n",
       "    .dataframe tbody tr th {\n",
       "        vertical-align: top;\n",
       "    }\n",
       "\n",
       "    .dataframe thead th {\n",
       "        text-align: right;\n",
       "    }\n",
       "</style>\n",
       "<table border=\"1\" class=\"dataframe\">\n",
       "  <thead>\n",
       "    <tr style=\"text-align: right;\">\n",
       "      <th></th>\n",
       "      <th>Semester (year when the lecture toook place + semester no.)</th>\n",
       "      <th>Semester annonymisation</th>\n",
       "      <th>Title</th>\n",
       "      <th>Start Date</th>\n",
       "      <th>Start Time</th>\n",
       "      <th>End Time</th>\n",
       "      <th>Studio ID (lecture theatre)</th>\n",
       "      <th>Author ID</th>\n",
       "      <th>School</th>\n",
       "      <th>Blackboard Course ID</th>\n",
       "      <th>Course ID</th>\n",
       "      <th>Course ID annonymisation</th>\n",
       "      <th>Status</th>\n",
       "      <th>Lecture duration</th>\n",
       "      <th>Approximate lecture duration</th>\n",
       "      <th>INSTRUCTOR'S ID</th>\n",
       "      <th>Partial LECTURE'S ID</th>\n",
       "      <th>Lecture no.</th>\n",
       "      <th>Partial lecture ID without RA no.</th>\n",
       "      <th>Old Obs. Name</th>\n",
       "    </tr>\n",
       "  </thead>\n",
       "  <tbody>\n",
       "    <tr>\n",
       "      <th>0</th>\n",
       "      <td>17S1</td>\n",
       "      <td>J3S1</td>\n",
       "      <td>17S1-CM1021-LEC_20170823</td>\n",
       "      <td>23.08.2017</td>\n",
       "      <td>12:30:00</td>\n",
       "      <td>13:26:00</td>\n",
       "      <td>LT23-PC1</td>\n",
       "      <td>sumod</td>\n",
       "      <td>SPMS</td>\n",
       "      <td>17S1-CM1021-LEC</td>\n",
       "      <td>CM1021-LEC</td>\n",
       "      <td>C1</td>\n",
       "      <td>Published</td>\n",
       "      <td>00:56:00</td>\n",
       "      <td>1</td>\n",
       "      <td>I12</td>\n",
       "      <td>J3S1C1</td>\n",
       "      <td>L1</td>\n",
       "      <td>J3S1C1L1-I12</td>\n",
       "      <td>a3</td>\n",
       "    </tr>\n",
       "  </tbody>\n",
       "</table>\n",
       "</div>"
      ],
      "text/plain": [
       "  Semester (year when the lecture toook place + semester no.)  \\\n",
       "0                                               17S1            \n",
       "\n",
       "  Semester annonymisation                      Title  Start Date Start Time  \\\n",
       "0                     J3S1  17S1-CM1021-LEC_20170823  23.08.2017   12:30:00   \n",
       "\n",
       "   End Time Studio ID (lecture theatre) Author ID School Blackboard Course ID  \\\n",
       "0  13:26:00                    LT23-PC1     sumod   SPMS      17S1-CM1021-LEC   \n",
       "\n",
       "    Course ID Course ID annonymisation     Status Lecture duration  \\\n",
       "0  CM1021-LEC                       C1  Published         00:56:00   \n",
       "\n",
       "  Approximate lecture duration INSTRUCTOR'S ID Partial LECTURE'S ID  \\\n",
       "0                            1             I12               J3S1C1   \n",
       "\n",
       "  Lecture no. Partial lecture ID without RA no. Old Obs. Name  \n",
       "0          L1                      J3S1C1L1-I12            a3  "
      ]
     },
     "execution_count": 12,
     "metadata": {},
     "output_type": "execute_result"
    }
   ],
   "source": [
    "coders_annotations_df = pd.read_csv(C.ERRATA_ANNOTATIONS_FILE, sep=\";\")\n",
    "coders_annotations_df.head(1)"
   ]
  },
  {
   "cell_type": "markdown",
   "metadata": {},
   "source": [
    "### Add lecture ID to coders"
   ]
  },
  {
   "cell_type": "code",
   "execution_count": 13,
   "metadata": {},
   "outputs": [
    {
     "data": {
      "text/html": [
       "<div>\n",
       "<style scoped>\n",
       "    .dataframe tbody tr th:only-of-type {\n",
       "        vertical-align: middle;\n",
       "    }\n",
       "\n",
       "    .dataframe tbody tr th {\n",
       "        vertical-align: top;\n",
       "    }\n",
       "\n",
       "    .dataframe thead th {\n",
       "        text-align: right;\n",
       "    }\n",
       "</style>\n",
       "<table border=\"1\" class=\"dataframe\">\n",
       "  <thead>\n",
       "    <tr style=\"text-align: right;\">\n",
       "      <th></th>\n",
       "      <th>Semester (year when the lecture toook place + semester no.)</th>\n",
       "      <th>Semester annonymisation</th>\n",
       "      <th>Title</th>\n",
       "      <th>Start Date</th>\n",
       "      <th>Start Time</th>\n",
       "      <th>End Time</th>\n",
       "      <th>Studio ID (lecture theatre)</th>\n",
       "      <th>Author ID</th>\n",
       "      <th>School</th>\n",
       "      <th>Blackboard Course ID</th>\n",
       "      <th>...</th>\n",
       "      <th>Course ID annonymisation</th>\n",
       "      <th>Status</th>\n",
       "      <th>Lecture duration</th>\n",
       "      <th>Approximate lecture duration</th>\n",
       "      <th>INSTRUCTOR'S ID</th>\n",
       "      <th>Partial LECTURE'S ID</th>\n",
       "      <th>Lecture no.</th>\n",
       "      <th>Partial lecture ID without RA no.</th>\n",
       "      <th>Old Obs. Name</th>\n",
       "      <th>LectureId</th>\n",
       "    </tr>\n",
       "  </thead>\n",
       "  <tbody>\n",
       "    <tr>\n",
       "      <th>0</th>\n",
       "      <td>17S1</td>\n",
       "      <td>J3S1</td>\n",
       "      <td>17S1-CM1021-LEC_20170823</td>\n",
       "      <td>23.08.2017</td>\n",
       "      <td>12:30:00</td>\n",
       "      <td>13:26:00</td>\n",
       "      <td>LT23-PC1</td>\n",
       "      <td>sumod</td>\n",
       "      <td>SPMS</td>\n",
       "      <td>17S1-CM1021-LEC</td>\n",
       "      <td>...</td>\n",
       "      <td>C1</td>\n",
       "      <td>Published</td>\n",
       "      <td>00:56:00</td>\n",
       "      <td>1</td>\n",
       "      <td>I12</td>\n",
       "      <td>J3S1C1</td>\n",
       "      <td>L1</td>\n",
       "      <td>J3S1C1L1-I12</td>\n",
       "      <td>a3</td>\n",
       "      <td>J3S1C1L1</td>\n",
       "    </tr>\n",
       "  </tbody>\n",
       "</table>\n",
       "<p>1 rows × 21 columns</p>\n",
       "</div>"
      ],
      "text/plain": [
       "  Semester (year when the lecture toook place + semester no.)  \\\n",
       "0                                               17S1            \n",
       "\n",
       "  Semester annonymisation                      Title  Start Date Start Time  \\\n",
       "0                     J3S1  17S1-CM1021-LEC_20170823  23.08.2017   12:30:00   \n",
       "\n",
       "   End Time Studio ID (lecture theatre) Author ID School Blackboard Course ID  \\\n",
       "0  13:26:00                    LT23-PC1     sumod   SPMS      17S1-CM1021-LEC   \n",
       "\n",
       "   ... Course ID annonymisation     Status Lecture duration  \\\n",
       "0  ...                       C1  Published         00:56:00   \n",
       "\n",
       "  Approximate lecture duration INSTRUCTOR'S ID Partial LECTURE'S ID  \\\n",
       "0                            1             I12               J3S1C1   \n",
       "\n",
       "  Lecture no. Partial lecture ID without RA no. Old Obs. Name LectureId  \n",
       "0          L1                      J3S1C1L1-I12            a3  J3S1C1L1  \n",
       "\n",
       "[1 rows x 21 columns]"
      ]
     },
     "execution_count": 13,
     "metadata": {},
     "output_type": "execute_result"
    }
   ],
   "source": [
    "coders_lecture_video_map_df = coders_annotations_df.copy()\n",
    "coders_lecture_video_map_df[\"LectureId\"] = coders_lecture_video_map_df[\"Partial LECTURE'S ID\"]+coders_lecture_video_map_df[\"Lecture no.\"]\n",
    "coders_lecture_video_map_df.head(1)"
   ]
  },
  {
   "cell_type": "markdown",
   "metadata": {},
   "source": [
    "### Add video name to coders"
   ]
  },
  {
   "cell_type": "code",
   "execution_count": 14,
   "metadata": {
    "scrolled": true
   },
   "outputs": [
    {
     "data": {
      "text/html": [
       "<div>\n",
       "<style scoped>\n",
       "    .dataframe tbody tr th:only-of-type {\n",
       "        vertical-align: middle;\n",
       "    }\n",
       "\n",
       "    .dataframe tbody tr th {\n",
       "        vertical-align: top;\n",
       "    }\n",
       "\n",
       "    .dataframe thead th {\n",
       "        text-align: right;\n",
       "    }\n",
       "</style>\n",
       "<table border=\"1\" class=\"dataframe\">\n",
       "  <thead>\n",
       "    <tr style=\"text-align: right;\">\n",
       "      <th></th>\n",
       "      <th>Semester (year when the lecture toook place + semester no.)</th>\n",
       "      <th>Semester annonymisation</th>\n",
       "      <th>Video</th>\n",
       "      <th>Start Date</th>\n",
       "      <th>Start Time</th>\n",
       "      <th>End Time</th>\n",
       "      <th>Studio ID (lecture theatre)</th>\n",
       "      <th>Author ID</th>\n",
       "      <th>School</th>\n",
       "      <th>Blackboard Course ID</th>\n",
       "      <th>...</th>\n",
       "      <th>Course ID annonymisation</th>\n",
       "      <th>Status</th>\n",
       "      <th>Lecture duration</th>\n",
       "      <th>Approximate lecture duration</th>\n",
       "      <th>INSTRUCTOR'S ID</th>\n",
       "      <th>Partial LECTURE'S ID</th>\n",
       "      <th>Lecture no.</th>\n",
       "      <th>Partial lecture ID without RA no.</th>\n",
       "      <th>Old Obs. Name</th>\n",
       "      <th>LectureId</th>\n",
       "    </tr>\n",
       "  </thead>\n",
       "  <tbody>\n",
       "    <tr>\n",
       "      <th>0</th>\n",
       "      <td>17S1</td>\n",
       "      <td>J3S1</td>\n",
       "      <td>17S1-CM1021-LEC_20170823</td>\n",
       "      <td>23.08.2017</td>\n",
       "      <td>12:30:00</td>\n",
       "      <td>13:26:00</td>\n",
       "      <td>LT23-PC1</td>\n",
       "      <td>sumod</td>\n",
       "      <td>SPMS</td>\n",
       "      <td>17S1-CM1021-LEC</td>\n",
       "      <td>...</td>\n",
       "      <td>C1</td>\n",
       "      <td>Published</td>\n",
       "      <td>00:56:00</td>\n",
       "      <td>1</td>\n",
       "      <td>I12</td>\n",
       "      <td>J3S1C1</td>\n",
       "      <td>L1</td>\n",
       "      <td>J3S1C1L1-I12</td>\n",
       "      <td>a3</td>\n",
       "      <td>J3S1C1L1</td>\n",
       "    </tr>\n",
       "  </tbody>\n",
       "</table>\n",
       "<p>1 rows × 21 columns</p>\n",
       "</div>"
      ],
      "text/plain": [
       "  Semester (year when the lecture toook place + semester no.)  \\\n",
       "0                                               17S1            \n",
       "\n",
       "  Semester annonymisation                      Video  Start Date Start Time  \\\n",
       "0                     J3S1  17S1-CM1021-LEC_20170823  23.08.2017   12:30:00   \n",
       "\n",
       "   End Time Studio ID (lecture theatre) Author ID School Blackboard Course ID  \\\n",
       "0  13:26:00                    LT23-PC1     sumod   SPMS      17S1-CM1021-LEC   \n",
       "\n",
       "   ... Course ID annonymisation     Status Lecture duration  \\\n",
       "0  ...                       C1  Published         00:56:00   \n",
       "\n",
       "  Approximate lecture duration INSTRUCTOR'S ID Partial LECTURE'S ID  \\\n",
       "0                            1             I12               J3S1C1   \n",
       "\n",
       "  Lecture no. Partial lecture ID without RA no. Old Obs. Name LectureId  \n",
       "0          L1                      J3S1C1L1-I12            a3  J3S1C1L1  \n",
       "\n",
       "[1 rows x 21 columns]"
      ]
     },
     "execution_count": 14,
     "metadata": {},
     "output_type": "execute_result"
    }
   ],
   "source": [
    "coders_lecture_video_map_df = coders_lecture_video_map_df.rename(columns={'Title': 'Video'})\n",
    "coders_lecture_video_map_df.head(1)"
   ]
  },
  {
   "cell_type": "markdown",
   "metadata": {},
   "source": [
    "### Leave only coders lecture ID and video name"
   ]
  },
  {
   "cell_type": "code",
   "execution_count": 15,
   "metadata": {},
   "outputs": [
    {
     "data": {
      "text/html": [
       "<div>\n",
       "<style scoped>\n",
       "    .dataframe tbody tr th:only-of-type {\n",
       "        vertical-align: middle;\n",
       "    }\n",
       "\n",
       "    .dataframe tbody tr th {\n",
       "        vertical-align: top;\n",
       "    }\n",
       "\n",
       "    .dataframe thead th {\n",
       "        text-align: right;\n",
       "    }\n",
       "</style>\n",
       "<table border=\"1\" class=\"dataframe\">\n",
       "  <thead>\n",
       "    <tr style=\"text-align: right;\">\n",
       "      <th></th>\n",
       "      <th>LectureId</th>\n",
       "      <th>Video</th>\n",
       "    </tr>\n",
       "  </thead>\n",
       "  <tbody>\n",
       "    <tr>\n",
       "      <th>0</th>\n",
       "      <td>J3S1C1L1</td>\n",
       "      <td>17S1-CM1021-LEC_20170823</td>\n",
       "    </tr>\n",
       "    <tr>\n",
       "      <th>1</th>\n",
       "      <td>J3S1C1L2</td>\n",
       "      <td>17S1-CM1021-LEC_20170906</td>\n",
       "    </tr>\n",
       "  </tbody>\n",
       "</table>\n",
       "</div>"
      ],
      "text/plain": [
       "  LectureId                     Video\n",
       "0  J3S1C1L1  17S1-CM1021-LEC_20170823\n",
       "1  J3S1C1L2  17S1-CM1021-LEC_20170906"
      ]
     },
     "execution_count": 15,
     "metadata": {},
     "output_type": "execute_result"
    }
   ],
   "source": [
    "coders_lecture_video_map_df = coders_lecture_video_map_df[[\"LectureId\", \"Video\"]]\n",
    "coders_lecture_video_map_df.head(2)"
   ]
  },
  {
   "cell_type": "markdown",
   "metadata": {},
   "source": [
    "## Check if coders video exists"
   ]
  },
  {
   "cell_type": "code",
   "execution_count": 16,
   "metadata": {
    "scrolled": false
   },
   "outputs": [
    {
     "data": {
      "text/plain": [
       "{'17S1-CM1021-LEC_20170823': True,\n",
       " '17S1-CM1021-LEC_20170906': True,\n",
       " '15S1-MH1800-LEC_20150817': True,\n",
       " '15S1-MH1800-LEC_20150824': True,\n",
       " '15S1-MH1800-LEC_20150831': True,\n",
       " '15S2-MH1402-LEC_20160115': True,\n",
       " '15S2-MH1402-LEC_20160122': True,\n",
       " '15S2-MH1402-LEC_20160129': True,\n",
       " '15S2-MH1402-LEC_20160205': True,\n",
       " '15S2-MH1402-LEC_20160212': True,\n",
       " '16S1-MH1812-LEC_20160808': True,\n",
       " '16S1-MH1812-LEC_20160811': True,\n",
       " '16S1-MH1812-LEC_20160815': True,\n",
       " '16S1-MH1812-LEC_20160818': True,\n",
       " '16S1-MH1812-LEC_20160822': True,\n",
       " '16S2-MH1301-LEC_20170109': True,\n",
       " '16S2-MH1301-LEC_20170116': True,\n",
       " '16S2-MH1301-LEC_20170123': True,\n",
       " '16S2-MH1301-LEC_20170206': True,\n",
       " '16S2-MH1301-LEC_20170213': True,\n",
       " '17S1-MH1100-LEC_20170817': True,\n",
       " '17S1-MH1100-LEC_20170818': True,\n",
       " '17S1-MH1100-LEC_20170824': True,\n",
       " '17S1-MH1100-LEC_20170825': True,\n",
       " '17S1-MH1100-LEC_20170831': True,\n",
       " '17S1-MH1100-LEC_20171012': True,\n",
       " '17S1-MH1100-LEC_20171019': True,\n",
       " '17S1-MH1100-LEC_20171020': True,\n",
       " '17S1-MH1100-LEC_20171026': True,\n",
       " '17S1-MH1100-LEC_20171027': True,\n",
       " '17S2-MH1811-LEC_20180205': True,\n",
       " '17S2-MH1811-LEC_20180207': True,\n",
       " '17S2-MH1811-LEC_20180212': True,\n",
       " '17S2-MH1811-LEC_20180214': True,\n",
       " '17S2-MH1811-LEC_20180219': True,\n",
       " '17S2-MH1811-LEC_20180221': True,\n",
       " '17S2-MH1803-LEC_20180116': True,\n",
       " '17S2-MH1803-LEC_20180117': True,\n",
       " '17S2-MH1803-LEC_20180123': True,\n",
       " '17S2-MH1803-LEC_20180124': True,\n",
       " '17S2-MH1803-LEC_20180130': True,\n",
       " '17S2-MH1803-LEC_20180131': True,\n",
       " '17S2-MH1804-LEC_20180315': True,\n",
       " '17S2-MH1804-LEC_20180322': True,\n",
       " '17S2-MH1804-LEC_20180329': True,\n",
       " '17S2-MH1804-LEC_20180412': True,\n",
       " '17S2-MH1804-LEC_20180419': True,\n",
       " '17S2-MH1301-LEC_20180115': True,\n",
       " '17S2-MH1301-LEC_20180122': True,\n",
       " '17S2-MH1301-LEC_20180129': True,\n",
       " '17S2-MH1301-LEC_20180205': True,\n",
       " '17S2-MH1301-LEC_20180212': True,\n",
       " '17S2-MH1301-LEC_20180219': True,\n",
       " '18S1-MH1802-LEC_20180820': True,\n",
       " '18S1-MH1802-LEC_20180827': True,\n",
       " '18S1-MH1802-LEC_20180829': True,\n",
       " '18S1-MH1100-LEC_20180831': True,\n",
       " '18S1-MH1100-LEC_20180906': True,\n",
       " '18S1-MH1100-LEC_20180907': True,\n",
       " '18S1-MH1100-LEC_20180913': True,\n",
       " '18S1-MH1100-LEC_20180914': True,\n",
       " '18S1-MH1100-LEC_20181011': True,\n",
       " '18S1-MH1100-LEC_20181012': True,\n",
       " '18S1-MH1100-LEC_20181018': True,\n",
       " '18S1-MH1100-LEC_20181019': True,\n",
       " '18S1-MH1100-LEC_20181025': True,\n",
       " '18S1-MH1100-LEC_20181026': True,\n",
       " '15S1-PH1105-LEC_20150817': True,\n",
       " '15S1-PH1105-LEC_20150821': True,\n",
       " '15S1-PH1105-LEC_20150824': True,\n",
       " '15S1-PH1105-LEC_20150828': True,\n",
       " '15S1-PH1105-LEC_20150831': False,\n",
       " 'PH1105-OPTICS, VIBRATIONS AND WAVES_20150904': False,\n",
       " 'PH1105-OPTICS, VIBRATIONS AND WAVES_20150907': False,\n",
       " '15S1-PH1105-LEC_20150914': False,\n",
       " '15S1-PH1105-LEC_20150918': False,\n",
       " '15S1-PH1105-LEC_20150921': False,\n",
       " '15S1-PH1012-LEC_20150812': True,\n",
       " 'PH1104-MECHANICS_20150817_PC1': True,\n",
       " '15S1-PH1104-LEC_20150820_PC1': True,\n",
       " 'PH1104-MECHANICS_20150824_PC1': True,\n",
       " 'PH1104-MECHANICS_20150827_PC1': True,\n",
       " 'PH1104-MECHANICS_20150831_PC1': True,\n",
       " 'PH1011-PHYSICS_20150922': True,\n",
       " 'PH1011-PHYSICS_20151006': True,\n",
       " 'PH1011-PHYSICS_20151013': True,\n",
       " 'PH1011-PHYSICS_20151020': True,\n",
       " '15S2-PH1106-LEC_20160113': True,\n",
       " '15S2-PH1106-LEC_20160120': True,\n",
       " '15S2-PH1106-LEC_20160127': True,\n",
       " '15S2-PH1106-LEC_20160203': True,\n",
       " '15S2-PH1106-LEC_20160210': True,\n",
       " '16S1-PH1801-LEC_20161013': True,\n",
       " '16S1-PH1801-LEC_20161020': True,\n",
       " '16S1-PH1801-LEC_20161027': True,\n",
       " '16S1-PH1801-LEC_20161103': True,\n",
       " '16S1-PH1801-LEC_20161110': True,\n",
       " '16S1-PH1104-LEC_20161024': True,\n",
       " '16S1-PH1104-LEC_20161027': True,\n",
       " '16S1-PH1104-LEC_20161031': True,\n",
       " '16S1-PH1104-LEC_20161103': True,\n",
       " '16S1-PH1104-LEC_20161107': True,\n",
       " '16S1-PH1104-LEC_20161110': True,\n",
       " '17S1-PH1011-LEC_20171010': True,\n",
       " '17S1-PH1011-LEC_20171017': True,\n",
       " '17S1-PH1011-LEC_20171024': True,\n",
       " '17S1-PH1011-LEC_20171031': True,\n",
       " '17S1-PH1801-LEC_20170817': True,\n",
       " '17S1-PH1801-LEC_20170824': True,\n",
       " '17S1-PH1801-LEC_20170831': True,\n",
       " '17S1-PH1801-LEC_20170907': True,\n",
       " '17S1-PH1801-LEC_20170914': True,\n",
       " '17S1-PH1801-LEC_20170921': True,\n",
       " '17S1-PH1011-LEC_20170815': True,\n",
       " '17S1-PH1011-LEC_20170822': True,\n",
       " '17S1-PH1011-LEC_20170829': True,\n",
       " '17S1-PH1011-LEC_20170905': True,\n",
       " '17S1-PH1011-LEC_20170912': True,\n",
       " '17S2-PH1107-CY1307-LEC_20180116': True,\n",
       " '17S2-PH1107-CY1307-LEC_20180123': True,\n",
       " '17S2-PH1107-CY1307-LEC_20180130': True,\n",
       " '17S2-PH1107-CY1307-LEC_20180206': True,\n",
       " '17S2-PH1107-CY1307-LEC_20180220': True,\n",
       " '17S2-PH1802-LEC_20180316': True,\n",
       " '17S2-PH1802-LEC_20180324': True,\n",
       " '17S2-PH1802-LEC_20180406': True,\n",
       " '17S2-PH1802-LEC_20180413': True,\n",
       " '17S2-PH1802-LEC_20180420': True,\n",
       " nan: False}"
      ]
     },
     "execution_count": 16,
     "metadata": {},
     "output_type": "execute_result"
    }
   ],
   "source": [
    "set_of_coders_videos = coders_lecture_video_map_df[\"Video\"].unique()\n",
    "coders_video_exists_dict = {}\n",
    "for video in set_of_coders_videos:\n",
    "    video_path = os.path.join(C.ORIGINAL_VIDEOS_DIR, str(video) + \".mp4\")\n",
    "    video_exists = os.path.exists(video_path)\n",
    "    coders_video_exists_dict[video] = video_exists\n",
    "coders_video_exists_dict"
   ]
  },
  {
   "cell_type": "markdown",
   "metadata": {},
   "source": [
    "**Result**: still not all videos exists but definately a lot more than in original annotations"
   ]
  },
  {
   "cell_type": "markdown",
   "metadata": {},
   "source": [
    "## Map lecture id to existing video file"
   ]
  },
  {
   "cell_type": "code",
   "execution_count": 17,
   "metadata": {},
   "outputs": [
    {
     "data": {
      "text/html": [
       "<div>\n",
       "<style scoped>\n",
       "    .dataframe tbody tr th:only-of-type {\n",
       "        vertical-align: middle;\n",
       "    }\n",
       "\n",
       "    .dataframe tbody tr th {\n",
       "        vertical-align: top;\n",
       "    }\n",
       "\n",
       "    .dataframe thead th {\n",
       "        text-align: right;\n",
       "    }\n",
       "</style>\n",
       "<table border=\"1\" class=\"dataframe\">\n",
       "  <thead>\n",
       "    <tr style=\"text-align: right;\">\n",
       "      <th></th>\n",
       "      <th>LectureId</th>\n",
       "      <th>Video</th>\n",
       "    </tr>\n",
       "  </thead>\n",
       "  <tbody>\n",
       "    <tr>\n",
       "      <th>0</th>\n",
       "      <td>J3S1C1L1</td>\n",
       "      <td>17S1-CM1021-LEC_20170823</td>\n",
       "    </tr>\n",
       "  </tbody>\n",
       "</table>\n",
       "</div>"
      ],
      "text/plain": [
       "  LectureId                     Video\n",
       "0  J3S1C1L1  17S1-CM1021-LEC_20170823"
      ]
     },
     "execution_count": 17,
     "metadata": {},
     "output_type": "execute_result"
    }
   ],
   "source": [
    "# example lectureId - video mapping\n",
    "t = coders_lecture_video_map_df[coders_lecture_video_map_df[\"LectureId\"]==\"J3S1C1L1\"]\n",
    "t.head()"
   ]
  },
  {
   "cell_type": "code",
   "execution_count": 18,
   "metadata": {},
   "outputs": [
    {
     "data": {
      "text/plain": [
       "array(['J1S1C11L1', 'J1S1C11L2', 'J1S1C11L3', 'J1S1C11L4', 'J1S1C12L1',\n",
       "       'J1S1C13L1', 'J1S1C13L2', 'J1S1C13L3', 'J1S1C13L4', 'J1S1C13L5',\n",
       "       'J1S1C14L1', 'J1S1C14L10', 'J1S1C14L2', 'J1S1C14L3', 'J1S1C14L4',\n",
       "       'J1S1C14L5', 'J1S1C14L6', 'J1S1C14L7', 'J1S1C14L8', 'J1S1C14L9',\n",
       "       'J1S1C5L1', 'J1S1C5L2', 'J1S1C5L3', 'J1S2C15L1', 'J1S2C15L2',\n",
       "       'J1S2C15L3', 'J1S2C15L4', 'J1S2C15L5', 'J1S2C4L1', 'J1S2C4L2',\n",
       "       'J1S2C4L3', 'J1S2C4L4', 'J1S2C4L5', 'J2S1C10L1', 'J2S1C10L2',\n",
       "       'J2S1C10L3', 'J2S1C10L4', 'J2S1C10L5', 'J2S1C13L1', 'J2S1C13L2',\n",
       "       'J2S1C13L3', 'J2S1C13L4', 'J2S1C13L5', 'J2S1C13L6', 'J2S1C17L1',\n",
       "       'J2S1C17L2', 'J2S1C17L3', 'J2S1C17L4', 'J2S1C17L5', 'J2S2C3L1',\n",
       "       'J2S2C3L2', 'J2S2C3L3', 'J2S2C3L4', 'J2S2C3L5', 'J3S1C11L1',\n",
       "       'J3S1C11L2', 'J3S1C11L3', 'J3S1C11L4', 'J3S1C11L5', 'J3S1C17L1',\n",
       "       'J3S1C17L2', 'J3S1C17L3', 'J3S1C17L4', 'J3S1C17L5', 'J3S1C17L6',\n",
       "       'J3S1C1L1', 'J3S1C1L2', 'J3S1C2L1', 'J3S1C2L10', 'J3S1C2L2',\n",
       "       'J3S1C2L3', 'J3S1C2L4', 'J3S1C2L5', 'J3S1C2L6', 'J3S1C2L7',\n",
       "       'J3S1C2L8', 'J3S1C2L9', 'J3S2C16L1', 'J3S2C16L2', 'J3S2C16L3',\n",
       "       'J3S2C16L4', 'J3S2C16L5', 'J3S2C18L1', 'J3S2C18L2', 'J3S2C18L3',\n",
       "       'J3S2C18L4', 'J3S2C18L5', 'J3S2C3L1', 'J3S2C3L2', 'J3S2C3L3',\n",
       "       'J3S2C3L4', 'J3S2C3L5', 'J3S2C3L6', 'J3S2C7L1', 'J3S2C7L2',\n",
       "       'J3S2C7L3', 'J3S2C7L4', 'J3S2C7L5', 'J3S2C7L6', 'J3S2C8L1',\n",
       "       'J3S2C8L2', 'J3S2C8L3', 'J3S2C8L4', 'J3S2C8L5', 'J3S2C9L1',\n",
       "       'J3S2C9L2', 'J3S2C9L3', 'J3S2C9L4', 'J3S2C9L5', 'J3S2C9L6',\n",
       "       'J4S1C2L1', 'J4S1C2L10', 'J4S1C2L11', 'J4S1C2L2', 'J4S1C2L3',\n",
       "       'J4S1C2L4', 'J4S1C2L5', 'J4S1C2L6', 'J4S1C2L7', 'J4S1C2L8',\n",
       "       'J4S1C2L9', 'J4S1C6L1', 'J4S1C6L2', 'J4S1C6L3'], dtype=object)"
      ]
     },
     "execution_count": 18,
     "metadata": {},
     "output_type": "execute_result"
    }
   ],
   "source": [
    "# get all lectures\n",
    "set_of_all_lecture_ids = annotations_df[C.A_LECTURE_ID].unique()\n",
    "set_of_all_lecture_ids"
   ]
  },
  {
   "cell_type": "code",
   "execution_count": 19,
   "metadata": {},
   "outputs": [],
   "source": [
    "lecture_id_to_existsing_video_dict = {}\n",
    "\n",
    "# for every lecture\n",
    "for lecture_id in set_of_all_lecture_ids:\n",
    "    \n",
    "    # get original annotations for lecture\n",
    "    annotations_lecture_df = annotations_df[annotations_df[C.A_LECTURE_ID] == lecture_id]\n",
    "    # also, get all lecture - video rows from coders file\n",
    "    coders_lecture_df = coders_lecture_video_map_df[coders_lecture_video_map_df[\"LectureId\"] == lecture_id]\n",
    "    \n",
    "    # Generally, there should be only one mapping of lecturId - video in both original and coders files.\n",
    "    # However, this might not be the case, so we assume here that for some reasons (probably errors)\n",
    "    # some lecture events might be mapped to videoName1, and others to videoName2, videoName3 etc.\n",
    "    all_original_videos_for_lecture = annotations_lecture_df[C.A_VIDEO].unique()\n",
    "    all_coders_videos_for_lecture = coders_lecture_df[\"Video\"].unique()\n",
    "    \n",
    "    matched_in_coders_file = False\n",
    "    \n",
    "    # first try coders file - possibly more up to date\n",
    "    for coders_video in all_coders_videos_for_lecture:\n",
    "        video_exists = coders_video_exists_dict[coders_video]\n",
    "        \n",
    "        if video_exists:\n",
    "            lecture_id_to_existsing_video_dict[lecture_id] = coders_video\n",
    "            matched_in_coders_file = True\n",
    "            break\n",
    "            \n",
    "    if matched_in_coders_file:\n",
    "        continue\n",
    "    \n",
    "    existing_video = None\n",
    "    \n",
    "    # if not, try to match video from annotations file\n",
    "    for video in all_original_videos_for_lecture:\n",
    "        \n",
    "        video_exists = video_exists_dict[video]\n",
    "        \n",
    "        if video_exists:\n",
    "            print(f\"{lecture_id}: Setting video from annotations file\")\n",
    "            is_different_video_for_same_lecture = video == existing_video\n",
    "            if is_different_video_for_same_lecture:\n",
    "                print(f\"Duplicate! Lecture: {lecture_id}, Video: {video}\")\n",
    "                raise 1\n",
    "            \n",
    "            existing_video = video\n",
    "    \n",
    "    lecture_id_to_existsing_video_dict[lecture_id] = existing_video"
   ]
  },
  {
   "cell_type": "markdown",
   "metadata": {},
   "source": [
    "Lectures without video:"
   ]
  },
  {
   "cell_type": "code",
   "execution_count": 20,
   "metadata": {},
   "outputs": [
    {
     "data": {
      "text/plain": [
       "['J1S1C14L10', 'J1S1C14L5', 'J1S1C14L6', 'J1S1C14L7', 'J1S1C14L8', 'J1S1C14L9']"
      ]
     },
     "execution_count": 20,
     "metadata": {},
     "output_type": "execute_result"
    }
   ],
   "source": [
    "lectures_without_video = [k for (k,v) in lecture_id_to_existsing_video_dict.items() if v is None]\n",
    "lectures_without_video"
   ]
  },
  {
   "cell_type": "markdown",
   "metadata": {},
   "source": [
    "### Remove lectures without videos\n",
    "\n",
    "Those lecture have to be removed - we have no reliable way of finding videos for them"
   ]
  },
  {
   "cell_type": "code",
   "execution_count": 21,
   "metadata": {},
   "outputs": [
    {
     "name": "stdout",
     "output_type": "stream",
     "text": [
      "40946\n",
      "39753\n"
     ]
    }
   ],
   "source": [
    "print(len(annotations_df))\n",
    "annotations_df = annotations_df[~annotations_df[C.A_LECTURE_ID].isin(lectures_without_video)]\n",
    "print(len(annotations_df))"
   ]
  },
  {
   "cell_type": "markdown",
   "metadata": {},
   "source": [
    "### Fix video files for lectures"
   ]
  },
  {
   "cell_type": "code",
   "execution_count": 22,
   "metadata": {},
   "outputs": [
    {
     "name": "stdout",
     "output_type": "stream",
     "text": [
      "Number of events to remove: 0 / 39753 (SHOULD BE ZERO)\n"
     ]
    }
   ],
   "source": [
    "annotations_df[C.A_VIDEO] = annotations_df[C.A_LECTURE_ID].apply(lambda lecture_id: lecture_id_to_existsing_video_dict[lecture_id])\n",
    "\n",
    "number_of_all_events = annotations_df.shape[0]\n",
    "number_of_invalid_events = annotations_df[annotations_df[C.A_VIDEO].isnull()].shape[0]\n",
    "\n",
    "print(f\"Number of events to remove: {number_of_invalid_events} / {number_of_all_events} (SHOULD BE ZERO)\")"
   ]
  },
  {
   "cell_type": "markdown",
   "metadata": {},
   "source": [
    "### Show videos (from source directory) without annotations\n",
    "\n",
    "Now, every annotation can be matched with some video. However, not every video was annotated:"
   ]
  },
  {
   "cell_type": "code",
   "execution_count": 23,
   "metadata": {},
   "outputs": [],
   "source": [
    "all_video_names = [name for name in os.listdir(C.ORIGINAL_VIDEOS_DIR) if \".mp4\" in name]\n",
    "all_video_names = [name[:-4] for name in all_video_names]"
   ]
  },
  {
   "cell_type": "code",
   "execution_count": 24,
   "metadata": {},
   "outputs": [],
   "source": [
    "video_to_lecture_id = {v: k for (k,v) in lecture_id_to_existsing_video_dict.items()}"
   ]
  },
  {
   "cell_type": "code",
   "execution_count": 25,
   "metadata": {},
   "outputs": [
    {
     "name": "stdout",
     "output_type": "stream",
     "text": [
      "17S2-BS1102-LEC_20180126\n",
      "16S2-MH1402-LEC_20170324\n",
      "18S1-BS1101-LEC_20181023\n",
      "17S1-PH1011-LEC_20170815\n",
      "17S2-BS1102-LEC_20180125\n",
      "18S1-BS1101-LEC_20181019\n",
      "17S2-PH1107-CY1307-LEC_20180213\n",
      "18S1-BS1101-LEC_20181015\n",
      "18S1-PH1801-LEC_20180831\n",
      "15S1-MH1800-LEC_20151012\n",
      "18S1-BS1101-LEC_20181022\n",
      "15S1-MH1812-LEC_20150914\n",
      "PH1011-PHYSICS_20150818\n",
      "15S1-MH1800-LEC_20150907\n",
      "17S2-BS1102-LEC_20180123\n",
      "17S1-CM1021-LEC_20170818\n",
      "17S1-PH1011-LEC_20170829\n",
      "18S1-PH1801-LEC_20180907\n",
      "17S2-CM1041-LEC_20180214\n",
      "17S2-BS1102-LEC_20180129\n",
      "17S1-CM1021-LEC_20170825\n",
      "16S2-MH1402-LEC_20170317\n",
      "18S1-BS1101-LEC_20181017\n",
      "17S1-PH1011-LEC_20170905\n",
      "18S1-PH1801-LEC_20180817\n",
      "15S1-MH1800-LEC_20151005\n",
      "17S2-BS1102-LEC_20180122\n",
      "15S1-MH1800-LEC_20150914\n",
      "17S1-CM1021-LEC_20170830\n",
      "17S2-BS1102-LEC_20180202\n",
      "15S1-MH1812-LEC_20150910\n",
      "17S2-MH1804-LEC_20180405\n",
      "16S2-MH1402-LEC_20170310\n",
      "17S1-PH1011-LEC_20170822\n",
      "17S2-BS1102-LEC_20180117\n",
      "17S2-BS1102-LEC_20180130\n",
      "17S2-CM1041-LEC_20180223\n",
      "18S1-BS1101-LEC_20181016\n",
      "BS1101-BASICS OF TCM_20181012\n",
      "15S1-MH1800-LEC_20150921\n",
      "18S1-PH1801-LEC_20180914\n",
      "16S1-MH1812-LEC_20160825\n",
      "17S2-CM1041-LEC_20180221\n",
      "17S2-BS1102-LEC_20180115\n",
      "16S2-MH1402-LEC_20170224\n",
      "15S1-MH1812-LEC_20150917\n",
      "17S1-CM1021-LEC_20170816\n",
      "18S1-BS1101-LEC_20181008\n",
      "18S1-BS1101-LEC_20181012\n",
      "18S1-MH1802-LEC_20180813\n",
      "17S1-PH1011-LEC_20170926\n",
      "15S1-MH1800-LEC_20151019\n",
      "17S2-CM1041-LEC_20180209\n",
      "PH1011-PHYSICS_20150929\n",
      "15S1-PH1105-LEC_20150814\n",
      "17S2-BS1102-LEC_20180131\n",
      "17S2-BS1102-LEC_20180118\n",
      "15S1-MH1800-LEC_20151026\n",
      "18S1-PH1801-LEC_20180921\n",
      "17S2-BS1102-LEC_20180116\n",
      "18S1-BS1101-LEC_20181010\n",
      "17S2-BS1102-LEC_20180119\n",
      "18S1-PH1801-LEC_20180824\n",
      "16S2-MH1402-LEC_20170331\n",
      "17S2-CM1041-LEC_20180207\n",
      "17S2-BS1102-LEC_20180124\n",
      "17S2-BS1102-LEC_20180201\n"
     ]
    }
   ],
   "source": [
    "for video in all_video_names:\n",
    "    if video_to_lecture_id.get(video) is None:\n",
    "        print(video)"
   ]
  },
  {
   "cell_type": "markdown",
   "metadata": {},
   "source": [
    "**The amount of not annotated videos is huge**\n",
    "\n",
    "However, we cannot do anything about it. Moreover, we don't even have to remove them - just leave them alone."
   ]
  },
  {
   "cell_type": "markdown",
   "metadata": {},
   "source": [
    "### Remove videos without layout annotations"
   ]
  },
  {
   "cell_type": "code",
   "execution_count": 26,
   "metadata": {},
   "outputs": [
    {
     "data": {
      "text/plain": [
       "'16S2-MH1402-LEC_20170331.pt'"
      ]
     },
     "execution_count": 26,
     "metadata": {},
     "output_type": "execute_result"
    }
   ],
   "source": [
    "example_layout_file = os.listdir(C.LAYOUT_ANNOTATIONS_DIR)[0]\n",
    "example_layout_file"
   ]
  },
  {
   "cell_type": "code",
   "execution_count": 27,
   "metadata": {},
   "outputs": [
    {
     "data": {
      "text/plain": [
       "torch.Size([6136])"
      ]
     },
     "execution_count": 27,
     "metadata": {},
     "output_type": "execute_result"
    }
   ],
   "source": [
    "example_layout_labels = torch.load(f\"{C.LAYOUT_ANNOTATIONS_DIR}/{example_layout_file}\")\n",
    "example_layout_labels.shape"
   ]
  },
  {
   "cell_type": "code",
   "execution_count": 28,
   "metadata": {},
   "outputs": [
    {
     "name": "stdout",
     "output_type": "stream",
     "text": [
      "16S2-MH1402-LEC_20170331\n",
      "179\n"
     ]
    }
   ],
   "source": [
    "videos_with_layout = [file[:-3] for file in os.listdir(C.LAYOUT_ANNOTATIONS_DIR)]\n",
    "print(videos_with_layout[0])\n",
    "print(len(videos_with_layout))"
   ]
  },
  {
   "cell_type": "code",
   "execution_count": 29,
   "metadata": {},
   "outputs": [
    {
     "name": "stdout",
     "output_type": "stream",
     "text": [
      "17S2-BS1102-LEC_20180126.\n",
      "188\n"
     ]
    }
   ],
   "source": [
    "all_videos = [file[:-3] for file in os.listdir(C.ORIGINAL_VIDEOS_DIR)]\n",
    "print(all_videos[0])\n",
    "print(len(all_videos))"
   ]
  },
  {
   "cell_type": "code",
   "execution_count": 30,
   "metadata": {},
   "outputs": [
    {
     "data": {
      "text/plain": [
       "39753"
      ]
     },
     "execution_count": 30,
     "metadata": {},
     "output_type": "execute_result"
    }
   ],
   "source": [
    "len(annotations_df)"
   ]
  },
  {
   "cell_type": "code",
   "execution_count": 31,
   "metadata": {},
   "outputs": [
    {
     "data": {
      "text/plain": [
       "39753"
      ]
     },
     "execution_count": 31,
     "metadata": {},
     "output_type": "execute_result"
    }
   ],
   "source": [
    "annotations_df_tmp = annotations_df[C.A_VIDEO].isin(videos_with_layout)\n",
    "len(annotations_df_tmp)"
   ]
  },
  {
   "cell_type": "markdown",
   "metadata": {},
   "source": [
    "Seems like all videos were annotated with layout type"
   ]
  },
  {
   "cell_type": "markdown",
   "metadata": {},
   "source": [
    "### Fix NaN duration"
   ]
  },
  {
   "cell_type": "code",
   "execution_count": 38,
   "metadata": {},
   "outputs": [],
   "source": [
    "annotations_df = annotations_df.fillna(0)"
   ]
  },
  {
   "cell_type": "markdown",
   "metadata": {},
   "source": [
    "### Add time column"
   ]
  },
  {
   "cell_type": "code",
   "execution_count": 39,
   "metadata": {},
   "outputs": [],
   "source": [
    "annotations_df[C.A_TIME] = (annotations_df[C.A_START] + annotations_df[C.A_STOP]) / 2"
   ]
  },
  {
   "cell_type": "markdown",
   "metadata": {},
   "source": [
    "### Round time columns"
   ]
  },
  {
   "cell_type": "code",
   "execution_count": 40,
   "metadata": {},
   "outputs": [],
   "source": [
    "annotations_df[C.A_DURATION] = np.round(annotations_df[C.A_DURATION], 4)\n",
    "annotations_df[C.A_START] = np.round(annotations_df[C.A_START], 4)\n",
    "annotations_df[C.A_STOP] = np.round(annotations_df[C.A_STOP], 4)\n",
    "annotations_df[C.A_TIME] = np.round(annotations_df[C.A_TIME], 4)"
   ]
  },
  {
   "cell_type": "code",
   "execution_count": 41,
   "metadata": {
    "scrolled": true
   },
   "outputs": [
    {
     "data": {
      "text/html": [
       "<div>\n",
       "<style scoped>\n",
       "    .dataframe tbody tr th:only-of-type {\n",
       "        vertical-align: middle;\n",
       "    }\n",
       "\n",
       "    .dataframe tbody tr th {\n",
       "        vertical-align: top;\n",
       "    }\n",
       "\n",
       "    .dataframe thead th {\n",
       "        text-align: right;\n",
       "    }\n",
       "</style>\n",
       "<table border=\"1\" class=\"dataframe\">\n",
       "  <thead>\n",
       "    <tr style=\"text-align: right;\">\n",
       "      <th></th>\n",
       "      <th>Id</th>\n",
       "      <th>Unnamed: 0</th>\n",
       "      <th>Behavior</th>\n",
       "      <th>Behavior type</th>\n",
       "      <th>Behavioral category</th>\n",
       "      <th>Comment start</th>\n",
       "      <th>Comment stop</th>\n",
       "      <th>Duration (s)</th>\n",
       "      <th>FPS</th>\n",
       "      <th>Media file</th>\n",
       "      <th>...</th>\n",
       "      <th>Start (s)</th>\n",
       "      <th>Stop (s)</th>\n",
       "      <th>Subject</th>\n",
       "      <th>Total length</th>\n",
       "      <th>lecture_id</th>\n",
       "      <th>research_assistant_id</th>\n",
       "      <th>subject_id</th>\n",
       "      <th>BehaviorId</th>\n",
       "      <th>Video</th>\n",
       "      <th>Time</th>\n",
       "    </tr>\n",
       "  </thead>\n",
       "  <tbody>\n",
       "    <tr>\n",
       "      <th>0</th>\n",
       "      <td>0</td>\n",
       "      <td>0</td>\n",
       "      <td>eye contact</td>\n",
       "      <td>STATE</td>\n",
       "      <td>Encouraging learner engagement</td>\n",
       "      <td>0.0</td>\n",
       "      <td>0</td>\n",
       "      <td>2841.008</td>\n",
       "      <td>29.83</td>\n",
       "      <td>C:/Users/ACER/Downloads/PH1011-PHYSICS_2015092...</td>\n",
       "      <td>...</td>\n",
       "      <td>29.355</td>\n",
       "      <td>2870.363</td>\n",
       "      <td>No focal subject</td>\n",
       "      <td>7197.58</td>\n",
       "      <td>J1S1C11L1</td>\n",
       "      <td>RA13</td>\n",
       "      <td>J1S1C11</td>\n",
       "      <td>B_EYE</td>\n",
       "      <td>PH1011-PHYSICS_20150922</td>\n",
       "      <td>1449.859</td>\n",
       "    </tr>\n",
       "    <tr>\n",
       "      <th>1</th>\n",
       "      <td>1</td>\n",
       "      <td>1</td>\n",
       "      <td>Writing on slides</td>\n",
       "      <td>STATE</td>\n",
       "      <td>Providing clear explanation; Arousing interest</td>\n",
       "      <td>0.0</td>\n",
       "      <td>0</td>\n",
       "      <td>2739.504</td>\n",
       "      <td>29.83</td>\n",
       "      <td>C:/Users/ACER/Downloads/PH1011-PHYSICS_2015092...</td>\n",
       "      <td>...</td>\n",
       "      <td>132.351</td>\n",
       "      <td>2871.855</td>\n",
       "      <td>No focal subject</td>\n",
       "      <td>7197.58</td>\n",
       "      <td>J1S1C11L1</td>\n",
       "      <td>RA13</td>\n",
       "      <td>J1S1C11</td>\n",
       "      <td>B_WRITING_SLIDES</td>\n",
       "      <td>PH1011-PHYSICS_20150922</td>\n",
       "      <td>1502.103</td>\n",
       "    </tr>\n",
       "    <tr>\n",
       "      <th>2</th>\n",
       "      <td>2</td>\n",
       "      <td>2</td>\n",
       "      <td>use of voice intonation to Emphasise more impo...</td>\n",
       "      <td>STATE</td>\n",
       "      <td>Encouraging learner engagement; Pacing and mai...</td>\n",
       "      <td>0.0</td>\n",
       "      <td>0</td>\n",
       "      <td>4.002</td>\n",
       "      <td>29.83</td>\n",
       "      <td>C:/Users/ACER/Downloads/PH1011-PHYSICS_2015092...</td>\n",
       "      <td>...</td>\n",
       "      <td>350.396</td>\n",
       "      <td>354.398</td>\n",
       "      <td>No focal subject</td>\n",
       "      <td>7197.58</td>\n",
       "      <td>J1S1C11L1</td>\n",
       "      <td>RA13</td>\n",
       "      <td>J1S1C11</td>\n",
       "      <td>B_VOICE</td>\n",
       "      <td>PH1011-PHYSICS_20150922</td>\n",
       "      <td>352.397</td>\n",
       "    </tr>\n",
       "  </tbody>\n",
       "</table>\n",
       "<p>3 rows × 23 columns</p>\n",
       "</div>"
      ],
      "text/plain": [
       "   Id  Unnamed: 0                                           Behavior  \\\n",
       "0   0           0                                        eye contact   \n",
       "1   1           1                                  Writing on slides   \n",
       "2   2           2  use of voice intonation to Emphasise more impo...   \n",
       "\n",
       "  Behavior type                                Behavioral category  \\\n",
       "0         STATE                     Encouraging learner engagement   \n",
       "1         STATE     Providing clear explanation; Arousing interest   \n",
       "2         STATE  Encouraging learner engagement; Pacing and mai...   \n",
       "\n",
       "   Comment start Comment stop  Duration (s)    FPS  \\\n",
       "0            0.0            0      2841.008  29.83   \n",
       "1            0.0            0      2739.504  29.83   \n",
       "2            0.0            0         4.002  29.83   \n",
       "\n",
       "                                          Media file  ... Start (s)  Stop (s)  \\\n",
       "0  C:/Users/ACER/Downloads/PH1011-PHYSICS_2015092...  ...    29.355  2870.363   \n",
       "1  C:/Users/ACER/Downloads/PH1011-PHYSICS_2015092...  ...   132.351  2871.855   \n",
       "2  C:/Users/ACER/Downloads/PH1011-PHYSICS_2015092...  ...   350.396   354.398   \n",
       "\n",
       "            Subject  Total length  lecture_id research_assistant_id  \\\n",
       "0  No focal subject       7197.58   J1S1C11L1                  RA13   \n",
       "1  No focal subject       7197.58   J1S1C11L1                  RA13   \n",
       "2  No focal subject       7197.58   J1S1C11L1                  RA13   \n",
       "\n",
       "   subject_id        BehaviorId                    Video      Time  \n",
       "0     J1S1C11             B_EYE  PH1011-PHYSICS_20150922  1449.859  \n",
       "1     J1S1C11  B_WRITING_SLIDES  PH1011-PHYSICS_20150922  1502.103  \n",
       "2     J1S1C11           B_VOICE  PH1011-PHYSICS_20150922   352.397  \n",
       "\n",
       "[3 rows x 23 columns]"
      ]
     },
     "execution_count": 41,
     "metadata": {},
     "output_type": "execute_result"
    }
   ],
   "source": [
    "annotations_df.head(3)"
   ]
  },
  {
   "cell_type": "markdown",
   "metadata": {},
   "source": [
    "# Add human time"
   ]
  },
  {
   "cell_type": "code",
   "execution_count": 48,
   "metadata": {},
   "outputs": [],
   "source": [
    "def format_seconds(seconds):\n",
    "    date = datetime.fromtimestamp(seconds) - timedelta(hours=1)\n",
    "    return date.strftime(\"%H:%M:%S:%f\")[:-3]"
   ]
  },
  {
   "cell_type": "code",
   "execution_count": 50,
   "metadata": {},
   "outputs": [
    {
     "data": {
      "text/plain": [
       "'00:00:29:355'"
      ]
     },
     "execution_count": 50,
     "metadata": {},
     "output_type": "execute_result"
    }
   ],
   "source": [
    "format_seconds(29.355)"
   ]
  },
  {
   "cell_type": "code",
   "execution_count": 54,
   "metadata": {},
   "outputs": [],
   "source": [
    "annotations_df[C.A_START_H] = annotations_df.apply(lambda row: format_seconds(row[C.A_START]), axis=1)\n",
    "annotations_df[C.A_STOP_H] = annotations_df.apply(lambda row: format_seconds(row[C.A_STOP]), axis=1)\n",
    "annotations_df[C.A_TIME_H] = annotations_df.apply(lambda row: format_seconds(row[C.A_TIME]), axis=1)"
   ]
  },
  {
   "cell_type": "code",
   "execution_count": 55,
   "metadata": {},
   "outputs": [
    {
     "data": {
      "text/html": [
       "<div>\n",
       "<style scoped>\n",
       "    .dataframe tbody tr th:only-of-type {\n",
       "        vertical-align: middle;\n",
       "    }\n",
       "\n",
       "    .dataframe tbody tr th {\n",
       "        vertical-align: top;\n",
       "    }\n",
       "\n",
       "    .dataframe thead th {\n",
       "        text-align: right;\n",
       "    }\n",
       "</style>\n",
       "<table border=\"1\" class=\"dataframe\">\n",
       "  <thead>\n",
       "    <tr style=\"text-align: right;\">\n",
       "      <th></th>\n",
       "      <th>Id</th>\n",
       "      <th>Unnamed: 0</th>\n",
       "      <th>Behavior</th>\n",
       "      <th>Behavior type</th>\n",
       "      <th>Behavioral category</th>\n",
       "      <th>Comment start</th>\n",
       "      <th>Comment stop</th>\n",
       "      <th>Duration (s)</th>\n",
       "      <th>FPS</th>\n",
       "      <th>Media file</th>\n",
       "      <th>...</th>\n",
       "      <th>Total length</th>\n",
       "      <th>lecture_id</th>\n",
       "      <th>research_assistant_id</th>\n",
       "      <th>subject_id</th>\n",
       "      <th>BehaviorId</th>\n",
       "      <th>Video</th>\n",
       "      <th>Time</th>\n",
       "      <th>Start H (s)</th>\n",
       "      <th>Stop H (s)</th>\n",
       "      <th>Time H</th>\n",
       "    </tr>\n",
       "  </thead>\n",
       "  <tbody>\n",
       "    <tr>\n",
       "      <th>0</th>\n",
       "      <td>0</td>\n",
       "      <td>0</td>\n",
       "      <td>eye contact</td>\n",
       "      <td>STATE</td>\n",
       "      <td>Encouraging learner engagement</td>\n",
       "      <td>0.0</td>\n",
       "      <td>0</td>\n",
       "      <td>2841.008</td>\n",
       "      <td>29.83</td>\n",
       "      <td>C:/Users/ACER/Downloads/PH1011-PHYSICS_2015092...</td>\n",
       "      <td>...</td>\n",
       "      <td>7197.58</td>\n",
       "      <td>J1S1C11L1</td>\n",
       "      <td>RA13</td>\n",
       "      <td>J1S1C11</td>\n",
       "      <td>B_EYE</td>\n",
       "      <td>PH1011-PHYSICS_20150922</td>\n",
       "      <td>1449.859</td>\n",
       "      <td>00:00:29:355</td>\n",
       "      <td>00:47:50:363</td>\n",
       "      <td>00:24:09:859</td>\n",
       "    </tr>\n",
       "    <tr>\n",
       "      <th>1</th>\n",
       "      <td>1</td>\n",
       "      <td>1</td>\n",
       "      <td>Writing on slides</td>\n",
       "      <td>STATE</td>\n",
       "      <td>Providing clear explanation; Arousing interest</td>\n",
       "      <td>0.0</td>\n",
       "      <td>0</td>\n",
       "      <td>2739.504</td>\n",
       "      <td>29.83</td>\n",
       "      <td>C:/Users/ACER/Downloads/PH1011-PHYSICS_2015092...</td>\n",
       "      <td>...</td>\n",
       "      <td>7197.58</td>\n",
       "      <td>J1S1C11L1</td>\n",
       "      <td>RA13</td>\n",
       "      <td>J1S1C11</td>\n",
       "      <td>B_WRITING_SLIDES</td>\n",
       "      <td>PH1011-PHYSICS_20150922</td>\n",
       "      <td>1502.103</td>\n",
       "      <td>00:02:12:351</td>\n",
       "      <td>00:47:51:855</td>\n",
       "      <td>00:25:02:103</td>\n",
       "    </tr>\n",
       "    <tr>\n",
       "      <th>2</th>\n",
       "      <td>2</td>\n",
       "      <td>2</td>\n",
       "      <td>use of voice intonation to Emphasise more impo...</td>\n",
       "      <td>STATE</td>\n",
       "      <td>Encouraging learner engagement; Pacing and mai...</td>\n",
       "      <td>0.0</td>\n",
       "      <td>0</td>\n",
       "      <td>4.002</td>\n",
       "      <td>29.83</td>\n",
       "      <td>C:/Users/ACER/Downloads/PH1011-PHYSICS_2015092...</td>\n",
       "      <td>...</td>\n",
       "      <td>7197.58</td>\n",
       "      <td>J1S1C11L1</td>\n",
       "      <td>RA13</td>\n",
       "      <td>J1S1C11</td>\n",
       "      <td>B_VOICE</td>\n",
       "      <td>PH1011-PHYSICS_20150922</td>\n",
       "      <td>352.397</td>\n",
       "      <td>00:05:50:396</td>\n",
       "      <td>00:05:54:398</td>\n",
       "      <td>00:05:52:397</td>\n",
       "    </tr>\n",
       "  </tbody>\n",
       "</table>\n",
       "<p>3 rows × 26 columns</p>\n",
       "</div>"
      ],
      "text/plain": [
       "   Id  Unnamed: 0                                           Behavior  \\\n",
       "0   0           0                                        eye contact   \n",
       "1   1           1                                  Writing on slides   \n",
       "2   2           2  use of voice intonation to Emphasise more impo...   \n",
       "\n",
       "  Behavior type                                Behavioral category  \\\n",
       "0         STATE                     Encouraging learner engagement   \n",
       "1         STATE     Providing clear explanation; Arousing interest   \n",
       "2         STATE  Encouraging learner engagement; Pacing and mai...   \n",
       "\n",
       "   Comment start Comment stop  Duration (s)    FPS  \\\n",
       "0            0.0            0      2841.008  29.83   \n",
       "1            0.0            0      2739.504  29.83   \n",
       "2            0.0            0         4.002  29.83   \n",
       "\n",
       "                                          Media file  ... Total length  \\\n",
       "0  C:/Users/ACER/Downloads/PH1011-PHYSICS_2015092...  ...      7197.58   \n",
       "1  C:/Users/ACER/Downloads/PH1011-PHYSICS_2015092...  ...      7197.58   \n",
       "2  C:/Users/ACER/Downloads/PH1011-PHYSICS_2015092...  ...      7197.58   \n",
       "\n",
       "  lecture_id research_assistant_id  subject_id        BehaviorId  \\\n",
       "0  J1S1C11L1                  RA13     J1S1C11             B_EYE   \n",
       "1  J1S1C11L1                  RA13     J1S1C11  B_WRITING_SLIDES   \n",
       "2  J1S1C11L1                  RA13     J1S1C11           B_VOICE   \n",
       "\n",
       "                     Video      Time   Start H (s)    Stop H (s)        Time H  \n",
       "0  PH1011-PHYSICS_20150922  1449.859  00:00:29:355  00:47:50:363  00:24:09:859  \n",
       "1  PH1011-PHYSICS_20150922  1502.103  00:02:12:351  00:47:51:855  00:25:02:103  \n",
       "2  PH1011-PHYSICS_20150922   352.397  00:05:50:396  00:05:54:398  00:05:52:397  \n",
       "\n",
       "[3 rows x 26 columns]"
      ]
     },
     "execution_count": 55,
     "metadata": {},
     "output_type": "execute_result"
    }
   ],
   "source": [
    "annotations_df.head(3)"
   ]
  },
  {
   "cell_type": "markdown",
   "metadata": {},
   "source": [
    "### Save processed annotations"
   ]
  },
  {
   "cell_type": "code",
   "execution_count": 56,
   "metadata": {},
   "outputs": [],
   "source": [
    "annotations_df.to_csv(C.PROCESSED_ANNOTATIONS_PATH, index=False)"
   ]
  }
 ],
 "metadata": {
  "kernelspec": {
   "display_name": "Python 3",
   "language": "python",
   "name": "python3"
  },
  "language_info": {
   "codemirror_mode": {
    "name": "ipython",
    "version": 3
   },
   "file_extension": ".py",
   "mimetype": "text/x-python",
   "name": "python",
   "nbconvert_exporter": "python",
   "pygments_lexer": "ipython3",
   "version": "3.6.10"
  }
 },
 "nbformat": 4,
 "nbformat_minor": 4
}
