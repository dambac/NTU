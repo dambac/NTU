{
 "cells": [
  {
   "cell_type": "code",
   "execution_count": 19,
   "metadata": {},
   "outputs": [
    {
     "name": "stdout",
     "output_type": "stream",
     "text": [
      "Constants loaded\n"
     ]
    }
   ],
   "source": [
    "%run /home/dbaciur/NTU/NTU/notes/Constants.ipynb"
   ]
  },
  {
   "cell_type": "code",
   "execution_count": 20,
   "metadata": {},
   "outputs": [],
   "source": [
    "import pandas as pd\n",
    "import numpy as np\n",
    "import os\n",
    "import matplotlib.pyplot as plt\n",
    "from mpl_toolkits.axes_grid1 import ImageGrid\n",
    "import torch\n",
    "import torchvision as tv\n",
    "from torchvision.transforms import transforms"
   ]
  },
  {
   "cell_type": "markdown",
   "metadata": {},
   "source": [
    "## Import annotations"
   ]
  },
  {
   "cell_type": "code",
   "execution_count": 21,
   "metadata": {},
   "outputs": [
    {
     "data": {
      "text/html": [
       "<div>\n",
       "<style scoped>\n",
       "    .dataframe tbody tr th:only-of-type {\n",
       "        vertical-align: middle;\n",
       "    }\n",
       "\n",
       "    .dataframe tbody tr th {\n",
       "        vertical-align: top;\n",
       "    }\n",
       "\n",
       "    .dataframe thead th {\n",
       "        text-align: right;\n",
       "    }\n",
       "</style>\n",
       "<table border=\"1\" class=\"dataframe\">\n",
       "  <thead>\n",
       "    <tr style=\"text-align: right;\">\n",
       "      <th></th>\n",
       "      <th>Id</th>\n",
       "      <th>Unnamed: 0</th>\n",
       "      <th>Behavior</th>\n",
       "      <th>Behavior type</th>\n",
       "      <th>Behavioral category</th>\n",
       "      <th>Comment start</th>\n",
       "      <th>Comment stop</th>\n",
       "      <th>Duration (s)</th>\n",
       "      <th>FPS</th>\n",
       "      <th>Media file</th>\n",
       "      <th>...</th>\n",
       "      <th>Start (s)</th>\n",
       "      <th>Stop (s)</th>\n",
       "      <th>Subject</th>\n",
       "      <th>Total length</th>\n",
       "      <th>lecture_id</th>\n",
       "      <th>research_assistant_id</th>\n",
       "      <th>subject_id</th>\n",
       "      <th>BehaviorId</th>\n",
       "      <th>Video</th>\n",
       "      <th>Time</th>\n",
       "    </tr>\n",
       "  </thead>\n",
       "  <tbody>\n",
       "    <tr>\n",
       "      <th>0</th>\n",
       "      <td>1</td>\n",
       "      <td>1</td>\n",
       "      <td>Writing on slides</td>\n",
       "      <td>STATE</td>\n",
       "      <td>Providing clear explanation; Arousing interest</td>\n",
       "      <td>0.0</td>\n",
       "      <td>0</td>\n",
       "      <td>2739.504</td>\n",
       "      <td>29.83</td>\n",
       "      <td>C:/Users/ACER/Downloads/PH1011-PHYSICS_2015092...</td>\n",
       "      <td>...</td>\n",
       "      <td>132.351</td>\n",
       "      <td>2871.855</td>\n",
       "      <td>No focal subject</td>\n",
       "      <td>7197.58</td>\n",
       "      <td>J1S1C11L1</td>\n",
       "      <td>RA13</td>\n",
       "      <td>J1S1C11</td>\n",
       "      <td>1</td>\n",
       "      <td>PH1011-PHYSICS_20150922</td>\n",
       "      <td>1502.103</td>\n",
       "    </tr>\n",
       "  </tbody>\n",
       "</table>\n",
       "<p>1 rows × 23 columns</p>\n",
       "</div>"
      ],
      "text/plain": [
       "   Id  Unnamed: 0           Behavior Behavior type  \\\n",
       "0   1           1  Writing on slides         STATE   \n",
       "\n",
       "                              Behavioral category  Comment start  \\\n",
       "0  Providing clear explanation; Arousing interest            0.0   \n",
       "\n",
       "   Comment stop  Duration (s)    FPS  \\\n",
       "0             0      2739.504  29.83   \n",
       "\n",
       "                                          Media file  ... Start (s)  Stop (s)  \\\n",
       "0  C:/Users/ACER/Downloads/PH1011-PHYSICS_2015092...  ...   132.351  2871.855   \n",
       "\n",
       "            Subject  Total length  lecture_id research_assistant_id  \\\n",
       "0  No focal subject       7197.58   J1S1C11L1                  RA13   \n",
       "\n",
       "   subject_id BehaviorId                    Video      Time  \n",
       "0     J1S1C11          1  PH1011-PHYSICS_20150922  1502.103  \n",
       "\n",
       "[1 rows x 23 columns]"
      ]
     },
     "execution_count": 21,
     "metadata": {},
     "output_type": "execute_result"
    }
   ],
   "source": [
    "visual_df = pd.read_csv(C.VISUAL_EVENTS_PATH)\n",
    "visual_df.head(1)"
   ]
  },
  {
   "cell_type": "markdown",
   "metadata": {},
   "source": [
    "## Count events for each behavior"
   ]
  },
  {
   "cell_type": "code",
   "execution_count": 22,
   "metadata": {},
   "outputs": [
    {
     "data": {
      "text/plain": [
       "{1: 6738,\n",
       " 19: 2975,\n",
       " 8: 2248,\n",
       " 14: 1746,\n",
       " 18: 1301,\n",
       " 7: 1078,\n",
       " 13: 914,\n",
       " 17: 796,\n",
       " 32: 587,\n",
       " 23: 309,\n",
       " 31: 267,\n",
       " 22: 258,\n",
       " 12: 251,\n",
       " 16: 162,\n",
       " 15: 134}"
      ]
     },
     "execution_count": 22,
     "metadata": {},
     "output_type": "execute_result"
    }
   ],
   "source": [
    "events_count = {}\n",
    "for beh in C.VISUAL_BEHS:\n",
    "    beh_df = visual_df[visual_df[C.A_BEH_ID] == beh]\n",
    "    events_count[beh] = len(beh_df)\n",
    "    \n",
    "# sort by value\n",
    "events_count = dict(sorted(events_count.items(), key=lambda item: item[1], reverse=True))\n",
    "events_count"
   ]
  },
  {
   "cell_type": "code",
   "execution_count": 23,
   "metadata": {},
   "outputs": [],
   "source": [
    "def get_beh_label(beh_id):\n",
    "    return f\"({beh_id}) {C.BEH_BY_ID[beh_id]}\""
   ]
  },
  {
   "cell_type": "code",
   "execution_count": 24,
   "metadata": {},
   "outputs": [
    {
     "data": {
      "text/plain": [
       "{'(1) Writing on slides': 6738,\n",
       " '(19) Writing on a whiteboard': 2975,\n",
       " '(8) P, cHarts in slides': 2248,\n",
       " '(14) P, Images in slides': 1746,\n",
       " '(18) Movement across podium': 1301,\n",
       " '(7) S, cHarts in slides': 1078,\n",
       " '(13) S, Images in slides': 914,\n",
       " '(17) Active teacher stands by slides and explains them': 796,\n",
       " '(32) P, Session on tests': 587,\n",
       " '(23) P, Films or animations in slides': 309,\n",
       " '(31) S, Session on tests': 267,\n",
       " '(22) S, Films or animations in slides': 258,\n",
       " '(12) demonstration': 251,\n",
       " '(16) P, website': 162,\n",
       " '(15) S, website': 134}"
      ]
     },
     "execution_count": 24,
     "metadata": {},
     "output_type": "execute_result"
    }
   ],
   "source": [
    "# add descriptive label\n",
    "events_count_with_labels = {}\n",
    "for beh_id, beh_count in events_count.items():\n",
    "    beh_label = get_beh_label(beh_id)\n",
    "    events_count_with_labels[beh_label] = beh_count\n",
    "\n",
    "events_count_with_labels"
   ]
  },
  {
   "cell_type": "markdown",
   "metadata": {},
   "source": [
    "## Extract point events only"
   ]
  },
  {
   "cell_type": "code",
   "execution_count": 25,
   "metadata": {},
   "outputs": [
    {
     "data": {
      "text/plain": [
       "{'(8) P, cHarts in slides': 2248,\n",
       " '(14) P, Images in slides': 1746,\n",
       " '(32) P, Session on tests': 587,\n",
       " '(23) P, Films or animations in slides': 309,\n",
       " '(16) P, website': 162}"
      ]
     },
     "execution_count": 25,
     "metadata": {},
     "output_type": "execute_result"
    }
   ],
   "source": [
    "point_events_count_with_label = {}\n",
    "for beh_id, count in events_count.items():\n",
    "    if beh_id in C.POINT_BEHS:\n",
    "        point_events_count_with_label[get_beh_label(beh_id)] = count\n",
    "point_events_count_with_label"
   ]
  },
  {
   "cell_type": "markdown",
   "metadata": {},
   "source": [
    "## Extract state events only"
   ]
  },
  {
   "cell_type": "code",
   "execution_count": 26,
   "metadata": {},
   "outputs": [
    {
     "data": {
      "text/plain": [
       "{'(1) Writing on slides': 6738,\n",
       " '(19) Writing on a whiteboard': 2975,\n",
       " '(18) Movement across podium': 1301,\n",
       " '(7) S, cHarts in slides': 1078,\n",
       " '(13) S, Images in slides': 914,\n",
       " '(17) Active teacher stands by slides and explains them': 796,\n",
       " '(31) S, Session on tests': 267,\n",
       " '(22) S, Films or animations in slides': 258,\n",
       " '(12) demonstration': 251,\n",
       " '(15) S, website': 134}"
      ]
     },
     "execution_count": 26,
     "metadata": {},
     "output_type": "execute_result"
    }
   ],
   "source": [
    "state_events_count_with_label = {}\n",
    "for beh_id, count in events_count.items():\n",
    "    if beh_id in C.STATE_BEHS:\n",
    "        state_events_count_with_label[get_beh_label(beh_id)] = count\n",
    "state_events_count_with_label"
   ]
  },
  {
   "cell_type": "code",
   "execution_count": null,
   "metadata": {},
   "outputs": [],
   "source": []
  }
 ],
 "metadata": {
  "kernelspec": {
   "display_name": "Python 3",
   "language": "python",
   "name": "python3"
  },
  "language_info": {
   "codemirror_mode": {
    "name": "ipython",
    "version": 3
   },
   "file_extension": ".py",
   "mimetype": "text/x-python",
   "name": "python",
   "nbconvert_exporter": "python",
   "pygments_lexer": "ipython3",
   "version": "3.6.10"
  }
 },
 "nbformat": 4,
 "nbformat_minor": 4
}
