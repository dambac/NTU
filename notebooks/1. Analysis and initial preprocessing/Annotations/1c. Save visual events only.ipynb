{
 "cells": [
  {
   "cell_type": "code",
   "execution_count": 1,
   "metadata": {},
   "outputs": [
    {
     "name": "stdout",
     "output_type": "stream",
     "text": [
      "Constants loaded\n"
     ]
    }
   ],
   "source": [
    "%run /home/dbaciur/NTU/NTU/notes/Constants.ipynb"
   ]
  },
  {
   "cell_type": "markdown",
   "metadata": {},
   "source": [
    "In this file we want to prepare a separate csv file with only events for those behaviors that can be observed visually."
   ]
  },
  {
   "cell_type": "code",
   "execution_count": 2,
   "metadata": {},
   "outputs": [],
   "source": [
    "import pandas as pd\n",
    "import numpy as np\n",
    "import os\n",
    "import matplotlib.pyplot as plt\n",
    "import torch\n",
    "import torchvision as tv"
   ]
  },
  {
   "cell_type": "markdown",
   "metadata": {},
   "source": [
    "## Import annotations"
   ]
  },
  {
   "cell_type": "code",
   "execution_count": 3,
   "metadata": {},
   "outputs": [
    {
     "name": "stderr",
     "output_type": "stream",
     "text": [
      "/home/bjastrze/anaconda3/lib/python3.6/site-packages/IPython/core/interactiveshell.py:3072: DtypeWarning: Columns (6) have mixed types.Specify dtype option on import or set low_memory=False.\n",
      "  interactivity=interactivity, compiler=compiler, result=result)\n"
     ]
    }
   ],
   "source": [
    "annotations_df = pd.read_csv(C.PROCESSED_ANNOTATIONS_PATH, converters=C.A_CONVERTERS)"
   ]
  },
  {
   "cell_type": "code",
   "execution_count": 4,
   "metadata": {
    "scrolled": false
   },
   "outputs": [
    {
     "name": "stdout",
     "output_type": "stream",
     "text": [
      "39753\n"
     ]
    },
    {
     "data": {
      "text/html": [
       "<div>\n",
       "<style scoped>\n",
       "    .dataframe tbody tr th:only-of-type {\n",
       "        vertical-align: middle;\n",
       "    }\n",
       "\n",
       "    .dataframe tbody tr th {\n",
       "        vertical-align: top;\n",
       "    }\n",
       "\n",
       "    .dataframe thead th {\n",
       "        text-align: right;\n",
       "    }\n",
       "</style>\n",
       "<table border=\"1\" class=\"dataframe\">\n",
       "  <thead>\n",
       "    <tr style=\"text-align: right;\">\n",
       "      <th></th>\n",
       "      <th>Id</th>\n",
       "      <th>Unnamed: 0</th>\n",
       "      <th>Behavior</th>\n",
       "      <th>Behavior type</th>\n",
       "      <th>Behavioral category</th>\n",
       "      <th>Comment start</th>\n",
       "      <th>Comment stop</th>\n",
       "      <th>Duration (s)</th>\n",
       "      <th>FPS</th>\n",
       "      <th>Media file</th>\n",
       "      <th>...</th>\n",
       "      <th>Total length</th>\n",
       "      <th>lecture_id</th>\n",
       "      <th>research_assistant_id</th>\n",
       "      <th>subject_id</th>\n",
       "      <th>BehaviorId</th>\n",
       "      <th>Video</th>\n",
       "      <th>Time</th>\n",
       "      <th>Start H (s)</th>\n",
       "      <th>Stop H (s)</th>\n",
       "      <th>Time H</th>\n",
       "    </tr>\n",
       "  </thead>\n",
       "  <tbody>\n",
       "    <tr>\n",
       "      <th>0</th>\n",
       "      <td>0</td>\n",
       "      <td>0</td>\n",
       "      <td>eye contact</td>\n",
       "      <td>STATE</td>\n",
       "      <td>Encouraging learner engagement</td>\n",
       "      <td>0.0</td>\n",
       "      <td>0</td>\n",
       "      <td>2841.008</td>\n",
       "      <td>29.83</td>\n",
       "      <td>C:/Users/ACER/Downloads/PH1011-PHYSICS_2015092...</td>\n",
       "      <td>...</td>\n",
       "      <td>7197.58</td>\n",
       "      <td>J1S1C11L1</td>\n",
       "      <td>RA13</td>\n",
       "      <td>J1S1C11</td>\n",
       "      <td>B_EYE</td>\n",
       "      <td>PH1011-PHYSICS_20150922</td>\n",
       "      <td>1449.859</td>\n",
       "      <td>00:00:29:355</td>\n",
       "      <td>00:47:50:363</td>\n",
       "      <td>00:24:09:859</td>\n",
       "    </tr>\n",
       "  </tbody>\n",
       "</table>\n",
       "<p>1 rows × 26 columns</p>\n",
       "</div>"
      ],
      "text/plain": [
       "   Id  Unnamed: 0     Behavior Behavior type             Behavioral category  \\\n",
       "0   0           0  eye contact         STATE  Encouraging learner engagement   \n",
       "\n",
       "   Comment start Comment stop  Duration (s)    FPS  \\\n",
       "0            0.0            0      2841.008  29.83   \n",
       "\n",
       "                                          Media file  ... Total length  \\\n",
       "0  C:/Users/ACER/Downloads/PH1011-PHYSICS_2015092...  ...      7197.58   \n",
       "\n",
       "  lecture_id research_assistant_id  subject_id  BehaviorId  \\\n",
       "0  J1S1C11L1                  RA13     J1S1C11       B_EYE   \n",
       "\n",
       "                     Video      Time   Start H (s)    Stop H (s)        Time H  \n",
       "0  PH1011-PHYSICS_20150922  1449.859  00:00:29:355  00:47:50:363  00:24:09:859  \n",
       "\n",
       "[1 rows x 26 columns]"
      ]
     },
     "execution_count": 4,
     "metadata": {},
     "output_type": "execute_result"
    }
   ],
   "source": [
    "print(len(annotations_df))\n",
    "annotations_df.head(1)"
   ]
  },
  {
   "cell_type": "markdown",
   "metadata": {},
   "source": [
    "### Retain only visual events"
   ]
  },
  {
   "cell_type": "code",
   "execution_count": 5,
   "metadata": {
    "scrolled": true
   },
   "outputs": [
    {
     "name": "stdout",
     "output_type": "stream",
     "text": [
      "19764\n"
     ]
    },
    {
     "data": {
      "text/html": [
       "<div>\n",
       "<style scoped>\n",
       "    .dataframe tbody tr th:only-of-type {\n",
       "        vertical-align: middle;\n",
       "    }\n",
       "\n",
       "    .dataframe tbody tr th {\n",
       "        vertical-align: top;\n",
       "    }\n",
       "\n",
       "    .dataframe thead th {\n",
       "        text-align: right;\n",
       "    }\n",
       "</style>\n",
       "<table border=\"1\" class=\"dataframe\">\n",
       "  <thead>\n",
       "    <tr style=\"text-align: right;\">\n",
       "      <th></th>\n",
       "      <th>Id</th>\n",
       "      <th>Unnamed: 0</th>\n",
       "      <th>Behavior</th>\n",
       "      <th>Behavior type</th>\n",
       "      <th>Behavioral category</th>\n",
       "      <th>Comment start</th>\n",
       "      <th>Comment stop</th>\n",
       "      <th>Duration (s)</th>\n",
       "      <th>FPS</th>\n",
       "      <th>Media file</th>\n",
       "      <th>...</th>\n",
       "      <th>Total length</th>\n",
       "      <th>lecture_id</th>\n",
       "      <th>research_assistant_id</th>\n",
       "      <th>subject_id</th>\n",
       "      <th>BehaviorId</th>\n",
       "      <th>Video</th>\n",
       "      <th>Time</th>\n",
       "      <th>Start H (s)</th>\n",
       "      <th>Stop H (s)</th>\n",
       "      <th>Time H</th>\n",
       "    </tr>\n",
       "  </thead>\n",
       "  <tbody>\n",
       "    <tr>\n",
       "      <th>1</th>\n",
       "      <td>1</td>\n",
       "      <td>1</td>\n",
       "      <td>Writing on slides</td>\n",
       "      <td>STATE</td>\n",
       "      <td>Providing clear explanation; Arousing interest</td>\n",
       "      <td>0.0</td>\n",
       "      <td>0</td>\n",
       "      <td>2739.504</td>\n",
       "      <td>29.83</td>\n",
       "      <td>C:/Users/ACER/Downloads/PH1011-PHYSICS_2015092...</td>\n",
       "      <td>...</td>\n",
       "      <td>7197.58</td>\n",
       "      <td>J1S1C11L1</td>\n",
       "      <td>RA13</td>\n",
       "      <td>J1S1C11</td>\n",
       "      <td>B_WRITING_SLIDES</td>\n",
       "      <td>PH1011-PHYSICS_20150922</td>\n",
       "      <td>1502.103</td>\n",
       "      <td>00:02:12:351</td>\n",
       "      <td>00:47:51:855</td>\n",
       "      <td>00:25:02:103</td>\n",
       "    </tr>\n",
       "  </tbody>\n",
       "</table>\n",
       "<p>1 rows × 26 columns</p>\n",
       "</div>"
      ],
      "text/plain": [
       "   Id  Unnamed: 0           Behavior Behavior type  \\\n",
       "1   1           1  Writing on slides         STATE   \n",
       "\n",
       "                              Behavioral category  Comment start Comment stop  \\\n",
       "1  Providing clear explanation; Arousing interest            0.0            0   \n",
       "\n",
       "   Duration (s)    FPS                                         Media file  \\\n",
       "1      2739.504  29.83  C:/Users/ACER/Downloads/PH1011-PHYSICS_2015092...   \n",
       "\n",
       "   ... Total length lecture_id research_assistant_id  subject_id  \\\n",
       "1  ...      7197.58  J1S1C11L1                  RA13     J1S1C11   \n",
       "\n",
       "         BehaviorId                    Video      Time   Start H (s)  \\\n",
       "1  B_WRITING_SLIDES  PH1011-PHYSICS_20150922  1502.103  00:02:12:351   \n",
       "\n",
       "     Stop H (s)        Time H  \n",
       "1  00:47:51:855  00:25:02:103  \n",
       "\n",
       "[1 rows x 26 columns]"
      ]
     },
     "execution_count": 5,
     "metadata": {},
     "output_type": "execute_result"
    }
   ],
   "source": [
    "visual_df = annotations_df[annotations_df[C.A_BEH_ID].isin(C.VISUAL_BEHS)]\n",
    "print(len(visual_df))\n",
    "visual_df.head(1)"
   ]
  },
  {
   "cell_type": "markdown",
   "metadata": {},
   "source": [
    "### Save"
   ]
  },
  {
   "cell_type": "code",
   "execution_count": 6,
   "metadata": {},
   "outputs": [],
   "source": [
    "visual_df.to_csv(C.VISUAL_EVENTS_PATH, index=False)"
   ]
  }
 ],
 "metadata": {
  "kernelspec": {
   "display_name": "Python 3",
   "language": "python",
   "name": "python3"
  },
  "language_info": {
   "codemirror_mode": {
    "name": "ipython",
    "version": 3
   },
   "file_extension": ".py",
   "mimetype": "text/x-python",
   "name": "python",
   "nbconvert_exporter": "python",
   "pygments_lexer": "ipython3",
   "version": "3.6.10"
  }
 },
 "nbformat": 4,
 "nbformat_minor": 4
}
