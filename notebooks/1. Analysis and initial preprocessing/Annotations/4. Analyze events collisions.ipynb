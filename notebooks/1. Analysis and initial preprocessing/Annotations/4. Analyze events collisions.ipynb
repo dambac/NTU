{
 "cells": [
  {
   "cell_type": "code",
   "execution_count": 22,
   "metadata": {},
   "outputs": [],
   "source": [
    "import pandas as pd\n",
    "import numpy as np\n",
    "import os\n",
    "import pickle\n",
    "\n",
    "import matplotlib.pyplot as plt\n",
    "from tqdm import tqdm\n",
    "\n",
    "PROCESSED_ANNOTATIONS_PATH = \"../../../data/processed_observations.csv\"\n",
    "COLLISIONS_HEATMAP_OUTPUT_PATH = \"../../../data_out/collisions.pickle\"\n",
    "\n",
    "ID = 'Id'\n",
    "BEHAVIOR = 'Behavior'\n",
    "START = 'Start (s)'\n",
    "STOP = 'Stop (s)'\n",
    "DURATION = 'Duration (s)'\n",
    "LECTURE_ID = \"lecture_id\"\n",
    "VIDEO = 'Video'\n",
    "BEHAVIOR_ID = 'BehaviorId'\n",
    "\n",
    "COLUMN_TYPES = {\n",
    "    ID: int,\n",
    "    BEHAVIOR: str,\n",
    "    BEHAVIOR_ID: int,\n",
    "    START: np.float,\n",
    "    STOP: np.float,\n",
    "    DURATION: np.float,\n",
    "    VIDEO: str\n",
    "}\n",
    "\n",
    "B_WRITING = 1\n",
    "B_CHARTS_S = 7\n",
    "B_CHARTS_P = 8\n",
    "B_IMAGES_S = 13\n",
    "B_IMAGES_P = 14\n",
    "B_WEBSITE_S = 15\n",
    "B_WEBSITE_P = 16\n",
    "B_FILMS_S = 22\n",
    "B_FILMS_P = 23\n",
    "\n",
    "REL_BEH = [\n",
    "    B_WRITING,\n",
    "    B_CHARTS_S,\n",
    "    B_CHARTS_P,\n",
    "    B_IMAGES_S,\n",
    "    B_IMAGES_P,\n",
    "    B_WEBSITE_S,\n",
    "    B_WEBSITE_P,\n",
    "    B_FILMS_S,\n",
    "    B_FILMS_P\n",
    "]\n",
    "\n",
    "state_behaviors = [\n",
    "    B_WRITING,\n",
    "    B_CHARTS_S,\n",
    "    B_IMAGES_S,\n",
    "    B_WEBSITE_S,\n",
    "    B_FILMS_S\n",
    "]\n",
    "\n",
    "BEH_IDS = {\n",
    "    'eye contact': 0,\n",
    "    'Writing on slides': 1,\n",
    "    'use of voice intonation to Emphasise more important issues/topics': 2,\n",
    "    'S, Asking questions': 3,\n",
    "    'P, Asking questions': 4,\n",
    "    'S, giving questions to students: rhetorical, comprehension questions': 5,\n",
    "    'P, giving questions to students: rhetorical, comprehension questions\", point each question': 6,\n",
    "    'S, cHarts in slides': 7,\n",
    "    'P, cHarts in slides': 8,\n",
    "    'S, organization: giving class outline, clearly indicating Transition from one topic to another': 9,\n",
    "    'P, organization: giving class outline, clearly indicating Transition from one topic to another\"': 10,\n",
    "    'Laughter': 11,\n",
    "    'demonstration': 12,\n",
    "    'S, Images in slides': 13,\n",
    "    'P, Images in slides': 14,\n",
    "    'S, website': 15,\n",
    "    'P, website': 16,\n",
    "    'Active teacher stands by slides and explains them': 17,\n",
    "    'Movement across podium': 18,\n",
    "    'Writing on a whiteboard': 19,\n",
    "    'summing Up': 20,\n",
    "    'discipline': 21,\n",
    "    'S, Films or animations in slides': 22,\n",
    "    'P, Films or animations in slides': 23,\n",
    "    'assignments': 24,\n",
    "    'S, students are asking questions, generating their own ideas': 25,\n",
    "    'P, students are asking questions, generating their own ideas': 26,\n",
    "    'S, giving hints how to do something': 27,\n",
    "    'P, giving hints how to do something': 28,\n",
    "    'S, Referring to bibliography, other researchers': 29,\n",
    "    'P, Referring to bibliography, other researchers': 30,\n",
    "    'S, Session on tests': 31,\n",
    "    'P, Session on tests': 32,\n",
    "    \"students' Disscusion\": 33\n",
    "}\n",
    "BEH_DESC_BY_ID = {v: k for k, v in BEH_IDS.items()}\n",
    "\n"
   ]
  },
  {
   "cell_type": "markdown",
   "metadata": {},
   "source": [
    "### Import annotations"
   ]
  },
  {
   "cell_type": "code",
   "execution_count": 14,
   "metadata": {},
   "outputs": [],
   "source": [
    "annotations_df = pd.read_csv(PROCESSED_ANNOTATIONS_PATH, dtype=COLUMN_TYPES)\n",
    "annotations_df = annotations_df[annotations_df[BEHAVIOR_ID].isin(REL_BEH)]"
   ]
  },
  {
   "cell_type": "markdown",
   "metadata": {},
   "source": [
    "### Analyze behavior collisions"
   ]
  },
  {
   "cell_type": "code",
   "execution_count": 15,
   "metadata": {},
   "outputs": [
    {
     "data": {
      "text/plain": [
       "[(1, 7),\n",
       " (1, 13),\n",
       " (1, 15),\n",
       " (1, 22),\n",
       " (7, 1),\n",
       " (7, 13),\n",
       " (7, 15),\n",
       " (7, 22),\n",
       " (13, 1),\n",
       " (13, 7),\n",
       " (13, 15),\n",
       " (13, 22),\n",
       " (15, 1),\n",
       " (15, 7),\n",
       " (15, 13),\n",
       " (15, 22),\n",
       " (22, 1),\n",
       " (22, 7),\n",
       " (22, 13),\n",
       " (22, 15)]"
      ]
     },
     "execution_count": 15,
     "metadata": {},
     "output_type": "execute_result"
    }
   ],
   "source": [
    "beh_pairs = []\n",
    "for beh1 in state_behaviors:\n",
    "    for beh2 in state_behaviors:\n",
    "        if beh1 == beh2:\n",
    "            continue\n",
    "        beh_pairs.append((beh1, beh2))\n",
    "beh_pairs"
   ]
  },
  {
   "cell_type": "code",
   "execution_count": 16,
   "metadata": {},
   "outputs": [],
   "source": [
    "class CollisionsData:\n",
    "    \n",
    "    def __init__(self, beh_pair, beh1_count, collisions_count, collisions_on_average):\n",
    "        self.beh_pair = beh_pair\n",
    "        self.beh1_count = beh1_count\n",
    "        self.collisions_count = collisions_count\n",
    "        self.collisions_on_average = collisions_on_average\n",
    "    \n",
    "    def __repr__(self):\n",
    "        return f\"{self.beh_pair}, {self.beh1_count}, {self.collisions_count}, {self.collisions_on_average}\""
   ]
  },
  {
   "cell_type": "code",
   "execution_count": 17,
   "metadata": {},
   "outputs": [],
   "source": [
    "def save_heatmap(heatmap_data):\n",
    "    with open(COLLISIONS_HEATMAP_OUTPUT_PATH, 'wb') as f:\n",
    "        pickle.dump(heatmap_data, f, pickle.HIGHEST_PROTOCOL)\n",
    "\n",
    "\n",
    "def try_read_heatmap():\n",
    "    if os.path.exists(COLLISIONS_HEATMAP_OUTPUT_PATH):\n",
    "        with open(COLLISIONS_HEATMAP_OUTPUT_PATH, 'rb') as f:\n",
    "            data = pickle.load(f)\n",
    "            return data\n",
    "    return None"
   ]
  },
  {
   "cell_type": "code",
   "execution_count": 25,
   "metadata": {},
   "outputs": [],
   "source": [
    "def calculate_heatmap_data():\n",
    "    maybe_data = try_read_heatmap()\n",
    "    if maybe_data:\n",
    "        return maybe_data\n",
    "\n",
    "    videos_collisions_data_by_pair = dict()\n",
    "    for pair in beh_pairs:\n",
    "        videos_collisions_data_by_pair[pair] = []\n",
    "\n",
    "    videos_set = annotations_df[VIDEO].unique()\n",
    "\n",
    "    for video in tqdm(videos_set):\n",
    "\n",
    "        for pair in beh_pairs:\n",
    "\n",
    "            beh_1 = pair[0]\n",
    "            beh_2 = pair[1]\n",
    "\n",
    "            beh_1_df = annotations_df[(annotations_df[VIDEO] == video) & (annotations_df[BEHAVIOR_ID] == beh_1)]\n",
    "            beh_2_df = annotations_df[(annotations_df[VIDEO] == video) & (annotations_df[BEHAVIOR_ID] == beh_2)]\n",
    "\n",
    "            beh_1_count = len(beh_1_df)\n",
    "            beh_1_coll_count = 0\n",
    "            for row_index1, row1 in beh_1_df.iterrows():\n",
    "\n",
    "                start1 = row1[START]\n",
    "                stop1 = row1[STOP]\n",
    "\n",
    "                for row_index2, row2 in beh_2_df.iterrows():\n",
    "\n",
    "                    start2 = row2[START]\n",
    "                    stop2 = row2[STOP]\n",
    "\n",
    "                    no_collision = (stop1 < start2 or start1 > stop2)\n",
    "                    if not no_collision:\n",
    "                        beh_1_coll_count += 1\n",
    "                        break\n",
    "\n",
    "            # ignore videos where particular behavior doesn't even exist\n",
    "            if beh_1_count > 0:\n",
    "                avg = beh_1_coll_count / beh_1_count\n",
    "                coll_data = CollisionsData(pair, beh_1_count, beh_1_coll_count, avg)\n",
    "                videos_collisions_data_by_pair[pair].append(coll_data)\n",
    "\n",
    "    heatmap_data = []\n",
    "\n",
    "    for beh1 in state_behaviors:\n",
    "        data = []\n",
    "\n",
    "        for beh2 in state_behaviors:\n",
    "            if beh1 == beh2:\n",
    "                data.append(float('nan'))\n",
    "                continue\n",
    "\n",
    "            videos_data = videos_collisions_data_by_pair[(beh1, beh2)]\n",
    "            sum_of_avg = 0\n",
    "            for video_data in videos_data:\n",
    "                sum_of_avg += video_data.collisions_on_average\n",
    "\n",
    "            data.append(sum_of_avg / len(videos_data))\n",
    "\n",
    "        heatmap_data.append(data)\n",
    "\n",
    "    save_heatmap(heatmap_data)\n",
    "    return heatmap_data"
   ]
  },
  {
   "cell_type": "code",
   "execution_count": 26,
   "metadata": {},
   "outputs": [
    {
     "name": "stderr",
     "output_type": "stream",
     "text": [
      "100%|██████████| 114/114 [00:57<00:00,  1.99it/s]\n"
     ]
    }
   ],
   "source": [
    "heatmap_data = calculate_heatmap_data()"
   ]
  },
  {
   "cell_type": "code",
   "execution_count": 27,
   "metadata": {},
   "outputs": [
    {
     "data": {
      "image/png": "[encoded data removed]",
      "text/plain": [
       "<Figure size 432x288 with 1 Axes>"
      ]
     },
     "metadata": {
      "needs_background": "light"
     },
     "output_type": "display_data"
    }
   ],
   "source": [
    "y_behs = state_behaviors\n",
    "x_behs = state_behaviors\n",
    "\n",
    "fig, ax = plt.subplots()\n",
    "im = ax.imshow(heatmap_data)\n",
    "\n",
    "# We want to show all ticks...\n",
    "ax.set_xticks(np.arange(len(x_behs)))\n",
    "ax.set_yticks(np.arange(len(y_behs)))\n",
    "# ... and label them with the respective list entries\n",
    "ax.set_xticklabels([BEH_DESC_BY_ID[behid] for behid in x_behs])\n",
    "ax.set_yticklabels([BEH_DESC_BY_ID[behid] for behid in y_behs])\n",
    "\n",
    "# Rotate the tick labels and set their alignment.\n",
    "plt.setp(ax.get_xticklabels(), rotation=45, ha=\"right\",\n",
    "         rotation_mode=\"anchor\")\n",
    "\n",
    "# Loop over data dimensions and create text annotations.\n",
    "for i in range(len(y_behs)):\n",
    "    for j in range(len(x_behs)):\n",
    "        number = \"{:.2f}\".format(heatmap_data[i][j])\n",
    "        text = ax.text(j, i, number,\n",
    "                       ha=\"center\", va=\"center\", color=\"w\")\n",
    "\n",
    "ax.set_title(\"State event collisions (%)\")\n",
    "fig.tight_layout()\n",
    "plt.show()"
   ]
  },
  {
   "cell_type": "code",
   "execution_count": null,
   "metadata": {},
   "outputs": [],
   "source": []
  }
 ],
 "metadata": {
  "kernelspec": {
   "display_name": "Python 3",
   "language": "python",
   "name": "python3"
  },
  "language_info": {
   "codemirror_mode": {
    "name": "ipython",
    "version": 3
   },
   "file_extension": ".py",
   "mimetype": "text/x-python",
   "name": "python",
   "nbconvert_exporter": "python",
   "pygments_lexer": "ipython3",
   "version": "3.6.10"
  }
 },
 "nbformat": 4,
 "nbformat_minor": 4
}
