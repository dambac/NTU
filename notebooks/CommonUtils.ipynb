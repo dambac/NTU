{
 "cells": [
  {
   "cell_type": "code",
   "execution_count": null,
   "metadata": {},
   "outputs": [],
   "source": [
    "import torchvision as tv\n",
    "from torchvision.transforms import transforms\n",
    "import datetime"
   ]
  },
  {
   "cell_type": "code",
   "execution_count": 2,
   "metadata": {},
   "outputs": [],
   "source": [
    "def subtract_lists(list1, list2):\n",
    "    return [item for item in list1 if item not in list2]"
   ]
  },
  {
   "cell_type": "code",
   "execution_count": 3,
   "metadata": {},
   "outputs": [],
   "source": [
    "def lists_intersect(list1, list2):\n",
    "    for item1 in list1:\n",
    "        if item1 in list2:\n",
    "            return True\n",
    "    return False"
   ]
  },
  {
   "cell_type": "code",
   "execution_count": null,
   "metadata": {},
   "outputs": [],
   "source": [
    "def get_layouts_split(layout):\n",
    "    layout = int(layout)\n",
    "    # layout < 3 => whole screen is either Camera or Screen\n",
    "    if layout < 3:\n",
    "        layouts = [layout]\n",
    "        \n",
    "    # layout < 7 => layout is divided into 3 parts:\n",
    "    # - 1 vertical line in 1/3 of width middle that splits screen to L and R\n",
    "    # - 1 horizontal line in the middle of L\n",
    "    elif layout < 7:\n",
    "        layouts = [[1,1], [1,2], [2,1], [2,2]][layout - 3]\n",
    "        \n",
    "    # layout >=7 => layout is split in half\n",
    "    else:\n",
    "        layouts = [[1,1], [1,2], [2,1], [2,2]][layout - 7]\n",
    "    \n",
    "    return layouts"
   ]
  },
  {
   "cell_type": "code",
   "execution_count": null,
   "metadata": {},
   "outputs": [],
   "source": [
    "def get_frame_view_names(frame_name, layout):\n",
    "    layout = int(layout)\n",
    "    layouts = get_layouts_split(layout)\n",
    "    \n",
    "    if len(layouts) == 1:\n",
    "        return [f\"{frame_name}_VFull\"]\n",
    "    else:\n",
    "        return [f\"{frame_name}_VLeft\",\n",
    "                f\"{frame_name}_VRight\"]"
   ]
  },
  {
   "cell_type": "code",
   "execution_count": null,
   "metadata": {},
   "outputs": [],
   "source": [
    "def rgb_frame_to_image(frame_tensor):\n",
    "    # convert H,W,C to C,H,W format\n",
    "    frame_tensor = frame_tensor.permute([2, 0, 1])\n",
    "    return transforms.ToPILImage()(frame_tensor)"
   ]
  },
  {
   "cell_type": "code",
   "execution_count": null,
   "metadata": {},
   "outputs": [],
   "source": [
    "def format_seconds(seconds):\n",
    "    date = datetime.datetime.fromtimestamp(seconds) - datetime.timedelta(hours=1)\n",
    "    return date.strftime(\"%H:%M:%S:%f\")[:-3]"
   ]
  }
 ],
 "metadata": {
  "kernelspec": {
   "display_name": "Python 3",
   "language": "python",
   "name": "python3"
  },
  "language_info": {
   "codemirror_mode": {
    "name": "ipython",
    "version": 3
   },
   "file_extension": ".py",
   "mimetype": "text/x-python",
   "name": "python",
   "nbconvert_exporter": "python",
   "pygments_lexer": "ipython3",
   "version": "3.6.10"
  }
 },
 "nbformat": 4,
 "nbformat_minor": 4
}
