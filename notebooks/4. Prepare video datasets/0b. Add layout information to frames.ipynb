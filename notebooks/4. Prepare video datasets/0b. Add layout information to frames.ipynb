{
 "cells": [
  {
   "cell_type": "code",
   "execution_count": 1,
   "metadata": {},
   "outputs": [
    {
     "name": "stdout",
     "output_type": "stream",
     "text": [
      "Constants loaded\n"
     ]
    }
   ],
   "source": [
    "%run /home/dbaciur/NTU/NTU/notes/Constants.ipynb\n",
    "%run /home/dbaciur/NTU/NTU/notes/CommonUtils.ipynb"
   ]
  },
  {
   "cell_type": "code",
   "execution_count": 2,
   "metadata": {},
   "outputs": [],
   "source": [
    "import torch\n",
    "import torchvision as tv\n",
    "\n",
    "import os\n",
    "import matplotlib.pyplot as plt\n",
    "import pandas as pd\n",
    "from tqdm import tqdm_notebook as tqdm\n",
    "import numpy as np\n",
    "import torchvision\n",
    "import intervals as I\n",
    "import moviepy\n",
    "from pathlib import Path\n",
    "from moviepy.editor import VideoFileClip"
   ]
  },
  {
   "cell_type": "markdown",
   "metadata": {},
   "source": [
    "### Load frames"
   ]
  },
  {
   "cell_type": "code",
   "execution_count": 4,
   "metadata": {
    "scrolled": true
   },
   "outputs": [
    {
     "data": {
      "text/html": [
       "<div>\n",
       "<style scoped>\n",
       "    .dataframe tbody tr th:only-of-type {\n",
       "        vertical-align: middle;\n",
       "    }\n",
       "\n",
       "    .dataframe tbody tr th {\n",
       "        vertical-align: top;\n",
       "    }\n",
       "\n",
       "    .dataframe thead th {\n",
       "        text-align: right;\n",
       "    }\n",
       "</style>\n",
       "<table border=\"1\" class=\"dataframe\">\n",
       "  <thead>\n",
       "    <tr style=\"text-align: right;\">\n",
       "      <th></th>\n",
       "      <th>Id</th>\n",
       "      <th>Video</th>\n",
       "      <th>Time</th>\n",
       "      <th>Event id</th>\n",
       "      <th>Beh id</th>\n",
       "      <th>RA</th>\n",
       "      <th>Collision events</th>\n",
       "      <th>Behs</th>\n",
       "      <th>Layouts</th>\n",
       "      <th>Layout</th>\n",
       "    </tr>\n",
       "  </thead>\n",
       "  <tbody>\n",
       "    <tr>\n",
       "      <th>0</th>\n",
       "      <td>PH1011-PHYSICS_20150922__3435.269__40__B_CHART...</td>\n",
       "      <td>PH1011-PHYSICS_20150922</td>\n",
       "      <td>3435.269</td>\n",
       "      <td>40</td>\n",
       "      <td>B_CHARTS_P</td>\n",
       "      <td>RA13</td>\n",
       "      <td>[39, 126]</td>\n",
       "      <td>[B_CHARTS_S, B_CHARTS_P]</td>\n",
       "      <td>3.0</td>\n",
       "      <td>3</td>\n",
       "    </tr>\n",
       "    <tr>\n",
       "      <th>1</th>\n",
       "      <td>PH1011-PHYSICS_20150922__3703.298__43__B_CHART...</td>\n",
       "      <td>PH1011-PHYSICS_20150922</td>\n",
       "      <td>3703.298</td>\n",
       "      <td>43</td>\n",
       "      <td>B_CHARTS_P</td>\n",
       "      <td>RA13</td>\n",
       "      <td>[39, 42, 126]</td>\n",
       "      <td>[B_WRITING_SLIDES, B_CHARTS_S, B_CHARTS_P]</td>\n",
       "      <td>3.0</td>\n",
       "      <td>3</td>\n",
       "    </tr>\n",
       "    <tr>\n",
       "      <th>2</th>\n",
       "      <td>PH1011-PHYSICS_20150922__4040.803__44__B_CHART...</td>\n",
       "      <td>PH1011-PHYSICS_20150922</td>\n",
       "      <td>4040.803</td>\n",
       "      <td>44</td>\n",
       "      <td>B_CHARTS_P</td>\n",
       "      <td>RA13</td>\n",
       "      <td>[39, 42, 126]</td>\n",
       "      <td>[B_WRITING_SLIDES, B_CHARTS_S, B_CHARTS_P]</td>\n",
       "      <td>3.0</td>\n",
       "      <td>3</td>\n",
       "    </tr>\n",
       "    <tr>\n",
       "      <th>3</th>\n",
       "      <td>PH1011-PHYSICS_20150922__4284.434__48__B_CHART...</td>\n",
       "      <td>PH1011-PHYSICS_20150922</td>\n",
       "      <td>4284.434</td>\n",
       "      <td>48</td>\n",
       "      <td>B_CHARTS_P</td>\n",
       "      <td>RA13</td>\n",
       "      <td>[39, 42, 126]</td>\n",
       "      <td>[B_WRITING_SLIDES, B_CHARTS_S, B_CHARTS_P]</td>\n",
       "      <td>3.0</td>\n",
       "      <td>3</td>\n",
       "    </tr>\n",
       "    <tr>\n",
       "      <th>4</th>\n",
       "      <td>PH1011-PHYSICS_20150922__4957.804__62__B_CHART...</td>\n",
       "      <td>PH1011-PHYSICS_20150922</td>\n",
       "      <td>4957.804</td>\n",
       "      <td>62</td>\n",
       "      <td>B_CHARTS_P</td>\n",
       "      <td>RA13</td>\n",
       "      <td>[39, 42, 126]</td>\n",
       "      <td>[B_WRITING_SLIDES, B_CHARTS_S, B_CHARTS_P]</td>\n",
       "      <td>3.0</td>\n",
       "      <td>3</td>\n",
       "    </tr>\n",
       "  </tbody>\n",
       "</table>\n",
       "</div>"
      ],
      "text/plain": [
       "                                                  Id                    Video  \\\n",
       "0  PH1011-PHYSICS_20150922__3435.269__40__B_CHART...  PH1011-PHYSICS_20150922   \n",
       "1  PH1011-PHYSICS_20150922__3703.298__43__B_CHART...  PH1011-PHYSICS_20150922   \n",
       "2  PH1011-PHYSICS_20150922__4040.803__44__B_CHART...  PH1011-PHYSICS_20150922   \n",
       "3  PH1011-PHYSICS_20150922__4284.434__48__B_CHART...  PH1011-PHYSICS_20150922   \n",
       "4  PH1011-PHYSICS_20150922__4957.804__62__B_CHART...  PH1011-PHYSICS_20150922   \n",
       "\n",
       "       Time  Event id      Beh id    RA Collision events  \\\n",
       "0  3435.269        40  B_CHARTS_P  RA13        [39, 126]   \n",
       "1  3703.298        43  B_CHARTS_P  RA13    [39, 42, 126]   \n",
       "2  4040.803        44  B_CHARTS_P  RA13    [39, 42, 126]   \n",
       "3  4284.434        48  B_CHARTS_P  RA13    [39, 42, 126]   \n",
       "4  4957.804        62  B_CHARTS_P  RA13    [39, 42, 126]   \n",
       "\n",
       "                                         Behs  Layouts  Layout  \n",
       "0                    [B_CHARTS_S, B_CHARTS_P]      3.0       3  \n",
       "1  [B_WRITING_SLIDES, B_CHARTS_S, B_CHARTS_P]      3.0       3  \n",
       "2  [B_WRITING_SLIDES, B_CHARTS_S, B_CHARTS_P]      3.0       3  \n",
       "3  [B_WRITING_SLIDES, B_CHARTS_S, B_CHARTS_P]      3.0       3  \n",
       "4  [B_WRITING_SLIDES, B_CHARTS_S, B_CHARTS_P]      3.0       3  "
      ]
     },
     "execution_count": 4,
     "metadata": {},
     "output_type": "execute_result"
    }
   ],
   "source": [
    "frames_df = pd.read_csv(C.Frames.FRAMES_DF_DRAFT_PATH, converters=C.F_CONVERTERS)\n",
    "frames_df.head()"
   ]
  },
  {
   "cell_type": "markdown",
   "metadata": {},
   "source": [
    "### Add layout information"
   ]
  },
  {
   "cell_type": "code",
   "execution_count": 5,
   "metadata": {},
   "outputs": [
    {
     "name": "stdout",
     "output_type": "stream",
     "text": [
      "179\n",
      "16S2-MH1402-LEC_20170331\n"
     ]
    }
   ],
   "source": [
    "video_layouts = os.listdir(C.LAYOUT_ANNOTATIONS_DIR)\n",
    "video_layouts = [video[:-3] for video in video_layouts]\n",
    "\n",
    "print(len(video_layouts))\n",
    "print(video_layouts[0])"
   ]
  },
  {
   "cell_type": "code",
   "execution_count": 6,
   "metadata": {},
   "outputs": [
    {
     "data": {
      "text/plain": [
       "torch.Size([13660])"
      ]
     },
     "execution_count": 6,
     "metadata": {},
     "output_type": "execute_result"
    }
   ],
   "source": [
    "layout_tensor = torch.load(f\"{C.LAYOUT_ANNOTATIONS_DIR}/PH1011-PHYSICS_20150818.pt\")\n",
    "layout_tensor.shape"
   ]
  },
  {
   "cell_type": "code",
   "execution_count": 7,
   "metadata": {},
   "outputs": [
    {
     "data": {
      "text/plain": [
       "torch.Size([13660, 180, 360])"
      ]
     },
     "execution_count": 7,
     "metadata": {},
     "output_type": "execute_result"
    }
   ],
   "source": [
    "video_tensor = torch.load(f\"{ROOT}/data/Converted/PH1011-PHYSICS_20150818.pt\")\n",
    "video_tensor.shape"
   ]
  },
  {
   "cell_type": "code",
   "execution_count": 9,
   "metadata": {},
   "outputs": [],
   "source": [
    "orig_video_clip = VideoFileClip(f\"{ROOT}/data/Processed/PH1011-PHYSICS_20150818.mp4\")"
   ]
  },
  {
   "cell_type": "code",
   "execution_count": 12,
   "metadata": {},
   "outputs": [
    {
     "name": "stdout",
     "output_type": "stream",
     "text": [
      "7198.23\n",
      "50.0\n"
     ]
    }
   ],
   "source": [
    "print(orig_video_clip.duration)\n",
    "print(orig_video_clip.fps)\n"
   ]
  },
  {
   "cell_type": "code",
   "execution_count": 15,
   "metadata": {},
   "outputs": [
    {
     "name": "stdout",
     "output_type": "stream",
     "text": [
      "118\n",
      "PH1011-PHYSICS_20150922\n"
     ]
    }
   ],
   "source": [
    "events_df = pd.read_csv(C.PROCESSED_ANNOTATIONS_PATH, converters=C.A_CONVERTERS)\n",
    "video_names = events_df[C.A_VIDEO].unique()\n",
    "\n",
    "print(len(video_names))\n",
    "print(video_names[0])"
   ]
  },
  {
   "cell_type": "code",
   "execution_count": 47,
   "metadata": {},
   "outputs": [],
   "source": [
    "video_durations = {}\n",
    "\n",
    "for video in video_names:\n",
    "    \n",
    "    video_path = f\"{C.ORIGINAL_VIDEOS_DIR}/{video}.mp4\"\n",
    "    video_clip = VideoFileClip(video_path)\n",
    "    \n",
    "    video_durations[video] = video_clip.duration"
   ]
  },
  {
   "cell_type": "code",
   "execution_count": 98,
   "metadata": {},
   "outputs": [],
   "source": [
    "def get_frame_layout(frame_row):\n",
    "    video = frame_row[C.F_VIDEO]\n",
    "    \n",
    "    if video not in video_layouts:\n",
    "        print(f\"No layout for video: {video}\")\n",
    "        return None\n",
    "\n",
    "    frame_time = frame_row[C.F_TIME]\n",
    "    video_length = video_durations[video]\n",
    "    \n",
    "    layouts_torch = torch.load(f\"{C.LAYOUT_ANNOTATIONS_DIR}/{video}.pt\")\n",
    "    number_of_video_layout_annotations = layouts_torch.shape[0]\n",
    "#     print(f\"{frame_time} {video_length} {number_of_video_layout_annotations}\")\n",
    "              \n",
    "    layout_index_approximation = (frame_time / video_length) * number_of_video_layout_annotations\n",
    "    layout_index_approximation = int(layout_index_approximation)\n",
    "    layout = layouts_torch[layout_index_approximation].item()\n",
    "    layout = int(layout)\n",
    "    \n",
    "    return layout"
   ]
  },
  {
   "cell_type": "code",
   "execution_count": 99,
   "metadata": {},
   "outputs": [],
   "source": [
    "frames_df[C.F_LAYOUT] = frames_df.apply(lambda row: get_frame_layout(row), axis=1)"
   ]
  },
  {
   "cell_type": "markdown",
   "metadata": {},
   "source": [
    "### Filter out frames without layouts"
   ]
  },
  {
   "cell_type": "code",
   "execution_count": 115,
   "metadata": {},
   "outputs": [
    {
     "data": {
      "text/plain": [
       "4920"
      ]
     },
     "execution_count": 115,
     "metadata": {},
     "output_type": "execute_result"
    }
   ],
   "source": [
    "len(frames_df)"
   ]
  },
  {
   "cell_type": "code",
   "execution_count": 116,
   "metadata": {},
   "outputs": [
    {
     "data": {
      "text/plain": [
       "4920"
      ]
     },
     "execution_count": 116,
     "metadata": {},
     "output_type": "execute_result"
    }
   ],
   "source": [
    "frames_with_layout = frames_df[frames_df[C.F_LAYOUT].notnull()]\n",
    "len(frames_with_layout)"
   ]
  },
  {
   "cell_type": "code",
   "execution_count": 117,
   "metadata": {},
   "outputs": [],
   "source": [
    "frames_with_layout.to_csv(C.Frames.FRAMES_DF_PATH, index=False)"
   ]
  },
  {
   "cell_type": "markdown",
   "metadata": {},
   "source": [
    "### Add layouts and splits"
   ]
  },
  {
   "cell_type": "code",
   "execution_count": 118,
   "metadata": {},
   "outputs": [
    {
     "data": {
      "text/html": [
       "<div>\n",
       "<style scoped>\n",
       "    .dataframe tbody tr th:only-of-type {\n",
       "        vertical-align: middle;\n",
       "    }\n",
       "\n",
       "    .dataframe tbody tr th {\n",
       "        vertical-align: top;\n",
       "    }\n",
       "\n",
       "    .dataframe thead th {\n",
       "        text-align: right;\n",
       "    }\n",
       "</style>\n",
       "<table border=\"1\" class=\"dataframe\">\n",
       "  <thead>\n",
       "    <tr style=\"text-align: right;\">\n",
       "      <th></th>\n",
       "      <th>Id</th>\n",
       "      <th>Video</th>\n",
       "      <th>Time</th>\n",
       "      <th>Event id</th>\n",
       "      <th>Beh id</th>\n",
       "      <th>RA</th>\n",
       "      <th>Collision events</th>\n",
       "      <th>Behs</th>\n",
       "      <th>Layouts</th>\n",
       "      <th>Layout</th>\n",
       "    </tr>\n",
       "  </thead>\n",
       "  <tbody>\n",
       "    <tr>\n",
       "      <th>0</th>\n",
       "      <td>PH1011-PHYSICS_20150922__3435.269__40__B_CHART...</td>\n",
       "      <td>PH1011-PHYSICS_20150922</td>\n",
       "      <td>3435.269</td>\n",
       "      <td>40</td>\n",
       "      <td>B_CHARTS_P</td>\n",
       "      <td>RA13</td>\n",
       "      <td>[39, 126]</td>\n",
       "      <td>[B_CHARTS_S, B_CHARTS_P]</td>\n",
       "      <td>3.0</td>\n",
       "      <td>3</td>\n",
       "    </tr>\n",
       "  </tbody>\n",
       "</table>\n",
       "</div>"
      ],
      "text/plain": [
       "                                                  Id                    Video  \\\n",
       "0  PH1011-PHYSICS_20150922__3435.269__40__B_CHART...  PH1011-PHYSICS_20150922   \n",
       "\n",
       "       Time  Event id      Beh id    RA Collision events  \\\n",
       "0  3435.269        40  B_CHARTS_P  RA13        [39, 126]   \n",
       "\n",
       "                       Behs  Layouts  Layout  \n",
       "0  [B_CHARTS_S, B_CHARTS_P]      3.0       3  "
      ]
     },
     "execution_count": 118,
     "metadata": {},
     "output_type": "execute_result"
    }
   ],
   "source": [
    "frames_df = pd.read_csv(C.Frames.FRAMES_DF_PATH, converters=C.F_CONVERTERS)\n",
    "frames_df.head(1)"
   ]
  },
  {
   "cell_type": "code",
   "execution_count": 119,
   "metadata": {},
   "outputs": [],
   "source": [
    "def get_split_layouts(layout):\n",
    "    # layout < 3 => whole screen is either Camera or Screen\n",
    "    if layout < 3:\n",
    "        layouts = [layout, layout]\n",
    "        \n",
    "    # layout < 7 => layout is divided into 3 parts:\n",
    "    # - 1 vertical line in 1/3 of width middle that splits screen to L and R\n",
    "    # - 1 horizontal line in the middle of L\n",
    "    elif layout < 7:\n",
    "        layouts = [[1,1], [1,2], [2,1], [2,2]][layout - 3]\n",
    "    # layout >=7 => layout is split in half\n",
    "    else:\n",
    "        layouts = [[1,1], [1,2], [2,1], [2,2]][layout - 7]\n",
    "    \n",
    "    return layouts"
   ]
  },
  {
   "cell_type": "code",
   "execution_count": 120,
   "metadata": {},
   "outputs": [],
   "source": [
    "frames_df[C.F_LAYOUTS] = frames_df.apply(lambda row: get_split_layouts(row[C.F_LAYOUT]), axis=1)"
   ]
  },
  {
   "cell_type": "code",
   "execution_count": 121,
   "metadata": {},
   "outputs": [],
   "source": [
    "def get_splits(frame_row):\n",
    "    frame_id = frame_row[C.F_ID]\n",
    "    layout = frame_row[C.F_LAYOUT]\n",
    "    \n",
    "    if layout < 3:\n",
    "        return [f\"{frame_id}__Full\", f\"{frame_id}__Full\"]\n",
    "    \n",
    "    return [f\"{frame_id}__Left\", f\"{frame_id}__Right\"]"
   ]
  },
  {
   "cell_type": "code",
   "execution_count": 122,
   "metadata": {},
   "outputs": [],
   "source": [
    "frames_df[C.F_SPLITS] = frames_df.apply(lambda row: get_splits(row), axis=1)"
   ]
  },
  {
   "cell_type": "code",
   "execution_count": 123,
   "metadata": {},
   "outputs": [
    {
     "data": {
      "text/html": [
       "<div>\n",
       "<style scoped>\n",
       "    .dataframe tbody tr th:only-of-type {\n",
       "        vertical-align: middle;\n",
       "    }\n",
       "\n",
       "    .dataframe tbody tr th {\n",
       "        vertical-align: top;\n",
       "    }\n",
       "\n",
       "    .dataframe thead th {\n",
       "        text-align: right;\n",
       "    }\n",
       "</style>\n",
       "<table border=\"1\" class=\"dataframe\">\n",
       "  <thead>\n",
       "    <tr style=\"text-align: right;\">\n",
       "      <th></th>\n",
       "      <th>Id</th>\n",
       "      <th>Video</th>\n",
       "      <th>Time</th>\n",
       "      <th>Event id</th>\n",
       "      <th>Beh id</th>\n",
       "      <th>RA</th>\n",
       "      <th>Collision events</th>\n",
       "      <th>Behs</th>\n",
       "      <th>Layouts</th>\n",
       "      <th>Layout</th>\n",
       "      <th>Splits</th>\n",
       "    </tr>\n",
       "  </thead>\n",
       "  <tbody>\n",
       "    <tr>\n",
       "      <th>0</th>\n",
       "      <td>PH1011-PHYSICS_20150922__3435.269__40__B_CHART...</td>\n",
       "      <td>PH1011-PHYSICS_20150922</td>\n",
       "      <td>3435.269</td>\n",
       "      <td>40</td>\n",
       "      <td>B_CHARTS_P</td>\n",
       "      <td>RA13</td>\n",
       "      <td>[39, 126]</td>\n",
       "      <td>[B_CHARTS_S, B_CHARTS_P]</td>\n",
       "      <td>[1, 1]</td>\n",
       "      <td>3</td>\n",
       "      <td>[PH1011-PHYSICS_20150922__3435.269__40__B_CHAR...</td>\n",
       "    </tr>\n",
       "  </tbody>\n",
       "</table>\n",
       "</div>"
      ],
      "text/plain": [
       "                                                  Id                    Video  \\\n",
       "0  PH1011-PHYSICS_20150922__3435.269__40__B_CHART...  PH1011-PHYSICS_20150922   \n",
       "\n",
       "       Time  Event id      Beh id    RA Collision events  \\\n",
       "0  3435.269        40  B_CHARTS_P  RA13        [39, 126]   \n",
       "\n",
       "                       Behs Layouts  Layout  \\\n",
       "0  [B_CHARTS_S, B_CHARTS_P]  [1, 1]       3   \n",
       "\n",
       "                                              Splits  \n",
       "0  [PH1011-PHYSICS_20150922__3435.269__40__B_CHAR...  "
      ]
     },
     "execution_count": 123,
     "metadata": {},
     "output_type": "execute_result"
    }
   ],
   "source": [
    "frames_df.head(1)"
   ]
  },
  {
   "cell_type": "code",
   "execution_count": 124,
   "metadata": {},
   "outputs": [],
   "source": [
    "frames_df.to_csv(C.Frames.FRAMES_DF_PATH, index=False)"
   ]
  }
 ],
 "metadata": {
  "kernelspec": {
   "display_name": "Python 3",
   "language": "python",
   "name": "python3"
  },
  "language_info": {
   "codemirror_mode": {
    "name": "ipython",
    "version": 3
   },
   "file_extension": ".py",
   "mimetype": "text/x-python",
   "name": "python",
   "nbconvert_exporter": "python",
   "pygments_lexer": "ipython3",
   "version": "3.6.10"
  }
 },
 "nbformat": 4,
 "nbformat_minor": 4
}
