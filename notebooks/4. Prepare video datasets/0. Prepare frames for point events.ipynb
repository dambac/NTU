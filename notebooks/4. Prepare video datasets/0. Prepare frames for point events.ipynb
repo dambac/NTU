{
 "cells": [
  {
   "cell_type": "markdown",
   "metadata": {},
   "source": [
    "# Preparation of frames with labels\n",
    "\n",
    "What we do here is:\n",
    "* for every annotation event get [START,STOP] interval\n",
    "* merge intervals so as we have only one unique [START,STOP] interval - this means that same interval can have multiple event ids (although it's a rare situation)\n",
    "* for every [START,STOP] interval calculate TIME = (START + STOP)/2\n",
    "* for every TIME get all events that intersect with this point in time (contain it in their range)\n",
    "* as a result for every TIME we should have a list of all events"
   ]
  },
  {
   "cell_type": "code",
   "execution_count": 1,
   "metadata": {},
   "outputs": [
    {
     "name": "stdout",
     "output_type": "stream",
     "text": [
      "Constants loaded\n"
     ]
    }
   ],
   "source": [
    "%run /home/dbaciur/NTU/NTU/notes/Constants.ipynb\n",
    "%run /home/dbaciur/NTU/NTU/notes/CommonUtils.ipynb"
   ]
  },
  {
   "cell_type": "code",
   "execution_count": 5,
   "metadata": {},
   "outputs": [],
   "source": [
    "import torch\n",
    "import torchvision as tv\n",
    "\n",
    "import os\n",
    "import matplotlib.pyplot as plt\n",
    "import pandas as pd\n",
    "from tqdm import tqdm_notebook as tqdm\n",
    "import numpy as np\n",
    "import intervals as I\n",
    "import moviepy\n",
    "from pathlib import Path\n",
    "from moviepy.editor import VideoFileClip"
   ]
  },
  {
   "cell_type": "markdown",
   "metadata": {},
   "source": [
    "### Load visual events"
   ]
  },
  {
   "cell_type": "code",
   "execution_count": 4,
   "metadata": {
    "scrolled": true
   },
   "outputs": [
    {
     "data": {
      "text/html": [
       "<div>\n",
       "<style scoped>\n",
       "    .dataframe tbody tr th:only-of-type {\n",
       "        vertical-align: middle;\n",
       "    }\n",
       "\n",
       "    .dataframe tbody tr th {\n",
       "        vertical-align: top;\n",
       "    }\n",
       "\n",
       "    .dataframe thead th {\n",
       "        text-align: right;\n",
       "    }\n",
       "</style>\n",
       "<table border=\"1\" class=\"dataframe\">\n",
       "  <thead>\n",
       "    <tr style=\"text-align: right;\">\n",
       "      <th></th>\n",
       "      <th>Id</th>\n",
       "      <th>Unnamed: 0</th>\n",
       "      <th>Behavior</th>\n",
       "      <th>Behavior type</th>\n",
       "      <th>Behavioral category</th>\n",
       "      <th>Comment start</th>\n",
       "      <th>Comment stop</th>\n",
       "      <th>Duration (s)</th>\n",
       "      <th>FPS</th>\n",
       "      <th>Media file</th>\n",
       "      <th>...</th>\n",
       "      <th>Start (s)</th>\n",
       "      <th>Stop (s)</th>\n",
       "      <th>Subject</th>\n",
       "      <th>Total length</th>\n",
       "      <th>lecture_id</th>\n",
       "      <th>research_assistant_id</th>\n",
       "      <th>subject_id</th>\n",
       "      <th>BehaviorId</th>\n",
       "      <th>Video</th>\n",
       "      <th>Time</th>\n",
       "    </tr>\n",
       "  </thead>\n",
       "  <tbody>\n",
       "    <tr>\n",
       "      <th>0</th>\n",
       "      <td>1</td>\n",
       "      <td>1</td>\n",
       "      <td>Writing on slides</td>\n",
       "      <td>STATE</td>\n",
       "      <td>Providing clear explanation; Arousing interest</td>\n",
       "      <td>0.0</td>\n",
       "      <td>0</td>\n",
       "      <td>2739.504</td>\n",
       "      <td>29.83</td>\n",
       "      <td>C:/Users/ACER/Downloads/PH1011-PHYSICS_2015092...</td>\n",
       "      <td>...</td>\n",
       "      <td>132.351</td>\n",
       "      <td>2871.855</td>\n",
       "      <td>No focal subject</td>\n",
       "      <td>7197.58</td>\n",
       "      <td>J1S1C11L1</td>\n",
       "      <td>RA13</td>\n",
       "      <td>J1S1C11</td>\n",
       "      <td>B_WRITING_SLIDES</td>\n",
       "      <td>PH1011-PHYSICS_20150922</td>\n",
       "      <td>1502.1030</td>\n",
       "    </tr>\n",
       "    <tr>\n",
       "      <th>1</th>\n",
       "      <td>39</td>\n",
       "      <td>39</td>\n",
       "      <td>S, cHarts in slides</td>\n",
       "      <td>STATE</td>\n",
       "      <td>Providing clear explanation; Arousing interest</td>\n",
       "      <td>0.0</td>\n",
       "      <td>0</td>\n",
       "      <td>3216.957</td>\n",
       "      <td>29.83</td>\n",
       "      <td>C:/Users/ACER/Downloads/PH1011-PHYSICS_2015092...</td>\n",
       "      <td>...</td>\n",
       "      <td>3433.767</td>\n",
       "      <td>6650.724</td>\n",
       "      <td>No focal subject</td>\n",
       "      <td>7197.58</td>\n",
       "      <td>J1S1C11L1</td>\n",
       "      <td>RA13</td>\n",
       "      <td>J1S1C11</td>\n",
       "      <td>B_CHARTS_S</td>\n",
       "      <td>PH1011-PHYSICS_20150922</td>\n",
       "      <td>5042.2455</td>\n",
       "    </tr>\n",
       "    <tr>\n",
       "      <th>2</th>\n",
       "      <td>40</td>\n",
       "      <td>40</td>\n",
       "      <td>P, cHarts in slides</td>\n",
       "      <td>POINT</td>\n",
       "      <td>Providing clear explanation; Arousing interest</td>\n",
       "      <td>0.0</td>\n",
       "      <td>0</td>\n",
       "      <td>0.000</td>\n",
       "      <td>29.83</td>\n",
       "      <td>C:/Users/ACER/Downloads/PH1011-PHYSICS_2015092...</td>\n",
       "      <td>...</td>\n",
       "      <td>3435.269</td>\n",
       "      <td>3435.269</td>\n",
       "      <td>No focal subject</td>\n",
       "      <td>7197.58</td>\n",
       "      <td>J1S1C11L1</td>\n",
       "      <td>RA13</td>\n",
       "      <td>J1S1C11</td>\n",
       "      <td>B_CHARTS_P</td>\n",
       "      <td>PH1011-PHYSICS_20150922</td>\n",
       "      <td>3435.2690</td>\n",
       "    </tr>\n",
       "    <tr>\n",
       "      <th>3</th>\n",
       "      <td>42</td>\n",
       "      <td>42</td>\n",
       "      <td>Writing on slides</td>\n",
       "      <td>STATE</td>\n",
       "      <td>Providing clear explanation; Arousing interest</td>\n",
       "      <td>0.0</td>\n",
       "      <td>0</td>\n",
       "      <td>3145.241</td>\n",
       "      <td>29.83</td>\n",
       "      <td>C:/Users/ACER/Downloads/PH1011-PHYSICS_2015092...</td>\n",
       "      <td>...</td>\n",
       "      <td>3504.879</td>\n",
       "      <td>6650.120</td>\n",
       "      <td>No focal subject</td>\n",
       "      <td>7197.58</td>\n",
       "      <td>J1S1C11L1</td>\n",
       "      <td>RA13</td>\n",
       "      <td>J1S1C11</td>\n",
       "      <td>B_WRITING_SLIDES</td>\n",
       "      <td>PH1011-PHYSICS_20150922</td>\n",
       "      <td>5077.4995</td>\n",
       "    </tr>\n",
       "    <tr>\n",
       "      <th>4</th>\n",
       "      <td>43</td>\n",
       "      <td>43</td>\n",
       "      <td>P, cHarts in slides</td>\n",
       "      <td>POINT</td>\n",
       "      <td>Providing clear explanation; Arousing interest</td>\n",
       "      <td>0.0</td>\n",
       "      <td>0</td>\n",
       "      <td>0.000</td>\n",
       "      <td>29.83</td>\n",
       "      <td>C:/Users/ACER/Downloads/PH1011-PHYSICS_2015092...</td>\n",
       "      <td>...</td>\n",
       "      <td>3703.298</td>\n",
       "      <td>3703.298</td>\n",
       "      <td>No focal subject</td>\n",
       "      <td>7197.58</td>\n",
       "      <td>J1S1C11L1</td>\n",
       "      <td>RA13</td>\n",
       "      <td>J1S1C11</td>\n",
       "      <td>B_CHARTS_P</td>\n",
       "      <td>PH1011-PHYSICS_20150922</td>\n",
       "      <td>3703.2980</td>\n",
       "    </tr>\n",
       "  </tbody>\n",
       "</table>\n",
       "<p>5 rows × 23 columns</p>\n",
       "</div>"
      ],
      "text/plain": [
       "   Id  Unnamed: 0             Behavior Behavior type  \\\n",
       "0   1           1    Writing on slides         STATE   \n",
       "1  39          39  S, cHarts in slides         STATE   \n",
       "2  40          40  P, cHarts in slides         POINT   \n",
       "3  42          42    Writing on slides         STATE   \n",
       "4  43          43  P, cHarts in slides         POINT   \n",
       "\n",
       "                              Behavioral category  Comment start  \\\n",
       "0  Providing clear explanation; Arousing interest            0.0   \n",
       "1  Providing clear explanation; Arousing interest            0.0   \n",
       "2  Providing clear explanation; Arousing interest            0.0   \n",
       "3  Providing clear explanation; Arousing interest            0.0   \n",
       "4  Providing clear explanation; Arousing interest            0.0   \n",
       "\n",
       "   Comment stop  Duration (s)    FPS  \\\n",
       "0             0      2739.504  29.83   \n",
       "1             0      3216.957  29.83   \n",
       "2             0         0.000  29.83   \n",
       "3             0      3145.241  29.83   \n",
       "4             0         0.000  29.83   \n",
       "\n",
       "                                          Media file  ... Start (s)  Stop (s)  \\\n",
       "0  C:/Users/ACER/Downloads/PH1011-PHYSICS_2015092...  ...   132.351  2871.855   \n",
       "1  C:/Users/ACER/Downloads/PH1011-PHYSICS_2015092...  ...  3433.767  6650.724   \n",
       "2  C:/Users/ACER/Downloads/PH1011-PHYSICS_2015092...  ...  3435.269  3435.269   \n",
       "3  C:/Users/ACER/Downloads/PH1011-PHYSICS_2015092...  ...  3504.879  6650.120   \n",
       "4  C:/Users/ACER/Downloads/PH1011-PHYSICS_2015092...  ...  3703.298  3703.298   \n",
       "\n",
       "            Subject  Total length  lecture_id research_assistant_id  \\\n",
       "0  No focal subject       7197.58   J1S1C11L1                  RA13   \n",
       "1  No focal subject       7197.58   J1S1C11L1                  RA13   \n",
       "2  No focal subject       7197.58   J1S1C11L1                  RA13   \n",
       "3  No focal subject       7197.58   J1S1C11L1                  RA13   \n",
       "4  No focal subject       7197.58   J1S1C11L1                  RA13   \n",
       "\n",
       "   subject_id        BehaviorId                    Video       Time  \n",
       "0     J1S1C11  B_WRITING_SLIDES  PH1011-PHYSICS_20150922  1502.1030  \n",
       "1     J1S1C11        B_CHARTS_S  PH1011-PHYSICS_20150922  5042.2455  \n",
       "2     J1S1C11        B_CHARTS_P  PH1011-PHYSICS_20150922  3435.2690  \n",
       "3     J1S1C11  B_WRITING_SLIDES  PH1011-PHYSICS_20150922  5077.4995  \n",
       "4     J1S1C11        B_CHARTS_P  PH1011-PHYSICS_20150922  3703.2980  \n",
       "\n",
       "[5 rows x 23 columns]"
      ]
     },
     "execution_count": 4,
     "metadata": {},
     "output_type": "execute_result"
    }
   ],
   "source": [
    "visual_df = pd.read_csv(C.VISUAL_EVENTS_PATH, converters=C.A_CONVERTERS)\n",
    "visual_df.head()"
   ]
  },
  {
   "cell_type": "markdown",
   "metadata": {},
   "source": [
    "### What is a frame"
   ]
  },
  {
   "cell_type": "markdown",
   "metadata": {},
   "source": [
    "Frame will contain fields:\n",
    "- video\n",
    "- timestamp of a frame\n",
    "- original event id (can be null if the frame was not generated based on any event)\n",
    "- original behavior (can be null)\n",
    "- state event collisions (array, can be empty)\n",
    "- behaviors covered (original behavior + state event collisions' behaviors)"
   ]
  },
  {
   "cell_type": "markdown",
   "metadata": {},
   "source": [
    "# Prepare frames based on point events"
   ]
  },
  {
   "cell_type": "markdown",
   "metadata": {},
   "source": [
    "### Prepare frames"
   ]
  },
  {
   "cell_type": "code",
   "execution_count": 118,
   "metadata": {},
   "outputs": [],
   "source": [
    "def prepare_frames_for_point_events():\n",
    "    df_data = []\n",
    "\n",
    "    for video in tqdm(visual_df[C.A_VIDEO].unique()):\n",
    "        video_df = visual_df[visual_df[C.A_VIDEO] == video]\n",
    "        video_point_df = video_df[video_df[C.A_BEH_ID].isin(C.POINT_BEHS)]\n",
    "        video_state_df = video_df[video_df[C.A_BEH_ID].isin(C.STATE_BEHS)]\n",
    "\n",
    "        for _, event in video_point_df.iterrows():\n",
    "\n",
    "            event_id = event[C.A_EVENT_ID] \n",
    "            beh_id = event[C.A_BEH_ID]\n",
    "            ra_id = event[C.A_RA_ID]\n",
    "            timestamp = event[C.A_START]\n",
    "\n",
    "            collision_state_events = []\n",
    "            behaviors_covered = set()\n",
    "            behaviors_covered.add(beh_id)\n",
    "\n",
    "            for _, collision_event in video_state_df.iterrows():\n",
    "\n",
    "                collision_event_start = collision_event[C.A_START]\n",
    "                collision_event_stop = collision_event[C.A_STOP]\n",
    "\n",
    "                is_collision = timestamp >= collision_event_start and timestamp <= collision_event_stop\n",
    "                if not is_collision:\n",
    "                    continue\n",
    "\n",
    "                collision_state_events.append(collision_event[C.A_EVENT_ID])\n",
    "                behaviors_covered.add(collision_event[C.A_BEH_ID])\n",
    "\n",
    "            frame_id = f\"{video}__{timestamp}__{event_id}__{beh_id}__{ra_id}\"\n",
    "            df_data.append([\n",
    "                frame_id,\n",
    "                video,\n",
    "                timestamp,\n",
    "                event_id,\n",
    "                beh_id,\n",
    "                ra_id,\n",
    "                collision_state_events,\n",
    "                list(behaviors_covered)\n",
    "            ])\n",
    "\n",
    "    return pd.DataFrame(\n",
    "        data=df_data,\n",
    "        columns=[\n",
    "            C.F_ID,\n",
    "            C.F_VIDEO,\n",
    "            C.F_TIME,\n",
    "            C.F_EVENT_ID,\n",
    "            C.F_BEH_ID,\n",
    "            C.F_RA_ID,\n",
    "            C.F_COLL_EVENTS,\n",
    "            C.F_BEHS\n",
    "        ]\n",
    "    )\n"
   ]
  },
  {
   "cell_type": "code",
   "execution_count": 119,
   "metadata": {},
   "outputs": [
    {
     "name": "stderr",
     "output_type": "stream",
     "text": [
      "100%|██████████| 118/118 [02:39<00:00,  1.35s/it]\n"
     ]
    }
   ],
   "source": [
    "frames_df = prepare_frames_for_point_events()"
   ]
  },
  {
   "cell_type": "code",
   "execution_count": 120,
   "metadata": {
    "scrolled": true
   },
   "outputs": [
    {
     "data": {
      "text/html": [
       "<div>\n",
       "<style scoped>\n",
       "    .dataframe tbody tr th:only-of-type {\n",
       "        vertical-align: middle;\n",
       "    }\n",
       "\n",
       "    .dataframe tbody tr th {\n",
       "        vertical-align: top;\n",
       "    }\n",
       "\n",
       "    .dataframe thead th {\n",
       "        text-align: right;\n",
       "    }\n",
       "</style>\n",
       "<table border=\"1\" class=\"dataframe\">\n",
       "  <thead>\n",
       "    <tr style=\"text-align: right;\">\n",
       "      <th></th>\n",
       "      <th>Id</th>\n",
       "      <th>Video</th>\n",
       "      <th>Time</th>\n",
       "      <th>Event id</th>\n",
       "      <th>Beh id</th>\n",
       "      <th>RA</th>\n",
       "      <th>Collision events</th>\n",
       "      <th>Behs</th>\n",
       "    </tr>\n",
       "  </thead>\n",
       "  <tbody>\n",
       "    <tr>\n",
       "      <th>0</th>\n",
       "      <td>PH1011-PHYSICS_20150922__3435.269__40__B_CHART...</td>\n",
       "      <td>PH1011-PHYSICS_20150922</td>\n",
       "      <td>3435.269</td>\n",
       "      <td>40</td>\n",
       "      <td>B_CHARTS_P</td>\n",
       "      <td>RA13</td>\n",
       "      <td>[39, 126]</td>\n",
       "      <td>[B_CHARTS_S, B_CHARTS_P]</td>\n",
       "    </tr>\n",
       "    <tr>\n",
       "      <th>1</th>\n",
       "      <td>PH1011-PHYSICS_20150922__3703.298__43__B_CHART...</td>\n",
       "      <td>PH1011-PHYSICS_20150922</td>\n",
       "      <td>3703.298</td>\n",
       "      <td>43</td>\n",
       "      <td>B_CHARTS_P</td>\n",
       "      <td>RA13</td>\n",
       "      <td>[39, 42, 126]</td>\n",
       "      <td>[B_WRITING_SLIDES, B_CHARTS_S, B_CHARTS_P]</td>\n",
       "    </tr>\n",
       "    <tr>\n",
       "      <th>2</th>\n",
       "      <td>PH1011-PHYSICS_20150922__4040.803__44__B_CHART...</td>\n",
       "      <td>PH1011-PHYSICS_20150922</td>\n",
       "      <td>4040.803</td>\n",
       "      <td>44</td>\n",
       "      <td>B_CHARTS_P</td>\n",
       "      <td>RA13</td>\n",
       "      <td>[39, 42, 126]</td>\n",
       "      <td>[B_WRITING_SLIDES, B_CHARTS_S, B_CHARTS_P]</td>\n",
       "    </tr>\n",
       "    <tr>\n",
       "      <th>3</th>\n",
       "      <td>PH1011-PHYSICS_20150922__4284.434__48__B_CHART...</td>\n",
       "      <td>PH1011-PHYSICS_20150922</td>\n",
       "      <td>4284.434</td>\n",
       "      <td>48</td>\n",
       "      <td>B_CHARTS_P</td>\n",
       "      <td>RA13</td>\n",
       "      <td>[39, 42, 126]</td>\n",
       "      <td>[B_WRITING_SLIDES, B_CHARTS_S, B_CHARTS_P]</td>\n",
       "    </tr>\n",
       "    <tr>\n",
       "      <th>4</th>\n",
       "      <td>PH1011-PHYSICS_20150922__4957.804__62__B_CHART...</td>\n",
       "      <td>PH1011-PHYSICS_20150922</td>\n",
       "      <td>4957.804</td>\n",
       "      <td>62</td>\n",
       "      <td>B_CHARTS_P</td>\n",
       "      <td>RA13</td>\n",
       "      <td>[39, 42, 126]</td>\n",
       "      <td>[B_WRITING_SLIDES, B_CHARTS_S, B_CHARTS_P]</td>\n",
       "    </tr>\n",
       "    <tr>\n",
       "      <th>...</th>\n",
       "      <td>...</td>\n",
       "      <td>...</td>\n",
       "      <td>...</td>\n",
       "      <td>...</td>\n",
       "      <td>...</td>\n",
       "      <td>...</td>\n",
       "      <td>...</td>\n",
       "      <td>...</td>\n",
       "    </tr>\n",
       "    <tr>\n",
       "      <th>5047</th>\n",
       "      <td>18S1-MH1802-LEC_20180829__2239.511__40693__B_C...</td>\n",
       "      <td>18S1-MH1802-LEC_20180829</td>\n",
       "      <td>2239.511</td>\n",
       "      <td>40693</td>\n",
       "      <td>B_CHARTS_P</td>\n",
       "      <td>RA9</td>\n",
       "      <td>[40344, 40373, 40378, 40391, 40424, 40686]</td>\n",
       "      <td>[B_CHARTS_S, B_IMAGES_S, B_STANDS, B_WRITING_S...</td>\n",
       "    </tr>\n",
       "    <tr>\n",
       "      <th>5048</th>\n",
       "      <td>18S1-MH1802-LEC_20180829__2266.546__40696__B_C...</td>\n",
       "      <td>18S1-MH1802-LEC_20180829</td>\n",
       "      <td>2266.546</td>\n",
       "      <td>40696</td>\n",
       "      <td>B_CHARTS_P</td>\n",
       "      <td>RA9</td>\n",
       "      <td>[40344, 40373, 40378, 40391, 40424]</td>\n",
       "      <td>[B_CHARTS_S, B_IMAGES_S, B_STANDS, B_WRITING_S...</td>\n",
       "    </tr>\n",
       "    <tr>\n",
       "      <th>5049</th>\n",
       "      <td>18S1-MH1802-LEC_20180829__2891.292__40765__B_C...</td>\n",
       "      <td>18S1-MH1802-LEC_20180829</td>\n",
       "      <td>2891.292</td>\n",
       "      <td>40765</td>\n",
       "      <td>B_CHARTS_P</td>\n",
       "      <td>RA9</td>\n",
       "      <td>[40373, 40378, 40399, 40424, 40764]</td>\n",
       "      <td>[B_WRITING_SLIDES, B_CHARTS_S, B_CHARTS_P, B_S...</td>\n",
       "    </tr>\n",
       "    <tr>\n",
       "      <th>5050</th>\n",
       "      <td>18S1-MH1802-LEC_20180829__4460.945__40892__B_C...</td>\n",
       "      <td>18S1-MH1802-LEC_20180829</td>\n",
       "      <td>4460.945</td>\n",
       "      <td>40892</td>\n",
       "      <td>B_CHARTS_P</td>\n",
       "      <td>RA9</td>\n",
       "      <td>[40364, 40373, 40378, 40424, 40891]</td>\n",
       "      <td>[B_CHARTS_S, B_IMAGES_S, B_STANDS, B_WRITING_S...</td>\n",
       "    </tr>\n",
       "    <tr>\n",
       "      <th>5051</th>\n",
       "      <td>18S1-MH1802-LEC_20180829__5228.956__40941__B_C...</td>\n",
       "      <td>18S1-MH1802-LEC_20180829</td>\n",
       "      <td>5228.956</td>\n",
       "      <td>40941</td>\n",
       "      <td>B_CHARTS_P</td>\n",
       "      <td>RA9</td>\n",
       "      <td>[40370, 40378, 40415, 40424, 40940]</td>\n",
       "      <td>[B_CHARTS_S, B_IMAGES_S, B_STANDS, B_WRITING_S...</td>\n",
       "    </tr>\n",
       "  </tbody>\n",
       "</table>\n",
       "<p>5052 rows × 8 columns</p>\n",
       "</div>"
      ],
      "text/plain": [
       "                                                     Id  \\\n",
       "0     PH1011-PHYSICS_20150922__3435.269__40__B_CHART...   \n",
       "1     PH1011-PHYSICS_20150922__3703.298__43__B_CHART...   \n",
       "2     PH1011-PHYSICS_20150922__4040.803__44__B_CHART...   \n",
       "3     PH1011-PHYSICS_20150922__4284.434__48__B_CHART...   \n",
       "4     PH1011-PHYSICS_20150922__4957.804__62__B_CHART...   \n",
       "...                                                 ...   \n",
       "5047  18S1-MH1802-LEC_20180829__2239.511__40693__B_C...   \n",
       "5048  18S1-MH1802-LEC_20180829__2266.546__40696__B_C...   \n",
       "5049  18S1-MH1802-LEC_20180829__2891.292__40765__B_C...   \n",
       "5050  18S1-MH1802-LEC_20180829__4460.945__40892__B_C...   \n",
       "5051  18S1-MH1802-LEC_20180829__5228.956__40941__B_C...   \n",
       "\n",
       "                         Video      Time  Event id      Beh id    RA  \\\n",
       "0      PH1011-PHYSICS_20150922  3435.269        40  B_CHARTS_P  RA13   \n",
       "1      PH1011-PHYSICS_20150922  3703.298        43  B_CHARTS_P  RA13   \n",
       "2      PH1011-PHYSICS_20150922  4040.803        44  B_CHARTS_P  RA13   \n",
       "3      PH1011-PHYSICS_20150922  4284.434        48  B_CHARTS_P  RA13   \n",
       "4      PH1011-PHYSICS_20150922  4957.804        62  B_CHARTS_P  RA13   \n",
       "...                        ...       ...       ...         ...   ...   \n",
       "5047  18S1-MH1802-LEC_20180829  2239.511     40693  B_CHARTS_P   RA9   \n",
       "5048  18S1-MH1802-LEC_20180829  2266.546     40696  B_CHARTS_P   RA9   \n",
       "5049  18S1-MH1802-LEC_20180829  2891.292     40765  B_CHARTS_P   RA9   \n",
       "5050  18S1-MH1802-LEC_20180829  4460.945     40892  B_CHARTS_P   RA9   \n",
       "5051  18S1-MH1802-LEC_20180829  5228.956     40941  B_CHARTS_P   RA9   \n",
       "\n",
       "                                Collision events  \\\n",
       "0                                      [39, 126]   \n",
       "1                                  [39, 42, 126]   \n",
       "2                                  [39, 42, 126]   \n",
       "3                                  [39, 42, 126]   \n",
       "4                                  [39, 42, 126]   \n",
       "...                                          ...   \n",
       "5047  [40344, 40373, 40378, 40391, 40424, 40686]   \n",
       "5048         [40344, 40373, 40378, 40391, 40424]   \n",
       "5049         [40373, 40378, 40399, 40424, 40764]   \n",
       "5050         [40364, 40373, 40378, 40424, 40891]   \n",
       "5051         [40370, 40378, 40415, 40424, 40940]   \n",
       "\n",
       "                                                   Behs  \n",
       "0                              [B_CHARTS_S, B_CHARTS_P]  \n",
       "1            [B_WRITING_SLIDES, B_CHARTS_S, B_CHARTS_P]  \n",
       "2            [B_WRITING_SLIDES, B_CHARTS_S, B_CHARTS_P]  \n",
       "3            [B_WRITING_SLIDES, B_CHARTS_S, B_CHARTS_P]  \n",
       "4            [B_WRITING_SLIDES, B_CHARTS_S, B_CHARTS_P]  \n",
       "...                                                 ...  \n",
       "5047  [B_CHARTS_S, B_IMAGES_S, B_STANDS, B_WRITING_S...  \n",
       "5048  [B_CHARTS_S, B_IMAGES_S, B_STANDS, B_WRITING_S...  \n",
       "5049  [B_WRITING_SLIDES, B_CHARTS_S, B_CHARTS_P, B_S...  \n",
       "5050  [B_CHARTS_S, B_IMAGES_S, B_STANDS, B_WRITING_S...  \n",
       "5051  [B_CHARTS_S, B_IMAGES_S, B_STANDS, B_WRITING_S...  \n",
       "\n",
       "[5052 rows x 8 columns]"
      ]
     },
     "execution_count": 120,
     "metadata": {},
     "output_type": "execute_result"
    }
   ],
   "source": [
    "frames_df"
   ]
  },
  {
   "cell_type": "code",
   "execution_count": 121,
   "metadata": {},
   "outputs": [],
   "source": [
    "frames_df.to_csv(C.Frames.FRAMES_DF_DRAFT_PATH, index=False)"
   ]
  },
  {
   "cell_type": "markdown",
   "metadata": {},
   "source": [
    "### Reload frames"
   ]
  },
  {
   "cell_type": "code",
   "execution_count": 5,
   "metadata": {},
   "outputs": [
    {
     "data": {
      "text/plain": [
       "5052"
      ]
     },
     "execution_count": 5,
     "metadata": {},
     "output_type": "execute_result"
    }
   ],
   "source": [
    "frames_df = pd.read_csv(C.Frames.FRAMES_DF_DRAFT_PATH, converters=C.F_CONVERTERS)\n",
    "len(frames_df)"
   ]
  },
  {
   "cell_type": "markdown",
   "metadata": {},
   "source": [
    "### Generate screenshots"
   ]
  },
  {
   "cell_type": "code",
   "execution_count": null,
   "metadata": {},
   "outputs": [],
   "source": [
    "Path(C.Frames.FRAMES_SCREENSHOTS_PATH).mkdir(exist_ok=True)"
   ]
  },
  {
   "cell_type": "code",
   "execution_count": 13,
   "metadata": {},
   "outputs": [
    {
     "name": "stdout",
     "output_type": "stream",
     "text": [
      "15S1-PH1105-LEC_20150828__1988.148__2210__B_IMAGES_P__RA3\n",
      "5052\n"
     ]
    }
   ],
   "source": [
    "already_generated = []\n",
    "for file in os.listdir(C.Frames.FRAMES_SCREENSHOTS_PATH):\n",
    "    frame_id = file[:-3]\n",
    "    already_generated.append(frame_id)\n",
    "    \n",
    "print(already_generated[0])\n",
    "print(len(already_generated))"
   ]
  },
  {
   "cell_type": "code",
   "execution_count": 15,
   "metadata": {},
   "outputs": [
    {
     "data": {
      "text/plain": [
       "0"
      ]
     },
     "execution_count": 15,
     "metadata": {},
     "output_type": "execute_result"
    }
   ],
   "source": [
    "still_to_generate = []\n",
    "for frame_id in frames_df[C.F_ID].unique():\n",
    "    if frame_id not in already_generated:\n",
    "        still_to_generate.append(frame_id)\n",
    "        \n",
    "still_to_generate and print(still_to_generate)  \n",
    "len(still_to_generate)"
   ]
  },
  {
   "cell_type": "code",
   "execution_count": 20,
   "metadata": {
    "scrolled": true
   },
   "outputs": [
    {
     "data": {
      "application/vnd.jupyter.widget-view+json": {
       "model_id": "a88569c3b6a74e1cb4a079e7ebb6bdcb",
       "version_major": 2,
       "version_minor": 0
      },
      "text/plain": [
       "HBox(children=(FloatProgress(value=0.0, max=108.0), HTML(value='')))"
      ]
     },
     "metadata": {},
     "output_type": "display_data"
    },
    {
     "name": "stdout",
     "output_type": "stream",
     "text": [
      "\n"
     ]
    }
   ],
   "source": [
    "for video_name, video_df in tqdm(frames_df.groupby(C.F_VIDEO)):\n",
    "    \n",
    "    for i, event in video_df.iterrows():\n",
    "        time = event[C.F_TIME]\n",
    "        frame_name = event[C.F_ID]\n",
    "        \n",
    "        if frame_name not in still_to_generate:\n",
    "            continue\n",
    "        \n",
    "        frame = tv.io.read_video(f\"{C.ORIGINAL_VIDEOS_DIR}/{video_name}.mp4\", start_pts=time, end_pts=time, pts_unit='sec')[0]\n",
    "        torch.save(frame, f'{C.Frames.FRAMES_SCREENSHOTS_PATH}/{frame_name}.pt')"
   ]
  },
  {
   "cell_type": "markdown",
   "metadata": {},
   "source": [
    "### Check behaviors distribution"
   ]
  },
  {
   "cell_type": "code",
   "execution_count": 21,
   "metadata": {},
   "outputs": [
    {
     "data": {
      "text/plain": [
       "{'B_CHARTS_P': 2248,\n",
       " 'B_IMAGES_P': 1746,\n",
       " 'B_WEBSITE_P': 162,\n",
       " 'B_FILMS_P': 309,\n",
       " 'B_SESSIONS_P': 587}"
      ]
     },
     "execution_count": 21,
     "metadata": {},
     "output_type": "execute_result"
    }
   ],
   "source": [
    "frames_df = pd.read_csv(C.Frames.FRAMES_DF_DRAFT_PATH, converters=C.F_CONVERTERS)\n",
    "\n",
    "behs_count = {}\n",
    "for _, frame in frames_df.iterrows():\n",
    "    \n",
    "    beh = frame[C.F_BEH_ID]\n",
    "    if beh not in behs_count:\n",
    "        behs_count[beh] = 0\n",
    "        \n",
    "    behs_count[beh] += 1\n",
    "\n",
    "behs_count"
   ]
  },
  {
   "cell_type": "markdown",
   "metadata": {},
   "source": [
    "## Remove point duplicates"
   ]
  },
  {
   "cell_type": "code",
   "execution_count": 6,
   "metadata": {},
   "outputs": [
    {
     "data": {
      "text/plain": [
       "4920"
      ]
     },
     "execution_count": 6,
     "metadata": {},
     "output_type": "execute_result"
    }
   ],
   "source": [
    "point_df = pd.read_csv(C.Frames.POINT_DUPLICATES, converters=C.F_CONVERTERS)\n",
    "len(point_df)"
   ]
  },
  {
   "cell_type": "code",
   "execution_count": 8,
   "metadata": {},
   "outputs": [
    {
     "data": {
      "application/vnd.jupyter.widget-view+json": {
       "model_id": "abeed18dc309482da75c137f0f0ff6ca",
       "version_major": 2,
       "version_minor": 0
      },
      "text/plain": [
       "HBox(children=(FloatProgress(value=0.0, max=104.0), HTML(value='')))"
      ]
     },
     "metadata": {},
     "output_type": "display_data"
    },
    {
     "name": "stdout",
     "output_type": "stream",
     "text": [
      "\n"
     ]
    }
   ],
   "source": [
    "frames_without_collision = []\n",
    "frames_with_collision = []\n",
    "\n",
    "for video in tqdm(point_df[C.F_VIDEO].unique()):\n",
    "    \n",
    "    video_point_df = point_df[point_df[C.F_VIDEO] == video]\n",
    "    occupied_timestamps = []\n",
    "    \n",
    "    for _, frame in video_point_df.iterrows():\n",
    "        \n",
    "        time = frame[C.F_TIME]\n",
    "        \n",
    "        has_collision = False\n",
    "        for t in occupied_timestamps:\n",
    "            if abs(t - time) < 1:\n",
    "                has_collision = True\n",
    "                break\n",
    "                \n",
    "        if not has_collision:\n",
    "            frames_without_collision.append(frame[C.F_ID])\n",
    "            occupied_timestamps.append(time)\n",
    "        else:\n",
    "            frames_with_collision.append(frame[C.F_ID])"
   ]
  },
  {
   "cell_type": "code",
   "execution_count": 9,
   "metadata": {},
   "outputs": [
    {
     "name": "stdout",
     "output_type": "stream",
     "text": [
      "3854\n",
      "1066\n"
     ]
    }
   ],
   "source": [
    "print(len(frames_without_collision))\n",
    "print(len(frames_with_collision))"
   ]
  },
  {
   "cell_type": "code",
   "execution_count": 10,
   "metadata": {},
   "outputs": [
    {
     "data": {
      "text/plain": [
       "3854"
      ]
     },
     "execution_count": 10,
     "metadata": {},
     "output_type": "execute_result"
    }
   ],
   "source": [
    "less_point_df = point_df[point_df[C.F_ID].isin(frames_without_collision)]\n",
    "len(less_point_df)"
   ]
  },
  {
   "cell_type": "code",
   "execution_count": 12,
   "metadata": {},
   "outputs": [],
   "source": [
    "less_point_df.to_csv(C.Frames.POINT, index=False)"
   ]
  },
  {
   "cell_type": "code",
   "execution_count": null,
   "metadata": {},
   "outputs": [],
   "source": []
  }
 ],
 "metadata": {
  "kernelspec": {
   "display_name": "Python 3",
   "language": "python",
   "name": "python3"
  },
  "language_info": {
   "codemirror_mode": {
    "name": "ipython",
    "version": 3
   },
   "file_extension": ".py",
   "mimetype": "text/x-python",
   "name": "python",
   "nbconvert_exporter": "python",
   "pygments_lexer": "ipython3",
   "version": "3.6.10"
  }
 },
 "nbformat": 4,
 "nbformat_minor": 4
}
