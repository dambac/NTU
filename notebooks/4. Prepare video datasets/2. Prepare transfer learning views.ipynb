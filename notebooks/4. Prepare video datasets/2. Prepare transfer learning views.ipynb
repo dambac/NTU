{
 "cells": [
  {
   "cell_type": "code",
   "execution_count": 1,
   "metadata": {},
   "outputs": [
    {
     "name": "stdout",
     "output_type": "stream",
     "text": [
      "Constants loaded\n"
     ]
    }
   ],
   "source": [
    "%run /home/dbaciur/NTU/NTU/notes/Constants.ipynb"
   ]
  },
  {
   "cell_type": "markdown",
   "metadata": {},
   "source": [
    "Here we pass all our Splits through selected pretrained models to use them later in learning"
   ]
  },
  {
   "cell_type": "code",
   "execution_count": 2,
   "metadata": {},
   "outputs": [],
   "source": [
    "import torch\n",
    "import torchvision as tv\n",
    "from tqdm.notebook import tqdm\n",
    "import matplotlib.pyplot as plt\n",
    "import pandas as pd\n",
    "import os\n",
    "import math\n",
    "from pathlib import Path"
   ]
  },
  {
   "cell_type": "markdown",
   "metadata": {},
   "source": [
    "### Check split frames shape"
   ]
  },
  {
   "cell_type": "code",
   "execution_count": 3,
   "metadata": {},
   "outputs": [],
   "source": [
    "split_frame_names = os.listdir(C.Frames.FRAMES_SCREENSHOTS_PATH)"
   ]
  },
  {
   "cell_type": "code",
   "execution_count": 4,
   "metadata": {},
   "outputs": [
    {
     "name": "stdout",
     "output_type": "stream",
     "text": [
      "torch.Size([1, 720, 960, 3])\n",
      "torch.Size([1, 720, 960, 3])\n"
     ]
    }
   ],
   "source": [
    "frame1 = torch.load(f'{C.Frames.FRAMES_SCREENSHOTS_PATH}/{split_frame_names[0]}')\n",
    "frame2 = torch.load(f'{C.Frames.FRAMES_SCREENSHOTS_PATH}/{split_frame_names[1000]}')\n",
    "print(frame1.shape)\n",
    "print(frame2.shape)"
   ]
  },
  {
   "cell_type": "markdown",
   "metadata": {},
   "source": [
    "### Load frames df"
   ]
  },
  {
   "cell_type": "code",
   "execution_count": 5,
   "metadata": {
    "scrolled": false
   },
   "outputs": [
    {
     "data": {
      "text/html": [
       "<div>\n",
       "<style scoped>\n",
       "    .dataframe tbody tr th:only-of-type {\n",
       "        vertical-align: middle;\n",
       "    }\n",
       "\n",
       "    .dataframe tbody tr th {\n",
       "        vertical-align: top;\n",
       "    }\n",
       "\n",
       "    .dataframe thead th {\n",
       "        text-align: right;\n",
       "    }\n",
       "</style>\n",
       "<table border=\"1\" class=\"dataframe\">\n",
       "  <thead>\n",
       "    <tr style=\"text-align: right;\">\n",
       "      <th></th>\n",
       "      <th>Id</th>\n",
       "      <th>Video</th>\n",
       "      <th>Time</th>\n",
       "      <th>Event id</th>\n",
       "      <th>Beh id</th>\n",
       "      <th>RA</th>\n",
       "      <th>Collision events</th>\n",
       "      <th>Behs</th>\n",
       "      <th>Layout</th>\n",
       "      <th>Layouts</th>\n",
       "      <th>Splits</th>\n",
       "      <th>Origin</th>\n",
       "    </tr>\n",
       "  </thead>\n",
       "  <tbody>\n",
       "    <tr>\n",
       "      <th>0</th>\n",
       "      <td>PH1104-MECHANICS_20150817_PC1__2886.1575000000...</td>\n",
       "      <td>PH1104-MECHANICS_20150817_PC1</td>\n",
       "      <td>2886.1575</td>\n",
       "      <td>729</td>\n",
       "      <td>B_WRITING_BOARD</td>\n",
       "      <td>RA13</td>\n",
       "      <td>[]</td>\n",
       "      <td>[]</td>\n",
       "      <td>4</td>\n",
       "      <td>[1, 2]</td>\n",
       "      <td>[PH1104-MECHANICS_20150817_PC1__2886.157500000...</td>\n",
       "      <td>new_frames_for_chart_image_label_0_gap_10</td>\n",
       "    </tr>\n",
       "    <tr>\n",
       "      <th>1</th>\n",
       "      <td>PH1104-MECHANICS_20150817_PC1__44.2295__738__B...</td>\n",
       "      <td>PH1104-MECHANICS_20150817_PC1</td>\n",
       "      <td>44.2295</td>\n",
       "      <td>738</td>\n",
       "      <td>B_MOVEMENT</td>\n",
       "      <td>RA2</td>\n",
       "      <td>[]</td>\n",
       "      <td>[]</td>\n",
       "      <td>5</td>\n",
       "      <td>[2, 1]</td>\n",
       "      <td>[PH1104-MECHANICS_20150817_PC1__44.2295__738__...</td>\n",
       "      <td>new_frames_for_chart_image_label_0_gap_10</td>\n",
       "    </tr>\n",
       "    <tr>\n",
       "      <th>2</th>\n",
       "      <td>PH1104-MECHANICS_20150817_PC1__1881.4025__751_...</td>\n",
       "      <td>PH1104-MECHANICS_20150817_PC1</td>\n",
       "      <td>1881.4025</td>\n",
       "      <td>751</td>\n",
       "      <td>B_STANDS</td>\n",
       "      <td>RA2</td>\n",
       "      <td>[]</td>\n",
       "      <td>[]</td>\n",
       "      <td>5</td>\n",
       "      <td>[2, 1]</td>\n",
       "      <td>[PH1104-MECHANICS_20150817_PC1__1881.4025__751...</td>\n",
       "      <td>new_frames_for_chart_image_label_0_gap_10</td>\n",
       "    </tr>\n",
       "    <tr>\n",
       "      <th>3</th>\n",
       "      <td>PH1104-MECHANICS_20150817_PC1__1967.781__752__...</td>\n",
       "      <td>PH1104-MECHANICS_20150817_PC1</td>\n",
       "      <td>1967.7810</td>\n",
       "      <td>752</td>\n",
       "      <td>B_STANDS</td>\n",
       "      <td>RA2</td>\n",
       "      <td>[]</td>\n",
       "      <td>[]</td>\n",
       "      <td>4</td>\n",
       "      <td>[1, 2]</td>\n",
       "      <td>[PH1104-MECHANICS_20150817_PC1__1967.781__752_...</td>\n",
       "      <td>new_frames_for_chart_image_label_0_gap_10</td>\n",
       "    </tr>\n",
       "    <tr>\n",
       "      <th>4</th>\n",
       "      <td>PH1104-MECHANICS_20150817_PC1__2687.4440000000...</td>\n",
       "      <td>PH1104-MECHANICS_20150817_PC1</td>\n",
       "      <td>2687.4440</td>\n",
       "      <td>763</td>\n",
       "      <td>B_WRITING_BOARD</td>\n",
       "      <td>RA2</td>\n",
       "      <td>[]</td>\n",
       "      <td>[]</td>\n",
       "      <td>4</td>\n",
       "      <td>[1, 2]</td>\n",
       "      <td>[PH1104-MECHANICS_20150817_PC1__2687.444000000...</td>\n",
       "      <td>new_frames_for_chart_image_label_0_gap_10</td>\n",
       "    </tr>\n",
       "  </tbody>\n",
       "</table>\n",
       "</div>"
      ],
      "text/plain": [
       "                                                  Id  \\\n",
       "0  PH1104-MECHANICS_20150817_PC1__2886.1575000000...   \n",
       "1  PH1104-MECHANICS_20150817_PC1__44.2295__738__B...   \n",
       "2  PH1104-MECHANICS_20150817_PC1__1881.4025__751_...   \n",
       "3  PH1104-MECHANICS_20150817_PC1__1967.781__752__...   \n",
       "4  PH1104-MECHANICS_20150817_PC1__2687.4440000000...   \n",
       "\n",
       "                           Video       Time  Event id           Beh id    RA  \\\n",
       "0  PH1104-MECHANICS_20150817_PC1  2886.1575       729  B_WRITING_BOARD  RA13   \n",
       "1  PH1104-MECHANICS_20150817_PC1    44.2295       738       B_MOVEMENT   RA2   \n",
       "2  PH1104-MECHANICS_20150817_PC1  1881.4025       751         B_STANDS   RA2   \n",
       "3  PH1104-MECHANICS_20150817_PC1  1967.7810       752         B_STANDS   RA2   \n",
       "4  PH1104-MECHANICS_20150817_PC1  2687.4440       763  B_WRITING_BOARD   RA2   \n",
       "\n",
       "  Collision events Behs  Layout Layouts  \\\n",
       "0               []   []       4  [1, 2]   \n",
       "1               []   []       5  [2, 1]   \n",
       "2               []   []       5  [2, 1]   \n",
       "3               []   []       4  [1, 2]   \n",
       "4               []   []       4  [1, 2]   \n",
       "\n",
       "                                              Splits  \\\n",
       "0  [PH1104-MECHANICS_20150817_PC1__2886.157500000...   \n",
       "1  [PH1104-MECHANICS_20150817_PC1__44.2295__738__...   \n",
       "2  [PH1104-MECHANICS_20150817_PC1__1881.4025__751...   \n",
       "3  [PH1104-MECHANICS_20150817_PC1__1967.781__752_...   \n",
       "4  [PH1104-MECHANICS_20150817_PC1__2687.444000000...   \n",
       "\n",
       "                                      Origin  \n",
       "0  new_frames_for_chart_image_label_0_gap_10  \n",
       "1  new_frames_for_chart_image_label_0_gap_10  \n",
       "2  new_frames_for_chart_image_label_0_gap_10  \n",
       "3  new_frames_for_chart_image_label_0_gap_10  \n",
       "4  new_frames_for_chart_image_label_0_gap_10  "
      ]
     },
     "execution_count": 5,
     "metadata": {},
     "output_type": "execute_result"
    }
   ],
   "source": [
    "frames_df = pd.read_csv(C.Frames.CHART_IMAGE_S10_LABEL_0, converters=C.F_CONVERTERS)\n",
    "frames_df.head()"
   ]
  },
  {
   "cell_type": "code",
   "execution_count": 6,
   "metadata": {},
   "outputs": [],
   "source": [
    "def prepare_views(output_dir, frame_normalizer, nn):\n",
    "    Path(output_dir).mkdir(parents=True, exist_ok=True)\n",
    "    \n",
    "    total = len(frames_df)\n",
    "    pbar = tqdm(total=total)\n",
    "    for i, frame_row in frames_df.iterrows():\n",
    "        pbar.update()\n",
    "        \n",
    "        split_names = frame_row[C.F_SPLITS]\n",
    "        if split_names[0] == split_names[1]:\n",
    "            split_names = [split_names[0]]\n",
    "            \n",
    "        for split_name in split_names:\n",
    "            \n",
    "            output_file = f\"{output_dir}/{split_name}.pt\"\n",
    "            if os.path.exists(output_file):\n",
    "                continue\n",
    "\n",
    "            frame = torch.load(f\"{C.Frames.FRAMES_SCREENSHOTS_PATH}/{split_name}.pt\")\n",
    "\n",
    "            # Normalizing\n",
    "            normalized = frame_normalizer(frame)\n",
    "\n",
    "            # permute to T,C,W,H and run\n",
    "            nn_frame = nn.forward(normalized.permute(0,3,1,2).to('cuda')).to('cpu')\n",
    "            \n",
    "            torch.save(nn_frame, output_file)\n",
    "            \n",
    "            # clearing some memory?\n",
    "            del normalized\n",
    "            del nn_frame"
   ]
  },
  {
   "cell_type": "markdown",
   "metadata": {},
   "source": [
    "# AlexNet"
   ]
  },
  {
   "cell_type": "code",
   "execution_count": 7,
   "metadata": {},
   "outputs": [],
   "source": [
    "def normalize(vid):\n",
    "    \"\"\"\n",
    "    im.shape = (time, height, width, channels=3)\n",
    "    \"\"\"\n",
    "    vid = vid.float()/255\n",
    "    mean = torch.Tensor([[[[0.485, 0.456, 0.406]]]]).to(vid.device)\n",
    "    std = torch.Tensor([[[[0.229, 0.224, 0.225]]]]).to(vid.device)\n",
    "    return (vid - mean)/std"
   ]
  },
  {
   "cell_type": "code",
   "execution_count": 8,
   "metadata": {},
   "outputs": [],
   "source": [
    "def prepare_alexnet():\n",
    "    al = tv.models.alexnet(pretrained=True).to('cuda')\n",
    "    al.eval()\n",
    "    al.classifier._modules['5'] = torch.nn.Identity()\n",
    "    al.classifier._modules['6'] = torch.nn.Identity()\n",
    "    return al"
   ]
  },
  {
   "cell_type": "code",
   "execution_count": 10,
   "metadata": {},
   "outputs": [
    {
     "data": {
      "application/vnd.jupyter.widget-view+json": {
       "model_id": "371301cfce464e579afd67676ffc1281",
       "version_major": 2,
       "version_minor": 0
      },
      "text/plain": [
       "HBox(children=(FloatProgress(value=0.0, max=3636.0), HTML(value='')))"
      ]
     },
     "metadata": {},
     "output_type": "display_data"
    }
   ],
   "source": [
    "alex_net_df = prepare_views(\n",
    "    output_dir=C.ALEX_NET_PATH,\n",
    "    frame_normalizer= lambda frame: normalize(frame),\n",
    "    nn=prepare_alexnet())"
   ]
  },
  {
   "cell_type": "code",
   "execution_count": 20,
   "metadata": {},
   "outputs": [
    {
     "name": "stdout",
     "output_type": "stream",
     "text": [
      "torch.Size([1, 4096])\n",
      "torch.Size([1, 4096])\n"
     ]
    }
   ],
   "source": [
    "view1 = torch.load(f\"{C.ALEX_NET_PATH}/PH1011-PHYSICS_20150922__3435.269__40__B_CHARTS_P__RA13__Left.pt\") \n",
    "view2 = torch.load(f\"{C.ALEX_NET_PATH}/PH1011-PHYSICS_20150922__3435.269__40__B_CHARTS_P__RA13__Right.pt\")\n",
    "print(view1.shape)\n",
    "print(view2.shape)"
   ]
  },
  {
   "cell_type": "markdown",
   "metadata": {},
   "source": [
    "# DeepAlexNet"
   ]
  },
  {
   "cell_type": "code",
   "execution_count": 11,
   "metadata": {},
   "outputs": [],
   "source": [
    "def prepare_deep_alexnet():\n",
    "    al = tv.models.alexnet(pretrained=True).to('cuda')\n",
    "    al.eval()\n",
    "    return al"
   ]
  },
  {
   "cell_type": "code",
   "execution_count": 12,
   "metadata": {},
   "outputs": [
    {
     "data": {
      "application/vnd.jupyter.widget-view+json": {
       "model_id": "588fa50458cf49169fb9da907ce48843",
       "version_major": 2,
       "version_minor": 0
      },
      "text/plain": [
       "HBox(children=(FloatProgress(value=0.0, max=3636.0), HTML(value='')))"
      ]
     },
     "metadata": {},
     "output_type": "display_data"
    }
   ],
   "source": [
    "deep_alex_net_df = prepare_views(\n",
    "    output_dir=C.DEEP_ALEX_NET_PATH,\n",
    "    frame_normalizer= lambda frame: normalize(frame),\n",
    "    nn=prepare_deep_alexnet())"
   ]
  },
  {
   "cell_type": "markdown",
   "metadata": {},
   "source": [
    "# ResNet"
   ]
  },
  {
   "cell_type": "code",
   "execution_count": 13,
   "metadata": {},
   "outputs": [],
   "source": [
    "def prepare_resnet():\n",
    "    resnet = tv.models.resnet152(pretrained=True).to('cuda')\n",
    "    resnet.eval()\n",
    "    resnet.fc = torch.nn.Identity()\n",
    "    return resnet"
   ]
  },
  {
   "cell_type": "code",
   "execution_count": 14,
   "metadata": {},
   "outputs": [
    {
     "data": {
      "application/vnd.jupyter.widget-view+json": {
       "model_id": "e28eaede37f548d289f63f680f00261b",
       "version_major": 2,
       "version_minor": 0
      },
      "text/plain": [
       "HBox(children=(FloatProgress(value=0.0, max=3636.0), HTML(value='')))"
      ]
     },
     "metadata": {},
     "output_type": "display_data"
    }
   ],
   "source": [
    "res_net_df = prepare_views(\n",
    "    output_dir=C.RES_NET_PATH,\n",
    "    frame_normalizer= lambda frame: normalize(frame),\n",
    "    nn=prepare_resnet())"
   ]
  },
  {
   "cell_type": "markdown",
   "metadata": {},
   "source": [
    "# VGG"
   ]
  },
  {
   "cell_type": "code",
   "execution_count": 15,
   "metadata": {},
   "outputs": [],
   "source": [
    "def prepare_vgg():\n",
    "    vgg = tv.models.vgg19(pretrained=True).to('cuda')\n",
    "    vgg.eval()\n",
    "    vgg.classifier._modules['4'] = torch.nn.Identity()\n",
    "    vgg.classifier._modules['5'] = torch.nn.Identity()\n",
    "    vgg.classifier._modules['6'] = torch.nn.Identity()\n",
    "    return vgg"
   ]
  },
  {
   "cell_type": "code",
   "execution_count": 16,
   "metadata": {},
   "outputs": [
    {
     "data": {
      "application/vnd.jupyter.widget-view+json": {
       "model_id": "c8123f55a12c414aaa5bd67899870d11",
       "version_major": 2,
       "version_minor": 0
      },
      "text/plain": [
       "HBox(children=(FloatProgress(value=0.0, max=3636.0), HTML(value='')))"
      ]
     },
     "metadata": {},
     "output_type": "display_data"
    }
   ],
   "source": [
    "vgg_df = prepare_views(\n",
    "    output_dir=C.VGG_PATH,\n",
    "    frame_normalizer= lambda frame: normalize(frame),\n",
    "    nn=prepare_vgg())"
   ]
  },
  {
   "cell_type": "markdown",
   "metadata": {},
   "source": [
    "# Deep VGG"
   ]
  },
  {
   "cell_type": "code",
   "execution_count": 17,
   "metadata": {},
   "outputs": [],
   "source": [
    "def prepare_deep_vgg():\n",
    "    vgg = tv.models.vgg19(pretrained=True).to('cuda')\n",
    "    vgg.eval()\n",
    "    vgg.classifier = torch.nn.Identity()\n",
    "    return vgg"
   ]
  },
  {
   "cell_type": "code",
   "execution_count": 18,
   "metadata": {},
   "outputs": [
    {
     "data": {
      "application/vnd.jupyter.widget-view+json": {
       "model_id": "43b49adf1aaf4c8083850f2ecb30a674",
       "version_major": 2,
       "version_minor": 0
      },
      "text/plain": [
       "HBox(children=(FloatProgress(value=0.0, max=3636.0), HTML(value='')))"
      ]
     },
     "metadata": {},
     "output_type": "display_data"
    }
   ],
   "source": [
    "deep_vgg_df = prepare_views(\n",
    "    output_dir=C.DEEP_VGG_PATH,\n",
    "    frame_normalizer= lambda frame: normalize(frame),\n",
    "    nn=prepare_deep_vgg())"
   ]
  },
  {
   "cell_type": "code",
   "execution_count": null,
   "metadata": {},
   "outputs": [],
   "source": []
  }
 ],
 "metadata": {
  "kernelspec": {
   "display_name": "Python 3",
   "language": "python",
   "name": "python3"
  },
  "language_info": {
   "codemirror_mode": {
    "name": "ipython",
    "version": 3
   },
   "file_extension": ".py",
   "mimetype": "text/x-python",
   "name": "python",
   "nbconvert_exporter": "python",
   "pygments_lexer": "ipython3",
   "version": "3.6.10"
  }
 },
 "nbformat": 4,
 "nbformat_minor": 4
}
