{
 "cells": [
  {
   "cell_type": "code",
   "execution_count": 112,
   "metadata": {},
   "outputs": [
    {
     "name": "stdout",
     "output_type": "stream",
     "text": [
      "Constants loaded\n"
     ]
    }
   ],
   "source": [
    "%run /home/dbaciur/NTU/NTU/notes/Constants.ipynb"
   ]
  },
  {
   "cell_type": "markdown",
   "metadata": {},
   "source": [
    "This is the very first attempt to train network which was later replaced by automated tests runner in Python part of the project"
   ]
  },
  {
   "cell_type": "code",
   "execution_count": 113,
   "metadata": {},
   "outputs": [],
   "source": [
    "import torch\n",
    "import numpy\n",
    "import os\n",
    "from tqdm.notebook import tqdm\n",
    "import numpy as np\n",
    "import pandas as pd\n",
    "import matplotlib.pyplot as plt\n",
    "\n",
    "LABELS_MAP = {\n",
    "    1: 0,\n",
    "    7: 1,\n",
    "    8: 2,\n",
    "    13: 3,\n",
    "    14: 4,\n",
    "    15: 5,\n",
    "    16: 6,\n",
    "    22: 7,\n",
    "    23: 8\n",
    "}"
   ]
  },
  {
   "cell_type": "markdown",
   "metadata": {},
   "source": [
    "# Review dataset"
   ]
  },
  {
   "cell_type": "code",
   "execution_count": 114,
   "metadata": {},
   "outputs": [
    {
     "data": {
      "text/html": [
       "<div>\n",
       "<style scoped>\n",
       "    .dataframe tbody tr th:only-of-type {\n",
       "        vertical-align: middle;\n",
       "    }\n",
       "\n",
       "    .dataframe tbody tr th {\n",
       "        vertical-align: top;\n",
       "    }\n",
       "\n",
       "    .dataframe thead th {\n",
       "        text-align: right;\n",
       "    }\n",
       "</style>\n",
       "<table border=\"1\" class=\"dataframe\">\n",
       "  <thead>\n",
       "    <tr style=\"text-align: right;\">\n",
       "      <th></th>\n",
       "      <th>Event id</th>\n",
       "      <th>Video</th>\n",
       "      <th>Time</th>\n",
       "      <th>Frame name</th>\n",
       "      <th>Behaviors</th>\n",
       "      <th>Layout</th>\n",
       "    </tr>\n",
       "  </thead>\n",
       "  <tbody>\n",
       "    <tr>\n",
       "      <th>0</th>\n",
       "      <td>NaN</td>\n",
       "      <td>PH1011-PHYSICS_20150922</td>\n",
       "      <td>65.873</td>\n",
       "      <td>PH1011-PHYSICS_20150922__Time65.873sec</td>\n",
       "      <td>[999]</td>\n",
       "      <td>3.0</td>\n",
       "    </tr>\n",
       "  </tbody>\n",
       "</table>\n",
       "</div>"
      ],
      "text/plain": [
       "   Event id                    Video    Time  \\\n",
       "0       NaN  PH1011-PHYSICS_20150922  65.873   \n",
       "\n",
       "                               Frame name Behaviors  Layout  \n",
       "0  PH1011-PHYSICS_20150922__Time65.873sec     [999]     3.0  "
      ]
     },
     "execution_count": 114,
     "metadata": {},
     "output_type": "execute_result"
    }
   ],
   "source": [
    "# Load frames df\n",
    "frames_df = pd.read_csv(C.Frames.FRAMES_DF_DRAFT_PATH, converters=C.F_CONVERTERS)\n",
    "frames_df.head(1)"
   ]
  },
  {
   "cell_type": "markdown",
   "metadata": {},
   "source": [
    "## Check example frame"
   ]
  },
  {
   "cell_type": "code",
   "execution_count": 115,
   "metadata": {},
   "outputs": [
    {
     "data": {
      "text/plain": [
       "'PH1011-PHYSICS_20150922__Time65.873sec'"
      ]
     },
     "execution_count": 115,
     "metadata": {},
     "output_type": "execute_result"
    }
   ],
   "source": [
    "frame_file = frames_df.iloc[0][C.F_FRAME_NAME]\n",
    "frame_file"
   ]
  },
  {
   "cell_type": "code",
   "execution_count": 116,
   "metadata": {},
   "outputs": [
    {
     "data": {
      "text/plain": [
       "torch.Size([1, 720, 1440, 3])"
      ]
     },
     "execution_count": 116,
     "metadata": {},
     "output_type": "execute_result"
    }
   ],
   "source": [
    "frame = torch.load(f\"{C.Frames.FRAMES_SCREENSHOTS_PATH}/{frame_file}.pt\")\n",
    "frame.shape"
   ]
  },
  {
   "cell_type": "markdown",
   "metadata": {},
   "source": [
    "## Check example views"
   ]
  },
  {
   "cell_type": "code",
   "execution_count": 117,
   "metadata": {},
   "outputs": [
    {
     "data": {
      "text/html": [
       "<div>\n",
       "<style scoped>\n",
       "    .dataframe tbody tr th:only-of-type {\n",
       "        vertical-align: middle;\n",
       "    }\n",
       "\n",
       "    .dataframe tbody tr th {\n",
       "        vertical-align: top;\n",
       "    }\n",
       "\n",
       "    .dataframe thead th {\n",
       "        text-align: right;\n",
       "    }\n",
       "</style>\n",
       "<table border=\"1\" class=\"dataframe\">\n",
       "  <thead>\n",
       "    <tr style=\"text-align: right;\">\n",
       "      <th></th>\n",
       "      <th>Id</th>\n",
       "      <th>Event id</th>\n",
       "      <th>Video</th>\n",
       "      <th>Frame name</th>\n",
       "      <th>View names</th>\n",
       "      <th>View behaviors</th>\n",
       "      <th>View layouts</th>\n",
       "    </tr>\n",
       "  </thead>\n",
       "  <tbody>\n",
       "    <tr>\n",
       "      <th>0</th>\n",
       "      <td>0</td>\n",
       "      <td>NaN</td>\n",
       "      <td>PH1011-PHYSICS_20150922</td>\n",
       "      <td>PH1011-PHYSICS_20150922__Time65.873sec</td>\n",
       "      <td>[PH1011-PHYSICS_20150922__Time65.873sec_VLeft,...</td>\n",
       "      <td>[999]</td>\n",
       "      <td>[1, 1]</td>\n",
       "    </tr>\n",
       "  </tbody>\n",
       "</table>\n",
       "</div>"
      ],
      "text/plain": [
       "   Id  Event id                    Video  \\\n",
       "0   0       NaN  PH1011-PHYSICS_20150922   \n",
       "\n",
       "                               Frame name  \\\n",
       "0  PH1011-PHYSICS_20150922__Time65.873sec   \n",
       "\n",
       "                                          View names View behaviors  \\\n",
       "0  [PH1011-PHYSICS_20150922__Time65.873sec_VLeft,...          [999]   \n",
       "\n",
       "  View layouts  \n",
       "0       [1, 1]  "
      ]
     },
     "execution_count": 117,
     "metadata": {},
     "output_type": "execute_result"
    }
   ],
   "source": [
    "# Load views df\n",
    "views_df = pd.read_csv(C.VIEWS_DF_PATH, converters=C.V_CONVERTERS)\n",
    "views_df.head(1)"
   ]
  },
  {
   "cell_type": "code",
   "execution_count": 118,
   "metadata": {},
   "outputs": [
    {
     "data": {
      "text/plain": [
       "['PH1011-PHYSICS_20150922__Time65.873sec_VLeft',\n",
       " 'PH1011-PHYSICS_20150922__Time65.873sec_VRight']"
      ]
     },
     "execution_count": 118,
     "metadata": {},
     "output_type": "execute_result"
    }
   ],
   "source": [
    "frame_view_names =  views_df[views_df[C.F_FRAME_NAME] == frame_file]\n",
    "frame_view_names = frame_view_names[C.V_VIEWS]\n",
    "frame_view_names[0]"
   ]
  },
  {
   "cell_type": "code",
   "execution_count": 119,
   "metadata": {},
   "outputs": [
    {
     "data": {
      "text/plain": [
       "'PH1011-PHYSICS_20150922__Time65.873sec_VLeft'"
      ]
     },
     "execution_count": 119,
     "metadata": {},
     "output_type": "execute_result"
    }
   ],
   "source": [
    "# let's analyze only 1 view\n",
    "frame_view_name = frame_view_names[0][0]\n",
    "frame_view_name"
   ]
  },
  {
   "cell_type": "markdown",
   "metadata": {},
   "source": [
    "#### AlexNet"
   ]
  },
  {
   "cell_type": "code",
   "execution_count": 9,
   "metadata": {},
   "outputs": [
    {
     "data": {
      "text/plain": [
       "torch.Size([1, 4096])"
      ]
     },
     "execution_count": 9,
     "metadata": {},
     "output_type": "execute_result"
    }
   ],
   "source": [
    "alex_view = torch.load(f\"{C.ALEX_NET_PATH}/{frame_view_name}.pt\")[0]\n",
    "alex_view.shape"
   ]
  },
  {
   "cell_type": "markdown",
   "metadata": {},
   "source": [
    "#### DeepAlexNet"
   ]
  },
  {
   "cell_type": "code",
   "execution_count": 10,
   "metadata": {},
   "outputs": [
    {
     "data": {
      "text/plain": [
       "torch.Size([1, 1000])"
      ]
     },
     "execution_count": 10,
     "metadata": {},
     "output_type": "execute_result"
    }
   ],
   "source": [
    "deep_alex_view = torch.load(f\"{C.DEEP_ALEX_NET_PATH}/{frame_view_name}.pt\")[0]\n",
    "deep_alex_view.shape"
   ]
  },
  {
   "cell_type": "markdown",
   "metadata": {},
   "source": [
    "#### ResNet"
   ]
  },
  {
   "cell_type": "code",
   "execution_count": 11,
   "metadata": {},
   "outputs": [
    {
     "data": {
      "text/plain": [
       "torch.Size([1, 2048])"
      ]
     },
     "execution_count": 11,
     "metadata": {},
     "output_type": "execute_result"
    }
   ],
   "source": [
    "resnet_view = torch.load(f\"{C.RES_NET_PATH}/{frame_view_name}.pt\")[0]\n",
    "resnet_view.shape"
   ]
  },
  {
   "cell_type": "markdown",
   "metadata": {},
   "source": [
    "#### VGG"
   ]
  },
  {
   "cell_type": "code",
   "execution_count": 12,
   "metadata": {},
   "outputs": [
    {
     "data": {
      "text/plain": [
       "torch.Size([1, 4096])"
      ]
     },
     "execution_count": 12,
     "metadata": {},
     "output_type": "execute_result"
    }
   ],
   "source": [
    "vgg_view = torch.load(f\"{C.VGG_PATH}/{frame_view_name}.pt\")[0]\n",
    "vgg_view.shape"
   ]
  },
  {
   "cell_type": "markdown",
   "metadata": {},
   "source": [
    "#### Deep VGG"
   ]
  },
  {
   "cell_type": "code",
   "execution_count": 13,
   "metadata": {},
   "outputs": [
    {
     "data": {
      "text/plain": [
       "torch.Size([1, 25088])"
      ]
     },
     "execution_count": 13,
     "metadata": {},
     "output_type": "execute_result"
    }
   ],
   "source": [
    "deep_vgg_view = torch.load(f\"{C.DEEP_VGG_PATH}/{frame_view_name}.pt\")[0]\n",
    "deep_vgg_view.shape"
   ]
  },
  {
   "cell_type": "markdown",
   "metadata": {},
   "source": [
    "### Summing up\n",
    "\n",
    "**Video**:\n",
    "<br>\n",
    "data/Processed/VID.mp4\n",
    "\n",
    "\n",
    "**Frames**:\n",
    "<br>\n",
    "[1, 720, 1440, 3] <- can be different\n",
    "<br>\n",
    "Frames/VID__Time{time}sec.pt\n",
    "\n",
    "\n",
    "**View**:\n",
    "* data/Views/{}/VID__Time{time}sec__VFull.pt\n",
    "\n",
    "or:\n",
    "* data/Views/{}/VID__Time{time}sec__VLeft.pt\n",
    "* data/Views/{}/VID__Time{time}sec__VRight.pt"
   ]
  },
  {
   "cell_type": "markdown",
   "metadata": {},
   "source": [
    "# Prepare samples"
   ]
  },
  {
   "cell_type": "code",
   "execution_count": 108,
   "metadata": {},
   "outputs": [],
   "source": [
    "class Sample():\n",
    "    def __init__(self, id, event_id, video, views, label):\n",
    "        self.id = id\n",
    "        self.event_id = event_id\n",
    "        self.video = video\n",
    "        self.views = views\n",
    "        self.label = label"
   ]
  },
  {
   "cell_type": "code",
   "execution_count": 109,
   "metadata": {},
   "outputs": [],
   "source": [
    "def aggregate_dict_list_values(d):\n",
    "    values = set()\n",
    "    for dlist in d.values():\n",
    "        for item in dlist:\n",
    "            values.add(item)\n",
    "    return values\n",
    "\n",
    "def subtract_lists(list1, list2):\n",
    "    return [item for item in list1 if item not in list2]\n",
    "\n",
    "def lists_intersect(list1, list2):\n",
    "    for item1 in list1:\n",
    "        if item1 in list2:\n",
    "            return True\n",
    "    return False\n",
    "\n",
    "def get_view_ids_that_have_relevant_behs(views_df, relevant_behs):\n",
    "    ids = []\n",
    "    for i, row in views_df.iterrows():\n",
    "        id = row[C.V_ID]\n",
    "        behs = row[C.V_BEH]\n",
    "        \n",
    "        do_lists_interset = lists_intersect(behs, relevant_behs)\n",
    "        if do_lists_interset:\n",
    "            ids.append(id)\n",
    "    return ids\n",
    "\n",
    "def create_samples(views_dir, beh_labels_dict):\n",
    "    # this will be the resul\n",
    "    samples = []\n",
    "    \n",
    "    # get all behaviors to consider\n",
    "    all_behs = aggregate_dict_list_values(beh_labels_dict)\n",
    "    \n",
    "    views_df = pd.read_csv(C.VIEWS_DF_PATH, converters=C.V_CONVERTERS)\n",
    "    \n",
    "    # filter out all views that does not have any relevant behaviors\n",
    "    ids_of_relevant_views = get_view_ids_that_have_relevant_behs(views_df, all_behs)\n",
    "    views_df= views_df[views_df[C.V_ID].isin(ids_of_relevant_views)]\n",
    "    \n",
    "    # for every label -> [behaviors] mapping\n",
    "    for label, label_behs in tqdm(beh_labels_dict.items()):\n",
    "        \n",
    "        # get all behaviors that are NOT dedicated for given label\n",
    "        other_behs = subtract_lists(all_behs, label_behs)\n",
    "\n",
    "        # for every view\n",
    "        for i, views_row in views_df.iterrows():\n",
    "\n",
    "            id = views_row[C.V_ID]\n",
    "            event_id = views_row[C.V_EVENT_ID]\n",
    "            video = views_row[C.V_VIDEO]\n",
    "            behs = views_row[C.V_BEH]\n",
    "\n",
    "            # leave only behs that we're interested in\n",
    "            behs = [beh for beh in behs if beh in all_behs]\n",
    "            \n",
    "            # if view doesn't have at least 1 label behavior we skip it\n",
    "            behs_for_label = [beh for beh in behs if beh in label_behs]\n",
    "            if len(behs) == 0:\n",
    "                continue\n",
    "            \n",
    "            # if view has even 1 other behavior we also skip it\n",
    "            has_other_beh = lists_intersect(behs, other_behs)\n",
    "            if has_other_beh:\n",
    "                continue\n",
    "\n",
    "            label = torch.tensor(label)\n",
    "\n",
    "            view_names = views_row[C.V_VIEWS]\n",
    "            view_name1 = view_names[0]\n",
    "            view_name2 = view_name1 if len(view_names) == 1 else view_names[1]\n",
    "\n",
    "            view1 = torch.load(f\"{views_dir}/{view_name1}.pt\")[0]\n",
    "            if view_name2 == view_name1:\n",
    "                view2 = view1\n",
    "            else:\n",
    "                view2 = torch.load(f\"{views_dir}/{view_name2}.pt\")[0]\n",
    "\n",
    "            views = torch.cat([view1, view2])\n",
    "\n",
    "            samples.append(Sample(id, event_id, video, views, label))\n",
    "\n",
    "    return samples"
   ]
  },
  {
   "cell_type": "code",
   "execution_count": 110,
   "metadata": {},
   "outputs": [],
   "source": [
    "class SamplesDataset(torch.utils.data.Dataset):\n",
    "    \n",
    "    def __init__(self, samples, allowed_ids=None):\n",
    "        super(SamplesDataset, self).__init__()\n",
    "        \n",
    "        self.index_to_id = {}\n",
    "        self.items_dict = {}\n",
    "        self.length = 0\n",
    "        \n",
    "        current_index = 0\n",
    "        \n",
    "        for index, sample in enumerate(samples):\n",
    "            if allowed_ids is None or sample.id in allowed_ids:\n",
    "                self.index_to_id[current_index] = sample.id\n",
    "                self.items_dict[sample.id] = sample\n",
    "                \n",
    "                current_index = current_index + 1\n",
    "                self.length = self.length + 1\n",
    "    \n",
    "    def get_all_ids(self):\n",
    "        return list(self.index_to_id.values())\n",
    "            \n",
    "    def get_by_id(self, id):\n",
    "        return self.items_dict[id]\n",
    "    \n",
    "    def __len__(self):\n",
    "        return len(self.items_dict)\n",
    "    \n",
    "    def __getitem__(self, idx):\n",
    "        if idx >= self.length:\n",
    "            raise IndexError\n",
    "\n",
    "        id = self.index_to_id[idx]\n",
    "        return self.items_dict[id]"
   ]
  },
  {
   "cell_type": "code",
   "execution_count": 111,
   "metadata": {},
   "outputs": [
    {
     "data": {
      "application/vnd.jupyter.widget-view+json": {
       "model_id": "c1178e3dc02b4f9b8d100d8b747597d1",
       "version_major": 2,
       "version_minor": 0
      },
      "text/plain": [
       "HBox(children=(FloatProgress(value=0.0, max=2.0), HTML(value='')))"
      ]
     },
     "metadata": {},
     "output_type": "display_data"
    },
    {
     "name": "stderr",
     "output_type": "stream",
     "text": [
      "/home/bjastrze/anaconda3/lib/python3.6/site-packages/ipykernel_launcher.py:68: UserWarning: To copy construct from a tensor, it is recommended to use sourceTensor.clone().detach() or sourceTensor.clone().detach().requires_grad_(True), rather than torch.tensor(sourceTensor).\n"
     ]
    },
    {
     "name": "stdout",
     "output_type": "stream",
     "text": [
      "\n"
     ]
    }
   ],
   "source": [
    "samples = create_samples(C.ALEX_NET_PATH, {\n",
    "    0: [C.B_CHARTS_S],\n",
    "    1: [C.B_EMPTY, C.B_WEBSITE_S, C.B_FILMS_S, C.B_WRITING]\n",
    "})"
   ]
  },
  {
   "cell_type": "code",
   "execution_count": 77,
   "metadata": {},
   "outputs": [
    {
     "data": {
      "text/plain": [
       "6802"
      ]
     },
     "execution_count": 77,
     "metadata": {},
     "output_type": "execute_result"
    }
   ],
   "source": [
    "len(samples)"
   ]
  },
  {
   "cell_type": "code",
   "execution_count": 95,
   "metadata": {},
   "outputs": [],
   "source": [
    "sd = SamplesDataset(samples)"
   ]
  },
  {
   "cell_type": "code",
   "execution_count": 96,
   "metadata": {},
   "outputs": [
    {
     "data": {
      "text/plain": [
       "6802"
      ]
     },
     "execution_count": 96,
     "metadata": {},
     "output_type": "execute_result"
    }
   ],
   "source": [
    "len(sd)"
   ]
  },
  {
   "cell_type": "code",
   "execution_count": 98,
   "metadata": {},
   "outputs": [],
   "source": [
    "views, label = sd[0].views, sd[0].label"
   ]
  },
  {
   "cell_type": "code",
   "execution_count": 99,
   "metadata": {},
   "outputs": [
    {
     "name": "stdout",
     "output_type": "stream",
     "text": [
      "torch.Size([2, 4096])\n",
      "tensor(0)\n"
     ]
    }
   ],
   "source": [
    "print(views.shape)\n",
    "print(label)"
   ]
  },
  {
   "cell_type": "code",
   "execution_count": 100,
   "metadata": {},
   "outputs": [],
   "source": [
    "def get_labels_distribution(labels):\n",
    "    count_dict = {}\n",
    "    for label in labels:\n",
    "        label = label.item()\n",
    "        if count_dict.get(label) is None:\n",
    "            count_dict[label] = 0\n",
    "        count_dict[label] = count_dict[label] + 1\n",
    "    return count_dict"
   ]
  },
  {
   "cell_type": "code",
   "execution_count": 101,
   "metadata": {},
   "outputs": [
    {
     "data": {
      "text/plain": [
       "{0: 1001, 1: 5801}"
      ]
     },
     "execution_count": 101,
     "metadata": {},
     "output_type": "execute_result"
    }
   ],
   "source": [
    "all_labels = [item.label for item in ds]\n",
    "labels_count = get_labels_distribution(all_labels)\n",
    "labels_count"
   ]
  },
  {
   "cell_type": "markdown",
   "metadata": {},
   "source": [
    "# Train, test, validation sets"
   ]
  },
  {
   "cell_type": "code",
   "execution_count": 102,
   "metadata": {},
   "outputs": [
    {
     "data": {
      "text/plain": [
       "6802"
      ]
     },
     "execution_count": 102,
     "metadata": {},
     "output_type": "execute_result"
    }
   ],
   "source": [
    "all_items_ids = list(train_set.get_all_ids())\n",
    "all_items_count = len(all_items_ids)\n",
    "all_items_count"
   ]
  },
  {
   "cell_type": "code",
   "execution_count": 103,
   "metadata": {},
   "outputs": [],
   "source": [
    "def split_into_sets(items, percentages):\n",
    "    items = np.array(items)\n",
    "    numpy.random.shuffle(items)\n",
    "    \n",
    "    splits = []\n",
    "    \n",
    "    length = len(items)\n",
    "    current_index = 0\n",
    "    \n",
    "    for p in percentages:\n",
    "        last_index = current_index + int(p * length)\n",
    "        \n",
    "        split = items[current_index:last_index]\n",
    "        splits.append(split)\n",
    "        \n",
    "        current_index = last_index\n",
    "    \n",
    "    return splits"
   ]
  },
  {
   "cell_type": "code",
   "execution_count": 104,
   "metadata": {},
   "outputs": [],
   "source": [
    "splits = split_into_sets(all_items_ids, [.5, .3, .2])"
   ]
  },
  {
   "cell_type": "code",
   "execution_count": 105,
   "metadata": {},
   "outputs": [
    {
     "name": "stdout",
     "output_type": "stream",
     "text": [
      "3\n",
      "3401\n",
      "2040\n",
      "1360\n",
      "6801\n"
     ]
    }
   ],
   "source": [
    "print(len(splits))\n",
    "length = 0\n",
    "for s in splits:\n",
    "    length = length + len(s)\n",
    "    print(len(s))\n",
    "print(length)"
   ]
  },
  {
   "cell_type": "code",
   "execution_count": 106,
   "metadata": {},
   "outputs": [],
   "source": [
    "train_ds = SamplesDataset(samples, splits[0])\n",
    "test_ds = SamplesDataset(samples, splits[1])\n",
    "validation_ds = SamplesDataset(samples, splits[2])"
   ]
  },
  {
   "cell_type": "code",
   "execution_count": 107,
   "metadata": {},
   "outputs": [
    {
     "name": "stdout",
     "output_type": "stream",
     "text": [
      "3401\n",
      "2040\n",
      "1360\n"
     ]
    }
   ],
   "source": [
    "print(len([s for s in train_ds]))\n",
    "print(len([s for s in test_ds]))\n",
    "print(len([s for s in validation_ds]))"
   ]
  },
  {
   "cell_type": "markdown",
   "metadata": {},
   "source": [
    "# Architecture model"
   ]
  },
  {
   "cell_type": "code",
   "execution_count": 186,
   "metadata": {},
   "outputs": [],
   "source": [
    "class SiameseEncoder(torch.nn.Module):\n",
    "    def __init__(self, input_size, hidden_size, output_size):\n",
    "        super(SiameseEncoder, self).__init__()\n",
    "        \n",
    "        # Layers\n",
    "        self.linear1 = torch.nn.Linear(input_size, hidden_size)\n",
    "        self.activation1 = torch.nn.LeakyReLU()\n",
    "        \n",
    "        self.linear2 = torch.nn.Linear(hidden_size, hidden_size)\n",
    "        self.activation2 = torch.nn.LeakyReLU()\n",
    "        \n",
    "        self.linear3 = torch.nn.Linear(hidden_size, hidden_size)\n",
    "        self.activation3 = torch.nn.LeakyReLU()\n",
    "                \n",
    "    def forward(self, X):\n",
    "        \"\"\"\n",
    "        X.shape = (time, number_of_views, input_size)\n",
    "        \"\"\"\n",
    "        \n",
    "        X = self.activation1(self.linear1(X))\n",
    "        X = self.activation2(self.linear2(X))\n",
    "        X = self.activation3(self.linear3(X))\n",
    "        \n",
    "        return X      "
   ]
  },
  {
   "cell_type": "code",
   "execution_count": 187,
   "metadata": {},
   "outputs": [],
   "source": [
    "class Classifier(torch.nn.Module):\n",
    "    def __init__(self, input_size, hidden_size, output_size):\n",
    "        super(Classifier, self).__init__()\n",
    "        \n",
    "        # Layers\n",
    "        self.linear1 = torch.nn.Linear(input_size, hidden_size)\n",
    "        self.activation1 = torch.nn.LeakyReLU()\n",
    "        \n",
    "        self.linear2 = torch.nn.Linear(hidden_size, hidden_size)\n",
    "        self.activation2 = torch.nn.LeakyReLU()\n",
    "         \n",
    "#         self.linear3 = torch.nn.Linear(hidden_size, output_size)\n",
    "#         self.activation3 = torch.nn.Sigmoid();\n",
    "\n",
    "        self.linear3 = torch.nn.Linear(hidden_size, output_size)\n",
    "        self.activation3 = torch.nn.LeakyReLU()\n",
    "        \n",
    "    def forward(self, X):\n",
    "        \"\"\"\n",
    "        X.shape = (time, input_size)\n",
    "        \"\"\"\n",
    "        \n",
    "        X = self.activation1(self.linear1(X))\n",
    "        X = self.activation2(self.linear2(X))\n",
    "#         X = self.activation3(self.linear3(X))\n",
    "        X = self.linear3(X)\n",
    "        \n",
    "#         return X\n",
    "        return X"
   ]
  },
  {
   "cell_type": "code",
   "execution_count": 188,
   "metadata": {},
   "outputs": [],
   "source": [
    "class FeatureClassifier(torch.nn.Module):\n",
    "    def __init__(self, input_size, encoder_hidden_size, classifier_hidden_size, output_size):\n",
    "        '''\n",
    "        Init method.\n",
    "        '''\n",
    "        super(FeatureClassifier, self).__init__()\n",
    "        \n",
    "        # Siamese Network\n",
    "        self.encoder = SiameseEncoder(input_size, encoder_hidden_size, encoder_hidden_size)\n",
    "        \n",
    "        # Pooling both\n",
    "        self.mp = torch.nn.MaxPool1d(2)\n",
    "        \n",
    "        # Classifier layer\n",
    "        self.classifier = Classifier(encoder_hidden_size, classifier_hidden_size, output_size)\n",
    "        \n",
    "    def forward(self, X):\n",
    "        '''\n",
    "        X.shape = (batch, views, encoding_size)\n",
    "        '''\n",
    "        X = self.encoder(X).permute(0,2,1)\n",
    "        X = self.mp(X).squeeze(2)\n",
    "        X = self.classifier(X)\n",
    "        \n",
    "        return X"
   ]
  },
  {
   "cell_type": "markdown",
   "metadata": {},
   "source": [
    "# Training"
   ]
  },
  {
   "cell_type": "code",
   "execution_count": 189,
   "metadata": {},
   "outputs": [],
   "source": [
    "import copy"
   ]
  },
  {
   "cell_type": "code",
   "execution_count": 190,
   "metadata": {},
   "outputs": [],
   "source": [
    "nn = FeatureClassifier(input_size=4096,\n",
    "                       encoder_hidden_size=2048,\n",
    "                       classifier_hidden_size=2048,\n",
    "                       output_size=9).to('cpu')"
   ]
  },
  {
   "cell_type": "code",
   "execution_count": 191,
   "metadata": {},
   "outputs": [],
   "source": [
    "train_loader = torch.utils.data.DataLoader(train, batch_size=200, shuffle=True)\n",
    "valid_loader = torch.utils.data.DataLoader(valid, batch_size=200, shuffle=False)\n",
    "test_loader  = torch.utils.data.DataLoader(test, batch_size=200, shuffle=False)"
   ]
  },
  {
   "cell_type": "code",
   "execution_count": 192,
   "metadata": {},
   "outputs": [],
   "source": [
    "opt = torch.optim.Adam(nn.parameters(), lr=0.001, weight_decay = 1e-2)"
   ]
  },
  {
   "cell_type": "code",
   "execution_count": 193,
   "metadata": {},
   "outputs": [],
   "source": [
    "loss = torch.nn.CrossEntropyLoss()"
   ]
  },
  {
   "cell_type": "code",
   "execution_count": 194,
   "metadata": {},
   "outputs": [],
   "source": [
    "X, y = next(iter(train_loader))"
   ]
  },
  {
   "cell_type": "code",
   "execution_count": 195,
   "metadata": {},
   "outputs": [
    {
     "name": "stdout",
     "output_type": "stream",
     "text": [
      "torch.Size([200, 2, 4096])\n",
      "tensor([2, 2, 2, 7, 2, 7, 2, 4, 2, 6, 2, 4, 7, 6, 3, 3, 0, 7, 2, 6, 2, 1, 4, 4,\n",
      "        1, 4, 4, 7, 4, 6, 4, 0, 2, 3, 2, 1, 2, 2, 4, 2, 2, 7, 2, 4, 2, 5, 2, 4,\n",
      "        2, 7, 2, 2, 4, 1, 2, 4, 1, 2, 2, 7, 1, 7, 2, 1, 2, 4, 2, 2, 1, 7, 1, 1,\n",
      "        7, 5, 6, 6, 3, 5, 7, 4, 4, 1, 2, 4, 4, 4, 4, 6, 2, 2, 4, 1, 6, 6, 5, 4,\n",
      "        4, 4, 2, 3, 6, 5, 8, 6, 2, 3, 5, 2, 1, 2, 2, 6, 4, 2, 7, 2, 2, 4, 5, 5,\n",
      "        6, 0, 4, 6, 4, 5, 4, 1, 2, 1, 2, 2, 2, 4, 7, 4, 2, 1, 4, 6, 2, 5, 7, 1,\n",
      "        4, 2, 6, 7, 6, 2, 4, 6, 4, 1, 5, 4, 4, 4, 4, 2, 0, 1, 6, 2, 2, 4, 6, 2,\n",
      "        2, 2, 6, 1, 3, 4, 2, 4, 1, 2, 2, 4, 2, 2, 5, 6, 7, 4, 4, 4, 5, 2, 0, 4,\n",
      "        0, 4, 6, 4, 1, 4, 3, 2])\n"
     ]
    },
    {
     "data": {
      "text/plain": [
       "torch.Size([200])"
      ]
     },
     "execution_count": 195,
     "metadata": {},
     "output_type": "execute_result"
    }
   ],
   "source": [
    "print(X.shape)\n",
    "print(y)\n",
    "y.shape"
   ]
  },
  {
   "cell_type": "code",
   "execution_count": 196,
   "metadata": {},
   "outputs": [
    {
     "name": "stdout",
     "output_type": "stream",
     "text": [
      "torch.Size([200, 9])\n"
     ]
    },
    {
     "data": {
      "text/plain": [
       "tensor([[ 0.0061,  0.0212, -0.0205,  ...,  0.0046,  0.0342, -0.0081],\n",
       "        [ 0.0018,  0.0164, -0.0186,  ..., -0.0084,  0.0404, -0.0104],\n",
       "        [ 0.0077,  0.0073, -0.0161,  ..., -0.0181,  0.0352, -0.0127],\n",
       "        ...,\n",
       "        [ 0.0016,  0.0069, -0.0226,  ..., -0.0007,  0.0318, -0.0153],\n",
       "        [ 0.0036,  0.0136, -0.0159,  ..., -0.0030,  0.0357, -0.0181],\n",
       "        [-0.0018,  0.0197, -0.0239,  ...,  0.0018,  0.0381, -0.0089]],\n",
       "       grad_fn=<AddmmBackward>)"
      ]
     },
     "execution_count": 196,
     "metadata": {},
     "output_type": "execute_result"
    }
   ],
   "source": [
    "pred = nn(X.to('cpu'))\n",
    "print(pred.shape)\n",
    "pred"
   ]
  },
  {
   "cell_type": "code",
   "execution_count": 197,
   "metadata": {},
   "outputs": [
    {
     "data": {
      "text/plain": [
       "tensor(2.1983, grad_fn=<NllLossBackward>)"
      ]
     },
     "execution_count": 197,
     "metadata": {},
     "output_type": "execute_result"
    }
   ],
   "source": [
    "loss(pred, y)"
   ]
  },
  {
   "cell_type": "code",
   "execution_count": 198,
   "metadata": {},
   "outputs": [],
   "source": [
    "nn = FeatureClassifier(input_size=4096,\n",
    "                       encoder_hidden_size=2048,\n",
    "                       classifier_hidden_size=2048,\n",
    "                       output_size=9).to('cuda')"
   ]
  },
  {
   "cell_type": "code",
   "execution_count": 199,
   "metadata": {},
   "outputs": [
    {
     "name": "stderr",
     "output_type": "stream",
     "text": [
      "EL: 50.7, VL: 51.6, Progress: 95.7%: 100%|██████████| 500/500 [03:49<00:00,  2.18it/s]\n"
     ]
    }
   ],
   "source": [
    "train_epoch_loss_chart = []\n",
    "train_batch_loss_chart = []\n",
    "valid_epoch_loss_chart = []\n",
    "\n",
    "EPOCHS = 500\n",
    "pbar = tqdm(range(EPOCHS))\n",
    "\n",
    "last_epoch_loss = 0\n",
    "valid_loss = 0\n",
    "best_valid_loss = float('inf')\n",
    "best_model = copy.deepcopy(nn.state_dict())\n",
    "for epoch in pbar:\n",
    "    \n",
    "    # Reset epoch_loss\n",
    "    epoch_loss = 0 \n",
    "    counter = 0\n",
    "    for X, y in train_loader:\n",
    "        \n",
    "        # Cuda\n",
    "        torch.cuda.empty_cache()\n",
    "        \n",
    "        # Zero gradient\n",
    "        opt.zero_grad()\n",
    "        \n",
    "        # Make prediction\n",
    "        pred = nn(X.to('cuda'))\n",
    "        \n",
    "        # Calculate loss\n",
    "        batch_loss = loss(pred, y.to('cuda'))\n",
    "        \n",
    "        # Backpropagation\n",
    "        batch_loss.backward()\n",
    "        \n",
    "        # Opt step\n",
    "        opt.step()\n",
    "        \n",
    "        # Update epoch_loss\n",
    "        batch_loss_value = batch_loss.detach().item()\n",
    "        epoch_loss += batch_loss_value\n",
    "        \n",
    "        # Add batch loss\n",
    "        train_batch_loss_chart.append(batch_loss_value)\n",
    "        \n",
    "        # Print Losses\n",
    "        epoch_loss_result = round(len(train_loader)*epoch_loss/(counter+1),1)\n",
    "        valid_loss_result = round(valid_loss, 1)\n",
    "        progress = round(counter/len(train_loader)*100, 1)\n",
    "        pbar.set_description(f'EL: {epoch_loss_result}, VL: {valid_loss_result}, Progress: {progress}%')\n",
    "        \n",
    "        # Update counter\n",
    "        counter += 1\n",
    "        \n",
    "    \n",
    "    # Update last\n",
    "    last_epoch_loss = epoch_loss\n",
    "    \n",
    "    # Update chart\n",
    "    train_epoch_loss_chart.append(epoch_loss)\n",
    "    \n",
    "    # Validation Dataset\n",
    "    \n",
    "    # Valid data\n",
    "    valid_loss = 0\n",
    "    for X, y in valid_loader:\n",
    "        valid_loss += loss(nn(X.to('cuda')), y.to('cuda')).detach().item()\n",
    "    valid_loss *= (len(train)/len(valid))\n",
    "    \n",
    "    # Saving Best Result:\n",
    "    if valid_loss < best_valid_loss:\n",
    "        best_model = copy.deepcopy(nn.state_dict())\n",
    "        best_valid_loss = valid_loss\n",
    "    \n",
    "    # Valid chart\n",
    "    valid_epoch_loss_chart.append(valid_loss)"
   ]
  },
  {
   "cell_type": "markdown",
   "metadata": {},
   "source": [
    "# Analysis of performance per class"
   ]
  },
  {
   "cell_type": "code",
   "execution_count": 152,
   "metadata": {},
   "outputs": [],
   "source": [
    "import math"
   ]
  },
  {
   "cell_type": "code",
   "execution_count": 153,
   "metadata": {},
   "outputs": [],
   "source": [
    "pred = []\n",
    "true = []\n",
    "for X, y in train_loader:\n",
    "    pred.append(nn(X.to('cuda')).to('cpu'))\n",
    "    true.append(y)\n",
    "where_equal = torch.cat(pred).max(1)[1] == torch.cat(true)"
   ]
  },
  {
   "cell_type": "code",
   "execution_count": 154,
   "metadata": {},
   "outputs": [
    {
     "data": {
      "text/plain": [
       "torch.Size([200, 2048])"
      ]
     },
     "execution_count": 154,
     "metadata": {},
     "output_type": "execute_result"
    }
   ],
   "source": [
    "# Prediction shape is 200 (batch size) times the number of possible classes\n",
    "pred[0].shape"
   ]
  },
  {
   "cell_type": "code",
   "execution_count": 155,
   "metadata": {},
   "outputs": [
    {
     "data": {
      "text/plain": [
       "torch.Size([4486, 2048])"
      ]
     },
     "execution_count": 155,
     "metadata": {},
     "output_type": "execute_result"
    }
   ],
   "source": [
    "torch.cat(pred).shape"
   ]
  },
  {
   "cell_type": "code",
   "execution_count": 156,
   "metadata": {},
   "outputs": [
    {
     "name": "stdout",
     "output_type": "stream",
     "text": [
      "torch.Size([2048])\n"
     ]
    },
    {
     "data": {
      "text/plain": [
       "tensor([-0.0124,  0.0083, -0.0140,  ...,  0.0112,  0.0233,  0.0323],\n",
       "       grad_fn=<SelectBackward>)"
      ]
     },
     "execution_count": 156,
     "metadata": {},
     "output_type": "execute_result"
    }
   ],
   "source": [
    "# Example prediction\n",
    "p = pred[0][0]\n",
    "print(p.shape)\n",
    "p"
   ]
  },
  {
   "cell_type": "code",
   "execution_count": 157,
   "metadata": {},
   "outputs": [
    {
     "data": {
      "text/plain": [
       "torch.return_types.max(\n",
       "values=tensor([0.0464, 0.0499, 0.0526,  ..., 0.0474, 0.0554, 0.0549],\n",
       "       grad_fn=<MaxBackward0>),\n",
       "indices=tensor([1711, 1711,  598,  ..., 1711, 1711, 1711]))"
      ]
     },
     "execution_count": 157,
     "metadata": {},
     "output_type": "execute_result"
    }
   ],
   "source": [
    "max_pred = torch.cat(pred).max(1)\n",
    "max_pred"
   ]
  },
  {
   "cell_type": "code",
   "execution_count": 158,
   "metadata": {},
   "outputs": [
    {
     "data": {
      "text/plain": [
       "torch.Size([9, 9])"
      ]
     },
     "execution_count": 158,
     "metadata": {},
     "output_type": "execute_result"
    }
   ],
   "source": [
    "zeros = torch.zeros(9,9)\n",
    "zeros.shape"
   ]
  },
  {
   "cell_type": "code",
   "execution_count": 159,
   "metadata": {},
   "outputs": [
    {
     "data": {
      "text/plain": [
       "tensor([[0., 0., 0., 0., 0., 0., 0., 0., 0.],\n",
       "        [0., 0., 0., 0., 0., 0., 0., 0., 0.],\n",
       "        [0., 0., 0., 0., 0., 0., 0., 0., 0.],\n",
       "        [0., 0., 0., 0., 0., 0., 0., 0., 0.],\n",
       "        [0., 0., 0., 0., 0., 0., 0., 0., 0.],\n",
       "        [0., 0., 0., 0., 0., 0., 0., 0., 0.],\n",
       "        [0., 0., 0., 0., 0., 0., 0., 0., 0.],\n",
       "        [0., 0., 0., 0., 0., 0., 0., 0., 0.],\n",
       "        [0., 0., 0., 0., 0., 0., 0., 0., 0.]])"
      ]
     },
     "execution_count": 159,
     "metadata": {},
     "output_type": "execute_result"
    }
   ],
   "source": [
    "zeros"
   ]
  },
  {
   "cell_type": "code",
   "execution_count": 160,
   "metadata": {},
   "outputs": [],
   "source": [
    "def measure_performance(nn, loader):\n",
    "    pred = []\n",
    "    true = []\n",
    "    for X, y in loader:\n",
    "        pred.append(nn(X.to('cuda')).to('cpu'))\n",
    "        true.append(y)\n",
    "    where_equal = torch.cat(pred).max(1)[1] == torch.cat(true)\n",
    "    \n",
    "    # Accuracy\n",
    "    acc = where_equal.float().mean().item()\n",
    "    \n",
    "    # Recall \n",
    "    recall = [where_equal[torch.cat(true) == i].float().mean().item() for i in range(9)]\n",
    "    \n",
    "    # Balanced accuracy \n",
    "    bacc = sum(recall)/len(recall)\n",
    "    \n",
    "    # Precision \n",
    "    precision = [0 if math.isnan(f) else f for f in [where_equal[torch.cat(pred).max(1)[1] == i].float().mean().item() for i in range(9)]]\n",
    "    \n",
    "    # Matrix of returns\n",
    "    odp = torch.zeros(9,9)\n",
    "    predicted = torch.cat(pred).max(1)[1].to('cpu')\n",
    "    for i in range(len(predicted)):\n",
    "        odp[predicted[i], torch.cat(true)[i]] += 1\n",
    "    \n",
    "    return {\n",
    "        'acc': acc,\n",
    "        'bacc': bacc,\n",
    "        'recall': recall,\n",
    "        'precision': precision,\n",
    "        'number_of_obs': len(predicted),\n",
    "        'matrix': odp\n",
    "    }"
   ]
  },
  {
   "cell_type": "markdown",
   "metadata": {},
   "source": [
    "# Set Weights to Best"
   ]
  },
  {
   "cell_type": "code",
   "execution_count": 161,
   "metadata": {},
   "outputs": [
    {
     "data": {
      "text/plain": [
       "<All keys matched successfully>"
      ]
     },
     "execution_count": 161,
     "metadata": {},
     "output_type": "execute_result"
    }
   ],
   "source": [
    "nn.load_state_dict(best_model)"
   ]
  },
  {
   "cell_type": "code",
   "execution_count": 162,
   "metadata": {},
   "outputs": [
    {
     "ename": "IndexError",
     "evalue": "index 1711 is out of bounds for dimension 0 with size 9",
     "output_type": "error",
     "traceback": [
      "\u001b[0;31m---------------------------------------------------------------------------\u001b[0m",
      "\u001b[0;31mIndexError\u001b[0m                                Traceback (most recent call last)",
      "\u001b[0;32m<ipython-input-162-505351f6e938>\u001b[0m in \u001b[0;36m<module>\u001b[0;34m\u001b[0m\n\u001b[0;32m----> 1\u001b[0;31m \u001b[0mmp_train\u001b[0m \u001b[0;34m=\u001b[0m \u001b[0mmeasure_performance\u001b[0m\u001b[0;34m(\u001b[0m\u001b[0mnn\u001b[0m\u001b[0;34m,\u001b[0m \u001b[0mtrain_loader\u001b[0m\u001b[0;34m)\u001b[0m\u001b[0;34m\u001b[0m\u001b[0;34m\u001b[0m\u001b[0m\n\u001b[0m\u001b[1;32m      2\u001b[0m \u001b[0mprint\u001b[0m\u001b[0;34m(\u001b[0m\u001b[0;34m'Train done!'\u001b[0m\u001b[0;34m)\u001b[0m\u001b[0;34m\u001b[0m\u001b[0;34m\u001b[0m\u001b[0m\n\u001b[1;32m      3\u001b[0m \u001b[0mmp_test\u001b[0m \u001b[0;34m=\u001b[0m \u001b[0mmeasure_performance\u001b[0m\u001b[0;34m(\u001b[0m\u001b[0mnn\u001b[0m\u001b[0;34m,\u001b[0m \u001b[0mtest_loader\u001b[0m\u001b[0;34m)\u001b[0m\u001b[0;34m\u001b[0m\u001b[0;34m\u001b[0m\u001b[0m\n\u001b[1;32m      4\u001b[0m \u001b[0mprint\u001b[0m\u001b[0;34m(\u001b[0m\u001b[0;34m'Test done!'\u001b[0m\u001b[0;34m)\u001b[0m\u001b[0;34m\u001b[0m\u001b[0;34m\u001b[0m\u001b[0m\n\u001b[1;32m      5\u001b[0m \u001b[0mmp_valid\u001b[0m \u001b[0;34m=\u001b[0m \u001b[0mmeasure_performance\u001b[0m\u001b[0;34m(\u001b[0m\u001b[0mnn\u001b[0m\u001b[0;34m,\u001b[0m \u001b[0mvalid_loader\u001b[0m\u001b[0;34m)\u001b[0m\u001b[0;34m\u001b[0m\u001b[0;34m\u001b[0m\u001b[0m\n",
      "\u001b[0;32m<ipython-input-160-0d779af28909>\u001b[0m in \u001b[0;36mmeasure_performance\u001b[0;34m(nn, loader)\u001b[0m\n\u001b[1;32m     23\u001b[0m     \u001b[0mpredicted\u001b[0m \u001b[0;34m=\u001b[0m \u001b[0mtorch\u001b[0m\u001b[0;34m.\u001b[0m\u001b[0mcat\u001b[0m\u001b[0;34m(\u001b[0m\u001b[0mpred\u001b[0m\u001b[0;34m)\u001b[0m\u001b[0;34m.\u001b[0m\u001b[0mmax\u001b[0m\u001b[0;34m(\u001b[0m\u001b[0;36m1\u001b[0m\u001b[0;34m)\u001b[0m\u001b[0;34m[\u001b[0m\u001b[0;36m1\u001b[0m\u001b[0;34m]\u001b[0m\u001b[0;34m.\u001b[0m\u001b[0mto\u001b[0m\u001b[0;34m(\u001b[0m\u001b[0;34m'cpu'\u001b[0m\u001b[0;34m)\u001b[0m\u001b[0;34m\u001b[0m\u001b[0;34m\u001b[0m\u001b[0m\n\u001b[1;32m     24\u001b[0m     \u001b[0;32mfor\u001b[0m \u001b[0mi\u001b[0m \u001b[0;32min\u001b[0m \u001b[0mrange\u001b[0m\u001b[0;34m(\u001b[0m\u001b[0mlen\u001b[0m\u001b[0;34m(\u001b[0m\u001b[0mpredicted\u001b[0m\u001b[0;34m)\u001b[0m\u001b[0;34m)\u001b[0m\u001b[0;34m:\u001b[0m\u001b[0;34m\u001b[0m\u001b[0;34m\u001b[0m\u001b[0m\n\u001b[0;32m---> 25\u001b[0;31m         \u001b[0modp\u001b[0m\u001b[0;34m[\u001b[0m\u001b[0mpredicted\u001b[0m\u001b[0;34m[\u001b[0m\u001b[0mi\u001b[0m\u001b[0;34m]\u001b[0m\u001b[0;34m,\u001b[0m \u001b[0mtorch\u001b[0m\u001b[0;34m.\u001b[0m\u001b[0mcat\u001b[0m\u001b[0;34m(\u001b[0m\u001b[0mtrue\u001b[0m\u001b[0;34m)\u001b[0m\u001b[0;34m[\u001b[0m\u001b[0mi\u001b[0m\u001b[0;34m]\u001b[0m\u001b[0;34m]\u001b[0m \u001b[0;34m+=\u001b[0m \u001b[0;36m1\u001b[0m\u001b[0;34m\u001b[0m\u001b[0;34m\u001b[0m\u001b[0m\n\u001b[0m\u001b[1;32m     26\u001b[0m \u001b[0;34m\u001b[0m\u001b[0m\n\u001b[1;32m     27\u001b[0m     return {\n",
      "\u001b[0;31mIndexError\u001b[0m: index 1711 is out of bounds for dimension 0 with size 9"
     ]
    }
   ],
   "source": [
    "mp_train = measure_performance(nn, train_loader)\n",
    "print('Train done!')\n",
    "mp_test = measure_performance(nn, test_loader)\n",
    "print('Test done!')\n",
    "mp_valid = measure_performance(nn, valid_loader)\n",
    "print('Valid done!')"
   ]
  },
  {
   "cell_type": "markdown",
   "metadata": {},
   "source": [
    "# Visualizations"
   ]
  },
  {
   "cell_type": "code",
   "execution_count": 124,
   "metadata": {},
   "outputs": [],
   "source": [
    "name_of_data = ALEX_NET_FRAME_VIEWS_DIR.split('/')[2].split('Views')[0]"
   ]
  },
  {
   "cell_type": "code",
   "execution_count": 126,
   "metadata": {},
   "outputs": [
    {
     "data": {
      "text/plain": [
       "<matplotlib.legend.Legend at 0x7fdb5c07c4e0>"
      ]
     },
     "execution_count": 126,
     "metadata": {},
     "output_type": "execute_result"
    },
    {
     "data": {
      "image/png": "[encoded data removed]",
      "text/plain": [
       "<Figure size 432x288 with 1 Axes>"
      ]
     },
     "metadata": {
      "needs_background": "light"
     },
     "output_type": "display_data"
    }
   ],
   "source": [
    "plt.plot(valid_epoch_loss_chart, label='Validation Loss', c='r')\n",
    "plt.plot(train_epoch_loss_chart, label='Training Loss')\n",
    "plt.title('Validation & Train Loss per Epoch')\n",
    "plt.xlabel('Epoch')\n",
    "plt.ylabel('Loss')\n",
    "plt.legend()\n",
    "# plt.savefig(f'./Plots/{name_of_data}___Validation_Training_Loss', dpi=300)"
   ]
  },
  {
   "cell_type": "markdown",
   "metadata": {},
   "source": [
    "### Acc"
   ]
  },
  {
   "cell_type": "code",
   "execution_count": 94,
   "metadata": {},
   "outputs": [
    {
     "ename": "NameError",
     "evalue": "name 'mp_train' is not defined",
     "output_type": "error",
     "traceback": [
      "\u001b[0;31m---------------------------------------------------------------------------\u001b[0m",
      "\u001b[0;31mNameError\u001b[0m                                 Traceback (most recent call last)",
      "\u001b[0;32m<ipython-input-94-a93d54cedf71>\u001b[0m in \u001b[0;36m<module>\u001b[0;34m\u001b[0m\n\u001b[0;32m----> 1\u001b[0;31m \u001b[0mplt\u001b[0m\u001b[0;34m.\u001b[0m\u001b[0mbar\u001b[0m\u001b[0;34m(\u001b[0m\u001b[0mx\u001b[0m\u001b[0;34m=\u001b[0m\u001b[0;34m[\u001b[0m\u001b[0;34m'Training Set'\u001b[0m\u001b[0;34m,\u001b[0m \u001b[0;34m'Validation Set'\u001b[0m\u001b[0;34m,\u001b[0m \u001b[0;34m'Test Set'\u001b[0m\u001b[0;34m]\u001b[0m\u001b[0;34m,\u001b[0m \u001b[0mheight\u001b[0m\u001b[0;34m=\u001b[0m\u001b[0;34m[\u001b[0m\u001b[0mmp_train\u001b[0m\u001b[0;34m[\u001b[0m\u001b[0;34m'acc'\u001b[0m\u001b[0;34m]\u001b[0m\u001b[0;34m,\u001b[0m\u001b[0mmp_valid\u001b[0m\u001b[0;34m[\u001b[0m\u001b[0;34m'acc'\u001b[0m\u001b[0;34m]\u001b[0m\u001b[0;34m,\u001b[0m\u001b[0mmp_test\u001b[0m\u001b[0;34m[\u001b[0m\u001b[0;34m'acc'\u001b[0m\u001b[0;34m]\u001b[0m\u001b[0;34m]\u001b[0m\u001b[0;34m)\u001b[0m\u001b[0;34m\u001b[0m\u001b[0;34m\u001b[0m\u001b[0m\n\u001b[0m\u001b[1;32m      2\u001b[0m \u001b[0mplt\u001b[0m\u001b[0;34m.\u001b[0m\u001b[0mtitle\u001b[0m\u001b[0;34m(\u001b[0m\u001b[0;34m'Accuracy for Train, Validation and Test Sets'\u001b[0m\u001b[0;34m)\u001b[0m\u001b[0;34m\u001b[0m\u001b[0;34m\u001b[0m\u001b[0m\n\u001b[1;32m      3\u001b[0m \u001b[0mplt\u001b[0m\u001b[0;34m.\u001b[0m\u001b[0mylim\u001b[0m\u001b[0;34m(\u001b[0m\u001b[0;34m[\u001b[0m\u001b[0;36m0\u001b[0m\u001b[0;34m,\u001b[0m\u001b[0;36m1\u001b[0m\u001b[0;34m]\u001b[0m\u001b[0;34m)\u001b[0m\u001b[0;34m\u001b[0m\u001b[0;34m\u001b[0m\u001b[0m\n\u001b[1;32m      4\u001b[0m \u001b[0mplt\u001b[0m\u001b[0;34m.\u001b[0m\u001b[0mylabel\u001b[0m\u001b[0;34m(\u001b[0m\u001b[0;34m'Accuracy'\u001b[0m\u001b[0;34m)\u001b[0m\u001b[0;34m\u001b[0m\u001b[0;34m\u001b[0m\u001b[0m\n\u001b[1;32m      5\u001b[0m \u001b[0mplt\u001b[0m\u001b[0;34m.\u001b[0m\u001b[0mtext\u001b[0m\u001b[0;34m(\u001b[0m\u001b[0;34m-\u001b[0m\u001b[0;36m.25\u001b[0m\u001b[0;34m,\u001b[0m \u001b[0;36m.5\u001b[0m\u001b[0;34m,\u001b[0m \u001b[0mround\u001b[0m\u001b[0;34m(\u001b[0m\u001b[0mmp_train\u001b[0m\u001b[0;34m[\u001b[0m\u001b[0;34m'acc'\u001b[0m\u001b[0;34m]\u001b[0m\u001b[0;34m,\u001b[0m\u001b[0;36m3\u001b[0m\u001b[0;34m)\u001b[0m\u001b[0;34m,\u001b[0m \u001b[0mc\u001b[0m\u001b[0;34m=\u001b[0m\u001b[0;34m'white'\u001b[0m\u001b[0;34m,\u001b[0m \u001b[0msize\u001b[0m\u001b[0;34m=\u001b[0m\u001b[0;36m20\u001b[0m\u001b[0;34m)\u001b[0m\u001b[0;34m\u001b[0m\u001b[0;34m\u001b[0m\u001b[0m\n",
      "\u001b[0;31mNameError\u001b[0m: name 'mp_train' is not defined"
     ]
    }
   ],
   "source": [
    "plt.bar(x=['Training Set', 'Validation Set', 'Test Set'], height=[mp_train['acc'],mp_valid['acc'],mp_test['acc']])\n",
    "plt.title('Accuracy for Train, Validation and Test Sets')\n",
    "plt.ylim([0,1])\n",
    "plt.ylabel('Accuracy')\n",
    "plt.text(-.25, .5, round(mp_train['acc'],3), c='white', size=20)\n",
    "plt.text(-.25 + 1, .5, round(mp_valid['acc'],3), c='white', size=20)\n",
    "plt.text(-.25 + 2, .5, round(mp_test['acc'],3), c='white', size=20)\n",
    "plt.savefig(f'./Plots/{name_of_data}___ACC', dpi=300)"
   ]
  },
  {
   "cell_type": "code",
   "execution_count": null,
   "metadata": {},
   "outputs": [],
   "source": []
  }
 ],
 "metadata": {
  "kernelspec": {
   "display_name": "Python 3",
   "language": "python",
   "name": "python3"
  },
  "language_info": {
   "codemirror_mode": {
    "name": "ipython",
    "version": 3
   },
   "file_extension": ".py",
   "mimetype": "text/x-python",
   "name": "python",
   "nbconvert_exporter": "python",
   "pygments_lexer": "ipython3",
   "version": "3.6.10"
  }
 },
 "nbformat": 4,
 "nbformat_minor": 4
}
