{
 "cells": [
  {
   "cell_type": "code",
   "execution_count": 8,
   "metadata": {},
   "outputs": [
    {
     "name": "stdout",
     "output_type": "stream",
     "text": [
      "Constants loaded\n"
     ]
    }
   ],
   "source": [
    "%run /home/dbaciur/NTU/NTU/notes/Constants.ipynb\n",
    "%run /home/dbaciur/NTU/NTU/notes/CommonUtils.ipynb"
   ]
  },
  {
   "cell_type": "markdown",
   "metadata": {},
   "source": [
    "Generation of frames make take a long time and something might broke in the meantime. This file is here just to pick up frames generation if it stopped."
   ]
  },
  {
   "cell_type": "code",
   "execution_count": 9,
   "metadata": {},
   "outputs": [],
   "source": [
    "import torch\n",
    "import torchvision as tv\n",
    "\n",
    "import os\n",
    "import matplotlib.pyplot as plt\n",
    "import pandas as pd\n",
    "from tqdm import tqdm_notebook as tqdm\n",
    "import numpy as np\n",
    "import intervals as I\n",
    "import moviepy\n",
    "from pathlib import Path\n",
    "from moviepy.editor import VideoFileClip\n",
    "import pandas as pd"
   ]
  },
  {
   "cell_type": "markdown",
   "metadata": {},
   "source": [
    "### Load frames"
   ]
  },
  {
   "cell_type": "code",
   "execution_count": 10,
   "metadata": {
    "scrolled": true
   },
   "outputs": [
    {
     "data": {
      "text/html": [
       "<div>\n",
       "<style scoped>\n",
       "    .dataframe tbody tr th:only-of-type {\n",
       "        vertical-align: middle;\n",
       "    }\n",
       "\n",
       "    .dataframe tbody tr th {\n",
       "        vertical-align: top;\n",
       "    }\n",
       "\n",
       "    .dataframe thead th {\n",
       "        text-align: right;\n",
       "    }\n",
       "</style>\n",
       "<table border=\"1\" class=\"dataframe\">\n",
       "  <thead>\n",
       "    <tr style=\"text-align: right;\">\n",
       "      <th></th>\n",
       "      <th>Id</th>\n",
       "      <th>Video</th>\n",
       "      <th>Time</th>\n",
       "      <th>Event id</th>\n",
       "      <th>Beh id</th>\n",
       "      <th>RA</th>\n",
       "      <th>Collision events</th>\n",
       "      <th>Behs</th>\n",
       "      <th>Layout</th>\n",
       "      <th>Layouts</th>\n",
       "      <th>Splits</th>\n",
       "      <th>Origin</th>\n",
       "    </tr>\n",
       "  </thead>\n",
       "  <tbody>\n",
       "    <tr>\n",
       "      <th>0</th>\n",
       "      <td>PH1104-MECHANICS_20150817_PC1__2886.1575000000...</td>\n",
       "      <td>PH1104-MECHANICS_20150817_PC1</td>\n",
       "      <td>2886.1575</td>\n",
       "      <td>729</td>\n",
       "      <td>B_WRITING_BOARD</td>\n",
       "      <td>RA13</td>\n",
       "      <td>[]</td>\n",
       "      <td>[]</td>\n",
       "      <td>4</td>\n",
       "      <td>[1, 2]</td>\n",
       "      <td>[PH1104-MECHANICS_20150817_PC1__2886.157500000...</td>\n",
       "      <td>new_frames_for_chart_image_label_0_gap_10</td>\n",
       "    </tr>\n",
       "    <tr>\n",
       "      <th>1</th>\n",
       "      <td>PH1104-MECHANICS_20150817_PC1__44.2295__738__B...</td>\n",
       "      <td>PH1104-MECHANICS_20150817_PC1</td>\n",
       "      <td>44.2295</td>\n",
       "      <td>738</td>\n",
       "      <td>B_MOVEMENT</td>\n",
       "      <td>RA2</td>\n",
       "      <td>[]</td>\n",
       "      <td>[]</td>\n",
       "      <td>5</td>\n",
       "      <td>[2, 1]</td>\n",
       "      <td>[PH1104-MECHANICS_20150817_PC1__44.2295__738__...</td>\n",
       "      <td>new_frames_for_chart_image_label_0_gap_10</td>\n",
       "    </tr>\n",
       "    <tr>\n",
       "      <th>2</th>\n",
       "      <td>PH1104-MECHANICS_20150817_PC1__1881.4025__751_...</td>\n",
       "      <td>PH1104-MECHANICS_20150817_PC1</td>\n",
       "      <td>1881.4025</td>\n",
       "      <td>751</td>\n",
       "      <td>B_STANDS</td>\n",
       "      <td>RA2</td>\n",
       "      <td>[]</td>\n",
       "      <td>[]</td>\n",
       "      <td>5</td>\n",
       "      <td>[2, 1]</td>\n",
       "      <td>[PH1104-MECHANICS_20150817_PC1__1881.4025__751...</td>\n",
       "      <td>new_frames_for_chart_image_label_0_gap_10</td>\n",
       "    </tr>\n",
       "    <tr>\n",
       "      <th>3</th>\n",
       "      <td>PH1104-MECHANICS_20150817_PC1__1967.781__752__...</td>\n",
       "      <td>PH1104-MECHANICS_20150817_PC1</td>\n",
       "      <td>1967.7810</td>\n",
       "      <td>752</td>\n",
       "      <td>B_STANDS</td>\n",
       "      <td>RA2</td>\n",
       "      <td>[]</td>\n",
       "      <td>[]</td>\n",
       "      <td>4</td>\n",
       "      <td>[1, 2]</td>\n",
       "      <td>[PH1104-MECHANICS_20150817_PC1__1967.781__752_...</td>\n",
       "      <td>new_frames_for_chart_image_label_0_gap_10</td>\n",
       "    </tr>\n",
       "    <tr>\n",
       "      <th>4</th>\n",
       "      <td>PH1104-MECHANICS_20150817_PC1__2687.4440000000...</td>\n",
       "      <td>PH1104-MECHANICS_20150817_PC1</td>\n",
       "      <td>2687.4440</td>\n",
       "      <td>763</td>\n",
       "      <td>B_WRITING_BOARD</td>\n",
       "      <td>RA2</td>\n",
       "      <td>[]</td>\n",
       "      <td>[]</td>\n",
       "      <td>4</td>\n",
       "      <td>[1, 2]</td>\n",
       "      <td>[PH1104-MECHANICS_20150817_PC1__2687.444000000...</td>\n",
       "      <td>new_frames_for_chart_image_label_0_gap_10</td>\n",
       "    </tr>\n",
       "  </tbody>\n",
       "</table>\n",
       "</div>"
      ],
      "text/plain": [
       "                                                  Id  \\\n",
       "0  PH1104-MECHANICS_20150817_PC1__2886.1575000000...   \n",
       "1  PH1104-MECHANICS_20150817_PC1__44.2295__738__B...   \n",
       "2  PH1104-MECHANICS_20150817_PC1__1881.4025__751_...   \n",
       "3  PH1104-MECHANICS_20150817_PC1__1967.781__752__...   \n",
       "4  PH1104-MECHANICS_20150817_PC1__2687.4440000000...   \n",
       "\n",
       "                           Video       Time  Event id           Beh id    RA  \\\n",
       "0  PH1104-MECHANICS_20150817_PC1  2886.1575       729  B_WRITING_BOARD  RA13   \n",
       "1  PH1104-MECHANICS_20150817_PC1    44.2295       738       B_MOVEMENT   RA2   \n",
       "2  PH1104-MECHANICS_20150817_PC1  1881.4025       751         B_STANDS   RA2   \n",
       "3  PH1104-MECHANICS_20150817_PC1  1967.7810       752         B_STANDS   RA2   \n",
       "4  PH1104-MECHANICS_20150817_PC1  2687.4440       763  B_WRITING_BOARD   RA2   \n",
       "\n",
       "  Collision events Behs  Layout Layouts  \\\n",
       "0               []   []       4  [1, 2]   \n",
       "1               []   []       5  [2, 1]   \n",
       "2               []   []       5  [2, 1]   \n",
       "3               []   []       4  [1, 2]   \n",
       "4               []   []       4  [1, 2]   \n",
       "\n",
       "                                              Splits  \\\n",
       "0  [PH1104-MECHANICS_20150817_PC1__2886.157500000...   \n",
       "1  [PH1104-MECHANICS_20150817_PC1__44.2295__738__...   \n",
       "2  [PH1104-MECHANICS_20150817_PC1__1881.4025__751...   \n",
       "3  [PH1104-MECHANICS_20150817_PC1__1967.781__752_...   \n",
       "4  [PH1104-MECHANICS_20150817_PC1__2687.444000000...   \n",
       "\n",
       "                                      Origin  \n",
       "0  new_frames_for_chart_image_label_0_gap_10  \n",
       "1  new_frames_for_chart_image_label_0_gap_10  \n",
       "2  new_frames_for_chart_image_label_0_gap_10  \n",
       "3  new_frames_for_chart_image_label_0_gap_10  \n",
       "4  new_frames_for_chart_image_label_0_gap_10  "
      ]
     },
     "execution_count": 10,
     "metadata": {},
     "output_type": "execute_result"
    }
   ],
   "source": [
    "frames_df = pd.read_csv(C.Frames.CHART_IMAGE_S10_LABEL_0, converters=C.F_CONVERTERS)\n",
    "frames_df.head()"
   ]
  },
  {
   "cell_type": "markdown",
   "metadata": {},
   "source": [
    "### Generate screenshots"
   ]
  },
  {
   "cell_type": "code",
   "execution_count": 11,
   "metadata": {},
   "outputs": [],
   "source": [
    "Path(C.Frames.FRAMES_SCREENSHOTS_PATH).mkdir(exist_ok=True)"
   ]
  },
  {
   "cell_type": "code",
   "execution_count": 12,
   "metadata": {},
   "outputs": [
    {
     "name": "stdout",
     "output_type": "stream",
     "text": [
      "17S1-MH1100-LEC_20170825__181.496__25590__B_WEBSITE_S__RA14\n",
      "13539\n"
     ]
    }
   ],
   "source": [
    "already_generated = []\n",
    "for file in os.listdir(C.Frames.FRAMES_SCREENSHOTS_PATH):\n",
    "    frame_id = file[:-3]\n",
    "    already_generated.append(frame_id)\n",
    "    \n",
    "print(already_generated[0])\n",
    "print(len(already_generated))"
   ]
  },
  {
   "cell_type": "code",
   "execution_count": 13,
   "metadata": {},
   "outputs": [
    {
     "data": {
      "text/plain": [
       "0"
      ]
     },
     "execution_count": 13,
     "metadata": {},
     "output_type": "execute_result"
    }
   ],
   "source": [
    "still_to_generate = []\n",
    "for frame_id in frames_df[C.F_ID].unique():\n",
    "    if frame_id not in already_generated:\n",
    "        still_to_generate.append(frame_id)\n",
    "        \n",
    "# still_to_generate and print(still_to_generate)  \n",
    "len(still_to_generate)"
   ]
  },
  {
   "cell_type": "code",
   "execution_count": null,
   "metadata": {},
   "outputs": [
    {
     "data": {
      "application/vnd.jupyter.widget-view+json": {
       "model_id": "398d282e81de48e595a7cef9cdd69c50",
       "version_major": 2,
       "version_minor": 0
      },
      "text/plain": [
       "HBox(children=(FloatProgress(value=0.0, max=96.0), HTML(value='')))"
      ]
     },
     "metadata": {},
     "output_type": "display_data"
    },
    {
     "name": "stderr",
     "output_type": "stream",
     "text": [
      "SEI type 64 size 256 truncated at 250\n"
     ]
    }
   ],
   "source": [
    "for video_name, video_df in tqdm(frames_df.groupby(C.F_VIDEO)):\n",
    "    \n",
    "    for i, event in video_df.iterrows():\n",
    "        time = event[C.F_TIME]\n",
    "        frame_name = event[C.F_ID]\n",
    "        \n",
    "        if frame_name not in still_to_generate:\n",
    "            continue\n",
    "        \n",
    "        frame = tv.io.read_video(f\"{C.ORIGINAL_VIDEOS_DIR}/{video_name}.mp4\", start_pts=time, end_pts=time, pts_unit='sec')[0]\n",
    "        torch.save(frame, f'{C.Frames.FRAMES_SCREENSHOTS_PATH}/{frame_name}.pt')"
   ]
  },
  {
   "cell_type": "markdown",
   "metadata": {},
   "source": [
    "### Check behaviors distribution"
   ]
  },
  {
   "cell_type": "code",
   "execution_count": 21,
   "metadata": {},
   "outputs": [
    {
     "data": {
      "text/plain": [
       "{'B_CHARTS_P': 2248,\n",
       " 'B_IMAGES_P': 1746,\n",
       " 'B_WEBSITE_P': 162,\n",
       " 'B_FILMS_P': 309,\n",
       " 'B_SESSIONS_P': 587}"
      ]
     },
     "execution_count": 21,
     "metadata": {},
     "output_type": "execute_result"
    }
   ],
   "source": [
    "frames_df = pd.read_csv(C.Frames.FRAMES_DF_DRAFT_PATH, converters=C.F_CONVERTERS)\n",
    "\n",
    "behs_count = {}\n",
    "for _, frame in frames_df.iterrows():\n",
    "    \n",
    "    beh = frame[C.F_BEH_ID]\n",
    "    if beh not in behs_count:\n",
    "        behs_count[beh] = 0\n",
    "        \n",
    "    behs_count[beh] += 1\n",
    "\n",
    "behs_count"
   ]
  },
  {
   "cell_type": "code",
   "execution_count": null,
   "metadata": {},
   "outputs": [],
   "source": []
  }
 ],
 "metadata": {
  "kernelspec": {
   "display_name": "Python 3",
   "language": "python",
   "name": "python3"
  },
  "language_info": {
   "codemirror_mode": {
    "name": "ipython",
    "version": 3
   },
   "file_extension": ".py",
   "mimetype": "text/x-python",
   "name": "python",
   "nbconvert_exporter": "python",
   "pygments_lexer": "ipython3",
   "version": "3.6.10"
  }
 },
 "nbformat": 4,
 "nbformat_minor": 4
}
